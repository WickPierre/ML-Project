{
 "cells": [
  {
   "cell_type": "code",
   "execution_count": 8,
   "id": "initial_id",
   "metadata": {
    "ExecuteTime": {
     "end_time": "2025-04-16T07:54:22.301356Z",
     "start_time": "2025-04-16T07:54:18.098370Z"
    }
   },
   "outputs": [],
   "source": [
    "import torch\n",
    "import torch.nn as nn\n",
    "import os\n",
    "from torch.utils.data import DataLoader\n",
    "import numpy as np\n",
    "from sklearn.metrics import f1_score\n",
    "import matplotlib.pyplot as plt\n",
    "from tqdm import tqdm\n",
    "\n",
    "from training_utils import Config, load_data"
   ]
  },
  {
   "cell_type": "code",
   "execution_count": 10,
   "id": "21bfbc78d1a8efb3",
   "metadata": {},
   "outputs": [],
   "source": [
    "class SqueezeExcite(nn.Module):\n",
    "    def __init__(self, in_channels, reduction=4):\n",
    "        super().__init__()\n",
    "        self.se = nn.Sequential(\n",
    "            nn.AdaptiveAvgPool2d(1),\n",
    "            nn.Conv2d(in_channels, in_channels // reduction, 1),\n",
    "            nn.SiLU(),\n",
    "            nn.Conv2d(in_channels // reduction, in_channels, 1),\n",
    "            nn.Sigmoid()\n",
    "        )\n",
    "\n",
    "    def forward(self, x):\n",
    "        scale = self.se(x)\n",
    "        return x * scale\n",
    "\n",
    "\n",
    "class MBConvBlock(nn.Module):\n",
    "    def __init__(self, in_channels, out_channels, expand_ratio, stride):\n",
    "        super().__init__()\n",
    "        hidden_dim = in_channels * expand_ratio\n",
    "        self.use_residual = (in_channels == out_channels and stride == 1)\n",
    "        self.expand_ratio = expand_ratio\n",
    "\n",
    "        layers = []\n",
    "        if expand_ratio != 1:\n",
    "            layers.append(nn.Conv2d(in_channels, hidden_dim, kernel_size=1, bias=False))\n",
    "            layers.append(nn.BatchNorm2d(hidden_dim))\n",
    "            layers.append(nn.SiLU())\n",
    "        else:\n",
    "            hidden_dim = in_channels  # IMPORTANT: actual conv input\n",
    "\n",
    "        layers.append(nn.Conv2d(hidden_dim, hidden_dim, kernel_size=3, stride=stride, padding=1, groups=hidden_dim, bias=False))\n",
    "        layers.append(nn.BatchNorm2d(hidden_dim))\n",
    "        layers.append(nn.SiLU())\n",
    "\n",
    "        self.se = SqueezeExcite(hidden_dim)  # must match conv output dim\n",
    "\n",
    "        layers.append(nn.Conv2d(hidden_dim, out_channels, kernel_size=1, bias=False))\n",
    "        layers.append(nn.BatchNorm2d(out_channels))\n",
    "\n",
    "        self.block = nn.Sequential(*layers)\n",
    "\n",
    "    def forward(self, x):\n",
    "        if self.expand_ratio != 1:\n",
    "            out = self.block[0:3](x)\n",
    "            out = self.block[3](out)  # depthwise\n",
    "            out = self.block[4](out)\n",
    "            out = self.block[5](out)\n",
    "            out = self.se(out)\n",
    "            out = self.block[6:](out)\n",
    "        else:\n",
    "            out = self.block[0](x)\n",
    "            out = self.block[1](out)\n",
    "            out = self.block[2](out)\n",
    "            out = self.se(out)\n",
    "            out = self.block[3:](out)\n",
    "        return x + out if self.use_residual else out\n",
    "\n",
    "\n",
    "class CustomEfficientNet(nn.Module):\n",
    "    def __init__(self, config):\n",
    "        super().__init__()\n",
    "        self.stem = nn.Sequential(\n",
    "            nn.Conv2d(3, 32, kernel_size=3, stride=2, padding=1, bias=False),\n",
    "            nn.BatchNorm2d(32),\n",
    "            nn.SiLU()\n",
    "        )\n",
    "\n",
    "        self.blocks = nn.Sequential(\n",
    "            MBConvBlock(32, 16, expand_ratio=1, stride=1),\n",
    "            MBConvBlock(16, 24, expand_ratio=6, stride=2),\n",
    "            MBConvBlock(24, 24, expand_ratio=6, stride=1),\n",
    "            MBConvBlock(24, 40, expand_ratio=6, stride=2),\n",
    "            MBConvBlock(40, 40, expand_ratio=6, stride=1),\n",
    "            MBConvBlock(40, 80, expand_ratio=6, stride=2),\n",
    "            MBConvBlock(80, 80, expand_ratio=6, stride=1),\n",
    "            MBConvBlock(80, 112, expand_ratio=6, stride=1),\n",
    "            MBConvBlock(112, 112, expand_ratio=6, stride=1),\n",
    "            MBConvBlock(112, 192, expand_ratio=6, stride=2),\n",
    "            MBConvBlock(192, 192, expand_ratio=6, stride=1),\n",
    "            MBConvBlock(192, 320, expand_ratio=6, stride=1)\n",
    "        )\n",
    "\n",
    "        self.head = nn.Sequential(\n",
    "            nn.Conv2d(320, 1280, kernel_size=1, bias=False),\n",
    "            nn.BatchNorm2d(1280),\n",
    "            nn.SiLU(),\n",
    "            nn.AdaptiveAvgPool2d(1),\n",
    "            nn.Flatten(),\n",
    "            nn.Dropout(0.4),\n",
    "            nn.Linear(1280, 512),\n",
    "            nn.ReLU(),\n",
    "            nn.Dropout(0.3),\n",
    "            nn.Linear(512, 128),\n",
    "            nn.ReLU(),\n",
    "            nn.Linear(128, config.num_classes)\n",
    "        )\n",
    "\n",
    "    def forward(self, x):\n",
    "        x = self.stem(x)\n",
    "        x = self.blocks(x)\n",
    "        return self.head(x)\n",
    "\n",
    "\n",
    "class PoseTrainer:\n",
    "    def __init__(self, config, device):\n",
    "        self.config = config\n",
    "        self.device = device\n",
    "        self.best_metric = 0\n",
    "        self.train_set, self.val_set, self.test_set = load_data(config)\n",
    "\n",
    "        self.train_loader = DataLoader(\n",
    "            self.train_set,\n",
    "            batch_size=config.batch_size,\n",
    "            shuffle=True,\n",
    "            num_workers=6,\n",
    "            pin_memory=True,\n",
    "            prefetch_factor=4,\n",
    "            persistent_workers=True\n",
    "        )\n",
    "        self.val_loader = DataLoader(\n",
    "            self.val_set,\n",
    "            batch_size=config.batch_size,\n",
    "            num_workers=6,\n",
    "            pin_memory=True,\n",
    "            prefetch_factor=4,\n",
    "            persistent_workers=True\n",
    "        )\n",
    "        self.test_loader = DataLoader(\n",
    "            self.test_set,\n",
    "            batch_size=config.batch_size,\n",
    "            num_workers=6,\n",
    "            pin_memory=True,\n",
    "            prefetch_factor=4,\n",
    "            persistent_workers=True\n",
    "        )\n",
    "\n",
    "        self.model = CustomEfficientNet(config).to(device)\n",
    "        self.optimizer = torch.optim.AdamW(self.model.parameters(), lr=config.lr, weight_decay=config.weight_decay)\n",
    "        self.scheduler = torch.optim.lr_scheduler.CosineAnnealingLR(self.optimizer, T_max=config.epochs)\n",
    "        self.criterion = nn.CrossEntropyLoss()\n",
    "        self.scaler = torch.cuda.amp.GradScaler(enabled=device.type != 'cpu')\n",
    "\n",
    "    def train(self):\n",
    "        os.makedirs(self.config.save_dir, exist_ok=True)\n",
    "        history = {'train_loss': [], 'val_loss': [], 'val_acc': [], 'val_f1': []}\n",
    "\n",
    "        for epoch in range(self.config.epochs):\n",
    "            self.model.train()\n",
    "            total_loss = 0\n",
    "            all_preds, all_labels = [], []\n",
    "\n",
    "            for images, labels in tqdm(self.train_loader, desc=f\"Epoch {epoch+1}/{self.config.epochs}\"):\n",
    "                images, labels = images.to(self.device, non_blocking=True), labels.to(self.device, non_blocking=True)\n",
    "                self.optimizer.zero_grad()\n",
    "                with torch.cuda.amp.autocast(enabled=self.device.type != 'cpu'):\n",
    "                    outputs = self.model(images)\n",
    "                    loss = self.criterion(outputs, labels)\n",
    "                self.scaler.scale(loss).backward()\n",
    "                self.scaler.step(self.optimizer)\n",
    "                self.scaler.update()\n",
    "\n",
    "                total_loss += loss.item()\n",
    "                preds = torch.argmax(outputs, dim=1).detach().cpu().numpy()\n",
    "                all_preds.extend(preds)\n",
    "                all_labels.extend(labels.detach().cpu().numpy())\n",
    "\n",
    "            val_metrics = self.evaluate(self.val_loader)\n",
    "            self.scheduler.step()\n",
    "\n",
    "            history['train_loss'].append(total_loss / len(self.train_loader))\n",
    "            history['val_loss'].append(val_metrics['loss'])\n",
    "            history['val_acc'].append(val_metrics['accuracy'])\n",
    "            history['val_f1'].append(val_metrics['f1'])\n",
    "\n",
    "            print(f\"Val F1: {val_metrics['f1']:.4f} | Val Acc: {val_metrics['accuracy']:.4f}\")\n",
    "\n",
    "            if val_metrics['f1'] > self.best_metric:\n",
    "                self.best_metric = val_metrics['f1']\n",
    "                torch.save(self.model.state_dict(), os.path.join(self.config.save_dir, 'best_model.pth'))\n",
    "\n",
    "        self.plot_training(history)\n",
    "\n",
    "    def evaluate(self, loader):\n",
    "        self.model.eval()\n",
    "        total_loss = 0\n",
    "        all_preds, all_labels = [], []\n",
    "\n",
    "        with torch.no_grad():\n",
    "            for images, labels in loader:\n",
    "                images, labels = images.to(self.device, non_blocking=True), labels.to(self.device, non_blocking=True)\n",
    "                with torch.cuda.amp.autocast(enabled=self.device.type != 'cpu'):\n",
    "                    outputs = self.model(images)\n",
    "                    loss = self.criterion(outputs, labels)\n",
    "                total_loss += loss.item()\n",
    "                preds = torch.argmax(outputs, dim=1).cpu().numpy()\n",
    "                all_preds.extend(preds)\n",
    "                all_labels.extend(labels.cpu().numpy())\n",
    "\n",
    "        return {\n",
    "            'loss': total_loss / len(loader),\n",
    "            'accuracy': np.mean(np.array(all_preds) == np.array(all_labels)),\n",
    "            'f1': f1_score(all_labels, all_preds, average='weighted')\n",
    "        }\n",
    "\n",
    "    def plot_training(self, history):\n",
    "        plt.figure(figsize=(15, 5))\n",
    "        plt.subplot(1, 3, 1)\n",
    "        plt.plot(history['train_loss'], label='Train Loss')\n",
    "        plt.plot(history['val_loss'], label='Val Loss')\n",
    "        plt.legend()\n",
    "        plt.title('Loss')\n",
    "\n",
    "        plt.subplot(1, 3, 2)\n",
    "        plt.plot(history['val_acc'], label='Val Acc')\n",
    "        plt.legend()\n",
    "        plt.title('Accuracy')\n",
    "\n",
    "        plt.subplot(1, 3, 3)\n",
    "        plt.plot(history['val_f1'], label='Val F1')\n",
    "        plt.legend()\n",
    "        plt.title('F1 Score')\n",
    "\n",
    "        plt.tight_layout()\n",
    "        plt.savefig(os.path.join(self.config.save_dir, 'training_metrics.png'))\n",
    "        plt.show()"
   ]
  },
  {
   "cell_type": "code",
   "execution_count": 12,
   "id": "33b0571e-0a85-4c7b-90ac-c52ffac196f8",
   "metadata": {},
   "outputs": [
    {
     "name": "stdout",
     "output_type": "stream",
     "text": [
      "\n",
      "[1/4] Загрузка данных...\n",
      "Пример данных:\n",
      "   img_id  target_feature\n",
      "0   17363               2\n",
      "1    8612               5\n",
      "2    8244               0\n",
      "3    9264               0\n",
      "4    5382               6\n",
      "\n",
      "[2/4] Валидация данных...\n",
      "Данных после очистки: 12367\n",
      "\n",
      "[3/4] Проверка изображений...\n",
      "Найдено изображений: 12367\n",
      "Данных после фильтрации: 12367\n",
      "\n",
      "[4/4] Разделение данных...\n"
     ]
    },
    {
     "name": "stderr",
     "output_type": "stream",
     "text": [
      "/var/folders/06/4mfvxfgx51scnyqsczh6cd900000gn/T/ipykernel_26329/3831681715.py:142: FutureWarning: `torch.cuda.amp.GradScaler(args...)` is deprecated. Please use `torch.amp.GradScaler('cuda', args...)` instead.\n",
      "  self.scaler = torch.cuda.amp.GradScaler(enabled=device.type != 'cpu')\n",
      "/opt/anaconda3/lib/python3.12/site-packages/torch/amp/grad_scaler.py:132: UserWarning: torch.cuda.amp.GradScaler is enabled, but CUDA is not available.  Disabling.\n",
      "  warnings.warn(\n"
     ]
    },
    {
     "name": "stdout",
     "output_type": "stream",
     "text": [
      "====================================================================================================\n",
      "Layer (type:depth-idx)                             Output Shape              Param #\n",
      "====================================================================================================\n",
      "CustomEfficientNet                                 [32, 20]                  --\n",
      "├─Sequential: 1-1                                  [32, 32, 112, 112]        --\n",
      "│    └─Conv2d: 2-1                                 [32, 32, 112, 112]        864\n",
      "│    └─BatchNorm2d: 2-2                            [32, 32, 112, 112]        64\n",
      "│    └─SiLU: 2-3                                   [32, 32, 112, 112]        --\n",
      "├─Sequential: 1-2                                  [32, 320, 7, 7]           --\n",
      "│    └─MBConvBlock: 2-4                            [32, 16, 112, 112]        --\n",
      "│    │    └─Sequential: 3-3                        --                        (recursive)\n",
      "│    │    └─SqueezeExcite: 3-2                     [32, 32, 112, 112]        552\n",
      "│    │    └─Sequential: 3-3                        --                        (recursive)\n",
      "│    └─MBConvBlock: 2-5                            [32, 24, 56, 56]          --\n",
      "│    │    └─Sequential: 3-6                        --                        (recursive)\n",
      "│    │    └─SqueezeExcite: 3-5                     [32, 96, 56, 56]          4,728\n",
      "│    │    └─Sequential: 3-6                        --                        (recursive)\n",
      "│    └─MBConvBlock: 2-6                            [32, 24, 56, 56]          --\n",
      "│    │    └─Sequential: 3-9                        --                        (recursive)\n",
      "│    │    └─SqueezeExcite: 3-8                     [32, 144, 56, 56]         10,548\n",
      "│    │    └─Sequential: 3-9                        --                        (recursive)\n",
      "│    └─MBConvBlock: 2-7                            [32, 40, 28, 28]          --\n",
      "│    │    └─Sequential: 3-12                       --                        (recursive)\n",
      "│    │    └─SqueezeExcite: 3-11                    [32, 144, 28, 28]         10,548\n",
      "│    │    └─Sequential: 3-12                       --                        (recursive)\n",
      "│    └─MBConvBlock: 2-8                            [32, 40, 28, 28]          --\n",
      "│    │    └─Sequential: 3-15                       --                        (recursive)\n",
      "│    │    └─SqueezeExcite: 3-14                    [32, 240, 28, 28]         29,100\n",
      "│    │    └─Sequential: 3-15                       --                        (recursive)\n",
      "│    └─MBConvBlock: 2-9                            [32, 80, 14, 14]          --\n",
      "│    │    └─Sequential: 3-18                       --                        (recursive)\n",
      "│    │    └─SqueezeExcite: 3-17                    [32, 240, 14, 14]         29,100\n",
      "│    │    └─Sequential: 3-18                       --                        (recursive)\n",
      "│    └─MBConvBlock: 2-10                           [32, 80, 14, 14]          --\n",
      "│    │    └─Sequential: 3-21                       --                        (recursive)\n",
      "│    │    └─SqueezeExcite: 3-20                    [32, 480, 14, 14]         115,800\n",
      "│    │    └─Sequential: 3-21                       --                        (recursive)\n",
      "│    └─MBConvBlock: 2-11                           [32, 112, 14, 14]         --\n",
      "│    │    └─Sequential: 3-24                       --                        (recursive)\n",
      "│    │    └─SqueezeExcite: 3-23                    [32, 480, 14, 14]         115,800\n",
      "│    │    └─Sequential: 3-24                       --                        (recursive)\n",
      "│    └─MBConvBlock: 2-12                           [32, 112, 14, 14]         --\n",
      "│    │    └─Sequential: 3-27                       --                        (recursive)\n",
      "│    │    └─SqueezeExcite: 3-26                    [32, 672, 14, 14]         226,632\n",
      "│    │    └─Sequential: 3-27                       --                        (recursive)\n",
      "│    └─MBConvBlock: 2-13                           [32, 192, 7, 7]           --\n",
      "│    │    └─Sequential: 3-30                       --                        (recursive)\n",
      "│    │    └─SqueezeExcite: 3-29                    [32, 672, 7, 7]           226,632\n",
      "│    │    └─Sequential: 3-30                       --                        (recursive)\n",
      "│    └─MBConvBlock: 2-14                           [32, 192, 7, 7]           --\n",
      "│    │    └─Sequential: 3-33                       --                        (recursive)\n",
      "│    │    └─SqueezeExcite: 3-32                    [32, 1152, 7, 7]          664,992\n",
      "│    │    └─Sequential: 3-33                       --                        (recursive)\n",
      "│    └─MBConvBlock: 2-15                           [32, 320, 7, 7]           --\n",
      "│    │    └─Sequential: 3-36                       --                        (recursive)\n",
      "│    │    └─SqueezeExcite: 3-35                    [32, 1152, 7, 7]          664,992\n",
      "│    │    └─Sequential: 3-36                       --                        (recursive)\n",
      "├─Sequential: 1-3                                  [32, 20]                  --\n",
      "│    └─Conv2d: 2-16                                [32, 1280, 7, 7]          409,600\n",
      "│    └─BatchNorm2d: 2-17                           [32, 1280, 7, 7]          2,560\n",
      "│    └─SiLU: 2-18                                  [32, 1280, 7, 7]          --\n",
      "│    └─AdaptiveAvgPool2d: 2-19                     [32, 1280, 1, 1]          --\n",
      "│    └─Flatten: 2-20                               [32, 1280]                --\n",
      "│    └─Dropout: 2-21                               [32, 1280]                --\n",
      "│    └─Linear: 2-22                                [32, 512]                 655,872\n",
      "│    └─ReLU: 2-23                                  [32, 512]                 --\n",
      "│    └─Dropout: 2-24                               [32, 512]                 --\n",
      "│    └─Linear: 2-25                                [32, 128]                 65,664\n",
      "│    └─ReLU: 2-26                                  [32, 128]                 --\n",
      "│    └─Linear: 2-27                                [32, 20]                  2,580\n",
      "====================================================================================================\n",
      "Total params: 4,935,028\n",
      "Trainable params: 4,935,028\n",
      "Non-trainable params: 0\n",
      "Total mult-adds (Units.GIGABYTES): 9.02\n",
      "====================================================================================================\n",
      "Input size (MB): 19.27\n",
      "Forward/backward pass size (MB): 3075.91\n",
      "Params size (MB): 19.74\n",
      "Estimated Total Size (MB): 3114.92\n",
      "====================================================================================================\n"
     ]
    },
    {
     "name": "stderr",
     "output_type": "stream",
     "text": [
      "Epoch 1/50:   0%|                                                                                  | 0/271 [00:00<?, ?it/s]/var/folders/06/4mfvxfgx51scnyqsczh6cd900000gn/T/ipykernel_26329/3831681715.py:156: FutureWarning: `torch.cuda.amp.autocast(args...)` is deprecated. Please use `torch.amp.autocast('cuda', args...)` instead.\n",
      "  with torch.cuda.amp.autocast(enabled=self.device.type != 'cpu'):\n",
      "/opt/anaconda3/lib/python3.12/site-packages/torch/amp/autocast_mode.py:266: UserWarning: User provided device_type of 'cuda', but CUDA is not available. Disabling\n",
      "  warnings.warn(\n",
      "Epoch 1/50: 100%|████████████████████████████████████████████████████████████████████████| 271/271 [00:59<00:00,  4.52it/s]\n",
      "/var/folders/06/4mfvxfgx51scnyqsczh6cd900000gn/T/ipykernel_26329/3831681715.py:192: FutureWarning: `torch.cuda.amp.autocast(args...)` is deprecated. Please use `torch.amp.autocast('cuda', args...)` instead.\n",
      "  with torch.cuda.amp.autocast(enabled=self.device.type != 'cpu'):\n"
     ]
    },
    {
     "name": "stdout",
     "output_type": "stream",
     "text": [
      "Val F1: 0.1689 | Val Acc: 0.2566\n"
     ]
    },
    {
     "name": "stderr",
     "output_type": "stream",
     "text": [
      "Epoch 2/50:   0%|                                                                                  | 0/271 [00:00<?, ?it/s]/var/folders/06/4mfvxfgx51scnyqsczh6cd900000gn/T/ipykernel_26329/3831681715.py:156: FutureWarning: `torch.cuda.amp.autocast(args...)` is deprecated. Please use `torch.amp.autocast('cuda', args...)` instead.\n",
      "  with torch.cuda.amp.autocast(enabled=self.device.type != 'cpu'):\n",
      "/opt/anaconda3/lib/python3.12/site-packages/torch/amp/autocast_mode.py:266: UserWarning: User provided device_type of 'cuda', but CUDA is not available. Disabling\n",
      "  warnings.warn(\n",
      "Epoch 2/50: 100%|████████████████████████████████████████████████████████████████████████| 271/271 [00:47<00:00,  5.76it/s]\n",
      "/var/folders/06/4mfvxfgx51scnyqsczh6cd900000gn/T/ipykernel_26329/3831681715.py:192: FutureWarning: `torch.cuda.amp.autocast(args...)` is deprecated. Please use `torch.amp.autocast('cuda', args...)` instead.\n",
      "  with torch.cuda.amp.autocast(enabled=self.device.type != 'cpu'):\n"
     ]
    },
    {
     "name": "stdout",
     "output_type": "stream",
     "text": [
      "Val F1: 0.1925 | Val Acc: 0.2604\n"
     ]
    },
    {
     "name": "stderr",
     "output_type": "stream",
     "text": [
      "Epoch 3/50:   0%|                                                                                  | 0/271 [00:00<?, ?it/s]/var/folders/06/4mfvxfgx51scnyqsczh6cd900000gn/T/ipykernel_26329/3831681715.py:156: FutureWarning: `torch.cuda.amp.autocast(args...)` is deprecated. Please use `torch.amp.autocast('cuda', args...)` instead.\n",
      "  with torch.cuda.amp.autocast(enabled=self.device.type != 'cpu'):\n",
      "/opt/anaconda3/lib/python3.12/site-packages/torch/amp/autocast_mode.py:266: UserWarning: User provided device_type of 'cuda', but CUDA is not available. Disabling\n",
      "  warnings.warn(\n",
      "Epoch 3/50: 100%|████████████████████████████████████████████████████████████████████████| 271/271 [00:45<00:00,  5.92it/s]\n",
      "/var/folders/06/4mfvxfgx51scnyqsczh6cd900000gn/T/ipykernel_26329/3831681715.py:192: FutureWarning: `torch.cuda.amp.autocast(args...)` is deprecated. Please use `torch.amp.autocast('cuda', args...)` instead.\n",
      "  with torch.cuda.amp.autocast(enabled=self.device.type != 'cpu'):\n"
     ]
    },
    {
     "name": "stdout",
     "output_type": "stream",
     "text": [
      "Val F1: 0.2510 | Val Acc: 0.3013\n"
     ]
    },
    {
     "name": "stderr",
     "output_type": "stream",
     "text": [
      "Epoch 4/50:   0%|                                                                                  | 0/271 [00:00<?, ?it/s]/var/folders/06/4mfvxfgx51scnyqsczh6cd900000gn/T/ipykernel_26329/3831681715.py:156: FutureWarning: `torch.cuda.amp.autocast(args...)` is deprecated. Please use `torch.amp.autocast('cuda', args...)` instead.\n",
      "  with torch.cuda.amp.autocast(enabled=self.device.type != 'cpu'):\n",
      "/opt/anaconda3/lib/python3.12/site-packages/torch/amp/autocast_mode.py:266: UserWarning: User provided device_type of 'cuda', but CUDA is not available. Disabling\n",
      "  warnings.warn(\n",
      "Epoch 4/50: 100%|████████████████████████████████████████████████████████████████████████| 271/271 [00:44<00:00,  6.06it/s]\n",
      "/var/folders/06/4mfvxfgx51scnyqsczh6cd900000gn/T/ipykernel_26329/3831681715.py:192: FutureWarning: `torch.cuda.amp.autocast(args...)` is deprecated. Please use `torch.amp.autocast('cuda', args...)` instead.\n",
      "  with torch.cuda.amp.autocast(enabled=self.device.type != 'cpu'):\n"
     ]
    },
    {
     "name": "stdout",
     "output_type": "stream",
     "text": [
      "Val F1: 0.2809 | Val Acc: 0.3229\n"
     ]
    },
    {
     "name": "stderr",
     "output_type": "stream",
     "text": [
      "Epoch 5/50:   0%|                                                                                  | 0/271 [00:00<?, ?it/s]/var/folders/06/4mfvxfgx51scnyqsczh6cd900000gn/T/ipykernel_26329/3831681715.py:156: FutureWarning: `torch.cuda.amp.autocast(args...)` is deprecated. Please use `torch.amp.autocast('cuda', args...)` instead.\n",
      "  with torch.cuda.amp.autocast(enabled=self.device.type != 'cpu'):\n",
      "/opt/anaconda3/lib/python3.12/site-packages/torch/amp/autocast_mode.py:266: UserWarning: User provided device_type of 'cuda', but CUDA is not available. Disabling\n",
      "  warnings.warn(\n",
      "Epoch 5/50: 100%|████████████████████████████████████████████████████████████████████████| 271/271 [00:45<00:00,  5.96it/s]\n",
      "/var/folders/06/4mfvxfgx51scnyqsczh6cd900000gn/T/ipykernel_26329/3831681715.py:192: FutureWarning: `torch.cuda.amp.autocast(args...)` is deprecated. Please use `torch.amp.autocast('cuda', args...)` instead.\n",
      "  with torch.cuda.amp.autocast(enabled=self.device.type != 'cpu'):\n"
     ]
    },
    {
     "name": "stdout",
     "output_type": "stream",
     "text": [
      "Val F1: 0.2612 | Val Acc: 0.3084\n"
     ]
    },
    {
     "name": "stderr",
     "output_type": "stream",
     "text": [
      "Epoch 6/50:   0%|                                                                                  | 0/271 [00:00<?, ?it/s]/var/folders/06/4mfvxfgx51scnyqsczh6cd900000gn/T/ipykernel_26329/3831681715.py:156: FutureWarning: `torch.cuda.amp.autocast(args...)` is deprecated. Please use `torch.amp.autocast('cuda', args...)` instead.\n",
      "  with torch.cuda.amp.autocast(enabled=self.device.type != 'cpu'):\n",
      "/opt/anaconda3/lib/python3.12/site-packages/torch/amp/autocast_mode.py:266: UserWarning: User provided device_type of 'cuda', but CUDA is not available. Disabling\n",
      "  warnings.warn(\n",
      "Epoch 6/50: 100%|████████████████████████████████████████████████████████████████████████| 271/271 [00:45<00:00,  5.99it/s]\n",
      "/var/folders/06/4mfvxfgx51scnyqsczh6cd900000gn/T/ipykernel_26329/3831681715.py:192: FutureWarning: `torch.cuda.amp.autocast(args...)` is deprecated. Please use `torch.amp.autocast('cuda', args...)` instead.\n",
      "  with torch.cuda.amp.autocast(enabled=self.device.type != 'cpu'):\n"
     ]
    },
    {
     "name": "stdout",
     "output_type": "stream",
     "text": [
      "Val F1: 0.2745 | Val Acc: 0.3240\n"
     ]
    },
    {
     "name": "stderr",
     "output_type": "stream",
     "text": [
      "Epoch 7/50:   0%|                                                                                  | 0/271 [00:00<?, ?it/s]/var/folders/06/4mfvxfgx51scnyqsczh6cd900000gn/T/ipykernel_26329/3831681715.py:156: FutureWarning: `torch.cuda.amp.autocast(args...)` is deprecated. Please use `torch.amp.autocast('cuda', args...)` instead.\n",
      "  with torch.cuda.amp.autocast(enabled=self.device.type != 'cpu'):\n",
      "/opt/anaconda3/lib/python3.12/site-packages/torch/amp/autocast_mode.py:266: UserWarning: User provided device_type of 'cuda', but CUDA is not available. Disabling\n",
      "  warnings.warn(\n",
      "Epoch 7/50: 100%|████████████████████████████████████████████████████████████████████████| 271/271 [00:47<00:00,  5.76it/s]\n",
      "/var/folders/06/4mfvxfgx51scnyqsczh6cd900000gn/T/ipykernel_26329/3831681715.py:192: FutureWarning: `torch.cuda.amp.autocast(args...)` is deprecated. Please use `torch.amp.autocast('cuda', args...)` instead.\n",
      "  with torch.cuda.amp.autocast(enabled=self.device.type != 'cpu'):\n"
     ]
    },
    {
     "name": "stdout",
     "output_type": "stream",
     "text": [
      "Val F1: 0.2937 | Val Acc: 0.3526\n"
     ]
    },
    {
     "name": "stderr",
     "output_type": "stream",
     "text": [
      "Epoch 8/50:   0%|                                                                                  | 0/271 [00:00<?, ?it/s]/var/folders/06/4mfvxfgx51scnyqsczh6cd900000gn/T/ipykernel_26329/3831681715.py:156: FutureWarning: `torch.cuda.amp.autocast(args...)` is deprecated. Please use `torch.amp.autocast('cuda', args...)` instead.\n",
      "  with torch.cuda.amp.autocast(enabled=self.device.type != 'cpu'):\n",
      "/opt/anaconda3/lib/python3.12/site-packages/torch/amp/autocast_mode.py:266: UserWarning: User provided device_type of 'cuda', but CUDA is not available. Disabling\n",
      "  warnings.warn(\n",
      "Epoch 8/50: 100%|████████████████████████████████████████████████████████████████████████| 271/271 [00:48<00:00,  5.62it/s]\n",
      "/var/folders/06/4mfvxfgx51scnyqsczh6cd900000gn/T/ipykernel_26329/3831681715.py:192: FutureWarning: `torch.cuda.amp.autocast(args...)` is deprecated. Please use `torch.amp.autocast('cuda', args...)` instead.\n",
      "  with torch.cuda.amp.autocast(enabled=self.device.type != 'cpu'):\n"
     ]
    },
    {
     "name": "stdout",
     "output_type": "stream",
     "text": [
      "Val F1: 0.3260 | Val Acc: 0.3650\n"
     ]
    },
    {
     "name": "stderr",
     "output_type": "stream",
     "text": [
      "Epoch 9/50:   0%|                                                                                  | 0/271 [00:00<?, ?it/s]/var/folders/06/4mfvxfgx51scnyqsczh6cd900000gn/T/ipykernel_26329/3831681715.py:156: FutureWarning: `torch.cuda.amp.autocast(args...)` is deprecated. Please use `torch.amp.autocast('cuda', args...)` instead.\n",
      "  with torch.cuda.amp.autocast(enabled=self.device.type != 'cpu'):\n",
      "/opt/anaconda3/lib/python3.12/site-packages/torch/amp/autocast_mode.py:266: UserWarning: User provided device_type of 'cuda', but CUDA is not available. Disabling\n",
      "  warnings.warn(\n",
      "Epoch 9/50: 100%|████████████████████████████████████████████████████████████████████████| 271/271 [00:49<00:00,  5.47it/s]\n",
      "/var/folders/06/4mfvxfgx51scnyqsczh6cd900000gn/T/ipykernel_26329/3831681715.py:192: FutureWarning: `torch.cuda.amp.autocast(args...)` is deprecated. Please use `torch.amp.autocast('cuda', args...)` instead.\n",
      "  with torch.cuda.amp.autocast(enabled=self.device.type != 'cpu'):\n"
     ]
    },
    {
     "name": "stdout",
     "output_type": "stream",
     "text": [
      "Val F1: 0.3333 | Val Acc: 0.3693\n"
     ]
    },
    {
     "name": "stderr",
     "output_type": "stream",
     "text": [
      "Epoch 10/50:   0%|                                                                                 | 0/271 [00:00<?, ?it/s]/var/folders/06/4mfvxfgx51scnyqsczh6cd900000gn/T/ipykernel_26329/3831681715.py:156: FutureWarning: `torch.cuda.amp.autocast(args...)` is deprecated. Please use `torch.amp.autocast('cuda', args...)` instead.\n",
      "  with torch.cuda.amp.autocast(enabled=self.device.type != 'cpu'):\n",
      "/opt/anaconda3/lib/python3.12/site-packages/torch/amp/autocast_mode.py:266: UserWarning: User provided device_type of 'cuda', but CUDA is not available. Disabling\n",
      "  warnings.warn(\n",
      "Epoch 10/50: 100%|███████████████████████████████████████████████████████████████████████| 271/271 [00:50<00:00,  5.40it/s]\n",
      "/var/folders/06/4mfvxfgx51scnyqsczh6cd900000gn/T/ipykernel_26329/3831681715.py:192: FutureWarning: `torch.cuda.amp.autocast(args...)` is deprecated. Please use `torch.amp.autocast('cuda', args...)` instead.\n",
      "  with torch.cuda.amp.autocast(enabled=self.device.type != 'cpu'):\n"
     ]
    },
    {
     "name": "stdout",
     "output_type": "stream",
     "text": [
      "Val F1: 0.3300 | Val Acc: 0.3698\n"
     ]
    },
    {
     "name": "stderr",
     "output_type": "stream",
     "text": [
      "Epoch 11/50:   0%|                                                                                 | 0/271 [00:00<?, ?it/s]/var/folders/06/4mfvxfgx51scnyqsczh6cd900000gn/T/ipykernel_26329/3831681715.py:156: FutureWarning: `torch.cuda.amp.autocast(args...)` is deprecated. Please use `torch.amp.autocast('cuda', args...)` instead.\n",
      "  with torch.cuda.amp.autocast(enabled=self.device.type != 'cpu'):\n",
      "/opt/anaconda3/lib/python3.12/site-packages/torch/amp/autocast_mode.py:266: UserWarning: User provided device_type of 'cuda', but CUDA is not available. Disabling\n",
      "  warnings.warn(\n",
      "Epoch 11/50: 100%|███████████████████████████████████████████████████████████████████████| 271/271 [00:48<00:00,  5.53it/s]\n",
      "/var/folders/06/4mfvxfgx51scnyqsczh6cd900000gn/T/ipykernel_26329/3831681715.py:192: FutureWarning: `torch.cuda.amp.autocast(args...)` is deprecated. Please use `torch.amp.autocast('cuda', args...)` instead.\n",
      "  with torch.cuda.amp.autocast(enabled=self.device.type != 'cpu'):\n"
     ]
    },
    {
     "name": "stdout",
     "output_type": "stream",
     "text": [
      "Val F1: 0.3323 | Val Acc: 0.3736\n"
     ]
    },
    {
     "name": "stderr",
     "output_type": "stream",
     "text": [
      "Epoch 12/50:   0%|                                                                                 | 0/271 [00:00<?, ?it/s]/var/folders/06/4mfvxfgx51scnyqsczh6cd900000gn/T/ipykernel_26329/3831681715.py:156: FutureWarning: `torch.cuda.amp.autocast(args...)` is deprecated. Please use `torch.amp.autocast('cuda', args...)` instead.\n",
      "  with torch.cuda.amp.autocast(enabled=self.device.type != 'cpu'):\n",
      "/opt/anaconda3/lib/python3.12/site-packages/torch/amp/autocast_mode.py:266: UserWarning: User provided device_type of 'cuda', but CUDA is not available. Disabling\n",
      "  warnings.warn(\n",
      "Epoch 12/50: 100%|███████████████████████████████████████████████████████████████████████| 271/271 [00:48<00:00,  5.61it/s]\n",
      "/var/folders/06/4mfvxfgx51scnyqsczh6cd900000gn/T/ipykernel_26329/3831681715.py:192: FutureWarning: `torch.cuda.amp.autocast(args...)` is deprecated. Please use `torch.amp.autocast('cuda', args...)` instead.\n",
      "  with torch.cuda.amp.autocast(enabled=self.device.type != 'cpu'):\n"
     ]
    },
    {
     "name": "stdout",
     "output_type": "stream",
     "text": [
      "Val F1: 0.3308 | Val Acc: 0.3790\n"
     ]
    },
    {
     "name": "stderr",
     "output_type": "stream",
     "text": [
      "Epoch 13/50:   0%|                                                                                 | 0/271 [00:00<?, ?it/s]/var/folders/06/4mfvxfgx51scnyqsczh6cd900000gn/T/ipykernel_26329/3831681715.py:156: FutureWarning: `torch.cuda.amp.autocast(args...)` is deprecated. Please use `torch.amp.autocast('cuda', args...)` instead.\n",
      "  with torch.cuda.amp.autocast(enabled=self.device.type != 'cpu'):\n",
      "/opt/anaconda3/lib/python3.12/site-packages/torch/amp/autocast_mode.py:266: UserWarning: User provided device_type of 'cuda', but CUDA is not available. Disabling\n",
      "  warnings.warn(\n",
      "Epoch 13/50: 100%|███████████████████████████████████████████████████████████████████████| 271/271 [00:47<00:00,  5.73it/s]\n",
      "/var/folders/06/4mfvxfgx51scnyqsczh6cd900000gn/T/ipykernel_26329/3831681715.py:192: FutureWarning: `torch.cuda.amp.autocast(args...)` is deprecated. Please use `torch.amp.autocast('cuda', args...)` instead.\n",
      "  with torch.cuda.amp.autocast(enabled=self.device.type != 'cpu'):\n"
     ]
    },
    {
     "name": "stdout",
     "output_type": "stream",
     "text": [
      "Val F1: 0.3699 | Val Acc: 0.3935\n"
     ]
    },
    {
     "name": "stderr",
     "output_type": "stream",
     "text": [
      "Epoch 14/50:   0%|                                                                                 | 0/271 [00:00<?, ?it/s]/var/folders/06/4mfvxfgx51scnyqsczh6cd900000gn/T/ipykernel_26329/3831681715.py:156: FutureWarning: `torch.cuda.amp.autocast(args...)` is deprecated. Please use `torch.amp.autocast('cuda', args...)` instead.\n",
      "  with torch.cuda.amp.autocast(enabled=self.device.type != 'cpu'):\n",
      "/opt/anaconda3/lib/python3.12/site-packages/torch/amp/autocast_mode.py:266: UserWarning: User provided device_type of 'cuda', but CUDA is not available. Disabling\n",
      "  warnings.warn(\n",
      "Epoch 14/50: 100%|███████████████████████████████████████████████████████████████████████| 271/271 [00:47<00:00,  5.67it/s]\n",
      "/var/folders/06/4mfvxfgx51scnyqsczh6cd900000gn/T/ipykernel_26329/3831681715.py:192: FutureWarning: `torch.cuda.amp.autocast(args...)` is deprecated. Please use `torch.amp.autocast('cuda', args...)` instead.\n",
      "  with torch.cuda.amp.autocast(enabled=self.device.type != 'cpu'):\n"
     ]
    },
    {
     "name": "stdout",
     "output_type": "stream",
     "text": [
      "Val F1: 0.3559 | Val Acc: 0.3919\n"
     ]
    },
    {
     "name": "stderr",
     "output_type": "stream",
     "text": [
      "Epoch 15/50:   0%|                                                                                 | 0/271 [00:00<?, ?it/s]/var/folders/06/4mfvxfgx51scnyqsczh6cd900000gn/T/ipykernel_26329/3831681715.py:156: FutureWarning: `torch.cuda.amp.autocast(args...)` is deprecated. Please use `torch.amp.autocast('cuda', args...)` instead.\n",
      "  with torch.cuda.amp.autocast(enabled=self.device.type != 'cpu'):\n",
      "/opt/anaconda3/lib/python3.12/site-packages/torch/amp/autocast_mode.py:266: UserWarning: User provided device_type of 'cuda', but CUDA is not available. Disabling\n",
      "  warnings.warn(\n",
      "Epoch 15/50: 100%|███████████████████████████████████████████████████████████████████████| 271/271 [00:47<00:00,  5.76it/s]\n",
      "/var/folders/06/4mfvxfgx51scnyqsczh6cd900000gn/T/ipykernel_26329/3831681715.py:192: FutureWarning: `torch.cuda.amp.autocast(args...)` is deprecated. Please use `torch.amp.autocast('cuda', args...)` instead.\n",
      "  with torch.cuda.amp.autocast(enabled=self.device.type != 'cpu'):\n"
     ]
    },
    {
     "name": "stdout",
     "output_type": "stream",
     "text": [
      "Val F1: 0.3869 | Val Acc: 0.4119\n"
     ]
    },
    {
     "name": "stderr",
     "output_type": "stream",
     "text": [
      "Epoch 16/50:   0%|                                                                                 | 0/271 [00:00<?, ?it/s]/var/folders/06/4mfvxfgx51scnyqsczh6cd900000gn/T/ipykernel_26329/3831681715.py:156: FutureWarning: `torch.cuda.amp.autocast(args...)` is deprecated. Please use `torch.amp.autocast('cuda', args...)` instead.\n",
      "  with torch.cuda.amp.autocast(enabled=self.device.type != 'cpu'):\n",
      "/opt/anaconda3/lib/python3.12/site-packages/torch/amp/autocast_mode.py:266: UserWarning: User provided device_type of 'cuda', but CUDA is not available. Disabling\n",
      "  warnings.warn(\n",
      "Epoch 16/50: 100%|███████████████████████████████████████████████████████████████████████| 271/271 [00:47<00:00,  5.75it/s]\n",
      "/var/folders/06/4mfvxfgx51scnyqsczh6cd900000gn/T/ipykernel_26329/3831681715.py:192: FutureWarning: `torch.cuda.amp.autocast(args...)` is deprecated. Please use `torch.amp.autocast('cuda', args...)` instead.\n",
      "  with torch.cuda.amp.autocast(enabled=self.device.type != 'cpu'):\n"
     ]
    },
    {
     "name": "stdout",
     "output_type": "stream",
     "text": [
      "Val F1: 0.3655 | Val Acc: 0.3984\n"
     ]
    },
    {
     "name": "stderr",
     "output_type": "stream",
     "text": [
      "Epoch 17/50:   0%|                                                                                 | 0/271 [00:00<?, ?it/s]/var/folders/06/4mfvxfgx51scnyqsczh6cd900000gn/T/ipykernel_26329/3831681715.py:156: FutureWarning: `torch.cuda.amp.autocast(args...)` is deprecated. Please use `torch.amp.autocast('cuda', args...)` instead.\n",
      "  with torch.cuda.amp.autocast(enabled=self.device.type != 'cpu'):\n",
      "/opt/anaconda3/lib/python3.12/site-packages/torch/amp/autocast_mode.py:266: UserWarning: User provided device_type of 'cuda', but CUDA is not available. Disabling\n",
      "  warnings.warn(\n",
      "Epoch 17/50: 100%|███████████████████████████████████████████████████████████████████████| 271/271 [00:46<00:00,  5.78it/s]\n",
      "/var/folders/06/4mfvxfgx51scnyqsczh6cd900000gn/T/ipykernel_26329/3831681715.py:192: FutureWarning: `torch.cuda.amp.autocast(args...)` is deprecated. Please use `torch.amp.autocast('cuda', args...)` instead.\n",
      "  with torch.cuda.amp.autocast(enabled=self.device.type != 'cpu'):\n"
     ]
    },
    {
     "name": "stdout",
     "output_type": "stream",
     "text": [
      "Val F1: 0.3899 | Val Acc: 0.4216\n"
     ]
    },
    {
     "name": "stderr",
     "output_type": "stream",
     "text": [
      "Epoch 18/50:   0%|                                                                                 | 0/271 [00:00<?, ?it/s]/var/folders/06/4mfvxfgx51scnyqsczh6cd900000gn/T/ipykernel_26329/3831681715.py:156: FutureWarning: `torch.cuda.amp.autocast(args...)` is deprecated. Please use `torch.amp.autocast('cuda', args...)` instead.\n",
      "  with torch.cuda.amp.autocast(enabled=self.device.type != 'cpu'):\n",
      "/opt/anaconda3/lib/python3.12/site-packages/torch/amp/autocast_mode.py:266: UserWarning: User provided device_type of 'cuda', but CUDA is not available. Disabling\n",
      "  warnings.warn(\n",
      "Epoch 18/50: 100%|███████████████████████████████████████████████████████████████████████| 271/271 [00:46<00:00,  5.79it/s]\n",
      "/var/folders/06/4mfvxfgx51scnyqsczh6cd900000gn/T/ipykernel_26329/3831681715.py:192: FutureWarning: `torch.cuda.amp.autocast(args...)` is deprecated. Please use `torch.amp.autocast('cuda', args...)` instead.\n",
      "  with torch.cuda.amp.autocast(enabled=self.device.type != 'cpu'):\n"
     ]
    },
    {
     "name": "stdout",
     "output_type": "stream",
     "text": [
      "Val F1: 0.3901 | Val Acc: 0.4173\n"
     ]
    },
    {
     "name": "stderr",
     "output_type": "stream",
     "text": [
      "Epoch 19/50:   0%|                                                                                 | 0/271 [00:00<?, ?it/s]/var/folders/06/4mfvxfgx51scnyqsczh6cd900000gn/T/ipykernel_26329/3831681715.py:156: FutureWarning: `torch.cuda.amp.autocast(args...)` is deprecated. Please use `torch.amp.autocast('cuda', args...)` instead.\n",
      "  with torch.cuda.amp.autocast(enabled=self.device.type != 'cpu'):\n",
      "/opt/anaconda3/lib/python3.12/site-packages/torch/amp/autocast_mode.py:266: UserWarning: User provided device_type of 'cuda', but CUDA is not available. Disabling\n",
      "  warnings.warn(\n",
      "Epoch 19/50: 100%|███████████████████████████████████████████████████████████████████████| 271/271 [00:46<00:00,  5.80it/s]\n",
      "/var/folders/06/4mfvxfgx51scnyqsczh6cd900000gn/T/ipykernel_26329/3831681715.py:192: FutureWarning: `torch.cuda.amp.autocast(args...)` is deprecated. Please use `torch.amp.autocast('cuda', args...)` instead.\n",
      "  with torch.cuda.amp.autocast(enabled=self.device.type != 'cpu'):\n"
     ]
    },
    {
     "name": "stdout",
     "output_type": "stream",
     "text": [
      "Val F1: 0.3776 | Val Acc: 0.4043\n"
     ]
    },
    {
     "name": "stderr",
     "output_type": "stream",
     "text": [
      "Epoch 20/50:   0%|                                                                                 | 0/271 [00:00<?, ?it/s]/var/folders/06/4mfvxfgx51scnyqsczh6cd900000gn/T/ipykernel_26329/3831681715.py:156: FutureWarning: `torch.cuda.amp.autocast(args...)` is deprecated. Please use `torch.amp.autocast('cuda', args...)` instead.\n",
      "  with torch.cuda.amp.autocast(enabled=self.device.type != 'cpu'):\n",
      "/opt/anaconda3/lib/python3.12/site-packages/torch/amp/autocast_mode.py:266: UserWarning: User provided device_type of 'cuda', but CUDA is not available. Disabling\n",
      "  warnings.warn(\n",
      "Epoch 20/50: 100%|███████████████████████████████████████████████████████████████████████| 271/271 [00:47<00:00,  5.74it/s]\n",
      "/var/folders/06/4mfvxfgx51scnyqsczh6cd900000gn/T/ipykernel_26329/3831681715.py:192: FutureWarning: `torch.cuda.amp.autocast(args...)` is deprecated. Please use `torch.amp.autocast('cuda', args...)` instead.\n",
      "  with torch.cuda.amp.autocast(enabled=self.device.type != 'cpu'):\n"
     ]
    },
    {
     "name": "stdout",
     "output_type": "stream",
     "text": [
      "Val F1: 0.4022 | Val Acc: 0.4313\n"
     ]
    },
    {
     "name": "stderr",
     "output_type": "stream",
     "text": [
      "Epoch 21/50:   0%|                                                                                 | 0/271 [00:00<?, ?it/s]/var/folders/06/4mfvxfgx51scnyqsczh6cd900000gn/T/ipykernel_26329/3831681715.py:156: FutureWarning: `torch.cuda.amp.autocast(args...)` is deprecated. Please use `torch.amp.autocast('cuda', args...)` instead.\n",
      "  with torch.cuda.amp.autocast(enabled=self.device.type != 'cpu'):\n",
      "/opt/anaconda3/lib/python3.12/site-packages/torch/amp/autocast_mode.py:266: UserWarning: User provided device_type of 'cuda', but CUDA is not available. Disabling\n",
      "  warnings.warn(\n",
      "Epoch 21/50: 100%|███████████████████████████████████████████████████████████████████████| 271/271 [00:46<00:00,  5.81it/s]\n",
      "/var/folders/06/4mfvxfgx51scnyqsczh6cd900000gn/T/ipykernel_26329/3831681715.py:192: FutureWarning: `torch.cuda.amp.autocast(args...)` is deprecated. Please use `torch.amp.autocast('cuda', args...)` instead.\n",
      "  with torch.cuda.amp.autocast(enabled=self.device.type != 'cpu'):\n"
     ]
    },
    {
     "name": "stdout",
     "output_type": "stream",
     "text": [
      "Val F1: 0.4128 | Val Acc: 0.4334\n"
     ]
    },
    {
     "name": "stderr",
     "output_type": "stream",
     "text": [
      "Epoch 22/50:   0%|                                                                                 | 0/271 [00:00<?, ?it/s]/var/folders/06/4mfvxfgx51scnyqsczh6cd900000gn/T/ipykernel_26329/3831681715.py:156: FutureWarning: `torch.cuda.amp.autocast(args...)` is deprecated. Please use `torch.amp.autocast('cuda', args...)` instead.\n",
      "  with torch.cuda.amp.autocast(enabled=self.device.type != 'cpu'):\n",
      "/opt/anaconda3/lib/python3.12/site-packages/torch/amp/autocast_mode.py:266: UserWarning: User provided device_type of 'cuda', but CUDA is not available. Disabling\n",
      "  warnings.warn(\n",
      "Epoch 22/50: 100%|███████████████████████████████████████████████████████████████████████| 271/271 [00:46<00:00,  5.85it/s]\n",
      "/var/folders/06/4mfvxfgx51scnyqsczh6cd900000gn/T/ipykernel_26329/3831681715.py:192: FutureWarning: `torch.cuda.amp.autocast(args...)` is deprecated. Please use `torch.amp.autocast('cuda', args...)` instead.\n",
      "  with torch.cuda.amp.autocast(enabled=self.device.type != 'cpu'):\n"
     ]
    },
    {
     "name": "stdout",
     "output_type": "stream",
     "text": [
      "Val F1: 0.4057 | Val Acc: 0.4356\n"
     ]
    },
    {
     "name": "stderr",
     "output_type": "stream",
     "text": [
      "Epoch 23/50:   0%|                                                                                 | 0/271 [00:00<?, ?it/s]/var/folders/06/4mfvxfgx51scnyqsczh6cd900000gn/T/ipykernel_26329/3831681715.py:156: FutureWarning: `torch.cuda.amp.autocast(args...)` is deprecated. Please use `torch.amp.autocast('cuda', args...)` instead.\n",
      "  with torch.cuda.amp.autocast(enabled=self.device.type != 'cpu'):\n",
      "/opt/anaconda3/lib/python3.12/site-packages/torch/amp/autocast_mode.py:266: UserWarning: User provided device_type of 'cuda', but CUDA is not available. Disabling\n",
      "  warnings.warn(\n",
      "Epoch 23/50: 100%|███████████████████████████████████████████████████████████████████████| 271/271 [00:47<00:00,  5.76it/s]\n",
      "/var/folders/06/4mfvxfgx51scnyqsczh6cd900000gn/T/ipykernel_26329/3831681715.py:192: FutureWarning: `torch.cuda.amp.autocast(args...)` is deprecated. Please use `torch.amp.autocast('cuda', args...)` instead.\n",
      "  with torch.cuda.amp.autocast(enabled=self.device.type != 'cpu'):\n"
     ]
    },
    {
     "name": "stdout",
     "output_type": "stream",
     "text": [
      "Val F1: 0.4197 | Val Acc: 0.4437\n"
     ]
    },
    {
     "name": "stderr",
     "output_type": "stream",
     "text": [
      "Epoch 24/50:   0%|                                                                                 | 0/271 [00:00<?, ?it/s]/var/folders/06/4mfvxfgx51scnyqsczh6cd900000gn/T/ipykernel_26329/3831681715.py:156: FutureWarning: `torch.cuda.amp.autocast(args...)` is deprecated. Please use `torch.amp.autocast('cuda', args...)` instead.\n",
      "  with torch.cuda.amp.autocast(enabled=self.device.type != 'cpu'):\n",
      "/opt/anaconda3/lib/python3.12/site-packages/torch/amp/autocast_mode.py:266: UserWarning: User provided device_type of 'cuda', but CUDA is not available. Disabling\n",
      "  warnings.warn(\n",
      "Epoch 24/50: 100%|███████████████████████████████████████████████████████████████████████| 271/271 [00:49<00:00,  5.44it/s]\n",
      "/var/folders/06/4mfvxfgx51scnyqsczh6cd900000gn/T/ipykernel_26329/3831681715.py:192: FutureWarning: `torch.cuda.amp.autocast(args...)` is deprecated. Please use `torch.amp.autocast('cuda', args...)` instead.\n",
      "  with torch.cuda.amp.autocast(enabled=self.device.type != 'cpu'):\n"
     ]
    },
    {
     "name": "stdout",
     "output_type": "stream",
     "text": [
      "Val F1: 0.4269 | Val Acc: 0.4539\n"
     ]
    },
    {
     "name": "stderr",
     "output_type": "stream",
     "text": [
      "Epoch 25/50:   0%|                                                                                 | 0/271 [00:00<?, ?it/s]/var/folders/06/4mfvxfgx51scnyqsczh6cd900000gn/T/ipykernel_26329/3831681715.py:156: FutureWarning: `torch.cuda.amp.autocast(args...)` is deprecated. Please use `torch.amp.autocast('cuda', args...)` instead.\n",
      "  with torch.cuda.amp.autocast(enabled=self.device.type != 'cpu'):\n",
      "/opt/anaconda3/lib/python3.12/site-packages/torch/amp/autocast_mode.py:266: UserWarning: User provided device_type of 'cuda', but CUDA is not available. Disabling\n",
      "  warnings.warn(\n",
      "Epoch 25/50: 100%|███████████████████████████████████████████████████████████████████████| 271/271 [00:50<00:00,  5.36it/s]\n",
      "/var/folders/06/4mfvxfgx51scnyqsczh6cd900000gn/T/ipykernel_26329/3831681715.py:192: FutureWarning: `torch.cuda.amp.autocast(args...)` is deprecated. Please use `torch.amp.autocast('cuda', args...)` instead.\n",
      "  with torch.cuda.amp.autocast(enabled=self.device.type != 'cpu'):\n"
     ]
    },
    {
     "name": "stdout",
     "output_type": "stream",
     "text": [
      "Val F1: 0.4140 | Val Acc: 0.4464\n"
     ]
    },
    {
     "name": "stderr",
     "output_type": "stream",
     "text": [
      "Epoch 26/50:   0%|                                                                                 | 0/271 [00:00<?, ?it/s]/var/folders/06/4mfvxfgx51scnyqsczh6cd900000gn/T/ipykernel_26329/3831681715.py:156: FutureWarning: `torch.cuda.amp.autocast(args...)` is deprecated. Please use `torch.amp.autocast('cuda', args...)` instead.\n",
      "  with torch.cuda.amp.autocast(enabled=self.device.type != 'cpu'):\n",
      "/opt/anaconda3/lib/python3.12/site-packages/torch/amp/autocast_mode.py:266: UserWarning: User provided device_type of 'cuda', but CUDA is not available. Disabling\n",
      "  warnings.warn(\n",
      "Epoch 26/50: 100%|███████████████████████████████████████████████████████████████████████| 271/271 [00:51<00:00,  5.29it/s]\n",
      "/var/folders/06/4mfvxfgx51scnyqsczh6cd900000gn/T/ipykernel_26329/3831681715.py:192: FutureWarning: `torch.cuda.amp.autocast(args...)` is deprecated. Please use `torch.amp.autocast('cuda', args...)` instead.\n",
      "  with torch.cuda.amp.autocast(enabled=self.device.type != 'cpu'):\n"
     ]
    },
    {
     "name": "stdout",
     "output_type": "stream",
     "text": [
      "Val F1: 0.4532 | Val Acc: 0.4776\n"
     ]
    },
    {
     "name": "stderr",
     "output_type": "stream",
     "text": [
      "Epoch 27/50:   0%|                                                                                 | 0/271 [00:00<?, ?it/s]/var/folders/06/4mfvxfgx51scnyqsczh6cd900000gn/T/ipykernel_26329/3831681715.py:156: FutureWarning: `torch.cuda.amp.autocast(args...)` is deprecated. Please use `torch.amp.autocast('cuda', args...)` instead.\n",
      "  with torch.cuda.amp.autocast(enabled=self.device.type != 'cpu'):\n",
      "/opt/anaconda3/lib/python3.12/site-packages/torch/amp/autocast_mode.py:266: UserWarning: User provided device_type of 'cuda', but CUDA is not available. Disabling\n",
      "  warnings.warn(\n",
      "Epoch 27/50: 100%|███████████████████████████████████████████████████████████████████████| 271/271 [00:52<00:00,  5.16it/s]\n",
      "/var/folders/06/4mfvxfgx51scnyqsczh6cd900000gn/T/ipykernel_26329/3831681715.py:192: FutureWarning: `torch.cuda.amp.autocast(args...)` is deprecated. Please use `torch.amp.autocast('cuda', args...)` instead.\n",
      "  with torch.cuda.amp.autocast(enabled=self.device.type != 'cpu'):\n"
     ]
    },
    {
     "name": "stdout",
     "output_type": "stream",
     "text": [
      "Val F1: 0.4500 | Val Acc: 0.4749\n"
     ]
    },
    {
     "name": "stderr",
     "output_type": "stream",
     "text": [
      "Epoch 28/50:   0%|                                                                                 | 0/271 [00:00<?, ?it/s]/var/folders/06/4mfvxfgx51scnyqsczh6cd900000gn/T/ipykernel_26329/3831681715.py:156: FutureWarning: `torch.cuda.amp.autocast(args...)` is deprecated. Please use `torch.amp.autocast('cuda', args...)` instead.\n",
      "  with torch.cuda.amp.autocast(enabled=self.device.type != 'cpu'):\n",
      "/opt/anaconda3/lib/python3.12/site-packages/torch/amp/autocast_mode.py:266: UserWarning: User provided device_type of 'cuda', but CUDA is not available. Disabling\n",
      "  warnings.warn(\n",
      "Epoch 28/50: 100%|███████████████████████████████████████████████████████████████████████| 271/271 [00:51<00:00,  5.26it/s]\n",
      "/var/folders/06/4mfvxfgx51scnyqsczh6cd900000gn/T/ipykernel_26329/3831681715.py:192: FutureWarning: `torch.cuda.amp.autocast(args...)` is deprecated. Please use `torch.amp.autocast('cuda', args...)` instead.\n",
      "  with torch.cuda.amp.autocast(enabled=self.device.type != 'cpu'):\n"
     ]
    },
    {
     "name": "stdout",
     "output_type": "stream",
     "text": [
      "Val F1: 0.4475 | Val Acc: 0.4755\n"
     ]
    },
    {
     "name": "stderr",
     "output_type": "stream",
     "text": [
      "Epoch 29/50:   0%|                                                                                 | 0/271 [00:00<?, ?it/s]/var/folders/06/4mfvxfgx51scnyqsczh6cd900000gn/T/ipykernel_26329/3831681715.py:156: FutureWarning: `torch.cuda.amp.autocast(args...)` is deprecated. Please use `torch.amp.autocast('cuda', args...)` instead.\n",
      "  with torch.cuda.amp.autocast(enabled=self.device.type != 'cpu'):\n",
      "/opt/anaconda3/lib/python3.12/site-packages/torch/amp/autocast_mode.py:266: UserWarning: User provided device_type of 'cuda', but CUDA is not available. Disabling\n",
      "  warnings.warn(\n",
      "Epoch 29/50: 100%|███████████████████████████████████████████████████████████████████████| 271/271 [00:51<00:00,  5.25it/s]\n",
      "/var/folders/06/4mfvxfgx51scnyqsczh6cd900000gn/T/ipykernel_26329/3831681715.py:192: FutureWarning: `torch.cuda.amp.autocast(args...)` is deprecated. Please use `torch.amp.autocast('cuda', args...)` instead.\n",
      "  with torch.cuda.amp.autocast(enabled=self.device.type != 'cpu'):\n"
     ]
    },
    {
     "name": "stdout",
     "output_type": "stream",
     "text": [
      "Val F1: 0.4557 | Val Acc: 0.4819\n"
     ]
    },
    {
     "name": "stderr",
     "output_type": "stream",
     "text": [
      "Epoch 30/50:   0%|                                                                                 | 0/271 [00:00<?, ?it/s]/var/folders/06/4mfvxfgx51scnyqsczh6cd900000gn/T/ipykernel_26329/3831681715.py:156: FutureWarning: `torch.cuda.amp.autocast(args...)` is deprecated. Please use `torch.amp.autocast('cuda', args...)` instead.\n",
      "  with torch.cuda.amp.autocast(enabled=self.device.type != 'cpu'):\n",
      "/opt/anaconda3/lib/python3.12/site-packages/torch/amp/autocast_mode.py:266: UserWarning: User provided device_type of 'cuda', but CUDA is not available. Disabling\n",
      "  warnings.warn(\n",
      "Epoch 30/50: 100%|███████████████████████████████████████████████████████████████████████| 271/271 [00:51<00:00,  5.26it/s]\n",
      "/var/folders/06/4mfvxfgx51scnyqsczh6cd900000gn/T/ipykernel_26329/3831681715.py:192: FutureWarning: `torch.cuda.amp.autocast(args...)` is deprecated. Please use `torch.amp.autocast('cuda', args...)` instead.\n",
      "  with torch.cuda.amp.autocast(enabled=self.device.type != 'cpu'):\n"
     ]
    },
    {
     "name": "stdout",
     "output_type": "stream",
     "text": [
      "Val F1: 0.4641 | Val Acc: 0.4868\n"
     ]
    },
    {
     "name": "stderr",
     "output_type": "stream",
     "text": [
      "Epoch 31/50:   0%|                                                                                 | 0/271 [00:00<?, ?it/s]/var/folders/06/4mfvxfgx51scnyqsczh6cd900000gn/T/ipykernel_26329/3831681715.py:156: FutureWarning: `torch.cuda.amp.autocast(args...)` is deprecated. Please use `torch.amp.autocast('cuda', args...)` instead.\n",
      "  with torch.cuda.amp.autocast(enabled=self.device.type != 'cpu'):\n",
      "/opt/anaconda3/lib/python3.12/site-packages/torch/amp/autocast_mode.py:266: UserWarning: User provided device_type of 'cuda', but CUDA is not available. Disabling\n",
      "  warnings.warn(\n",
      "Epoch 31/50: 100%|███████████████████████████████████████████████████████████████████████| 271/271 [00:51<00:00,  5.24it/s]\n",
      "/var/folders/06/4mfvxfgx51scnyqsczh6cd900000gn/T/ipykernel_26329/3831681715.py:192: FutureWarning: `torch.cuda.amp.autocast(args...)` is deprecated. Please use `torch.amp.autocast('cuda', args...)` instead.\n",
      "  with torch.cuda.amp.autocast(enabled=self.device.type != 'cpu'):\n"
     ]
    },
    {
     "name": "stdout",
     "output_type": "stream",
     "text": [
      "Val F1: 0.4620 | Val Acc: 0.4863\n"
     ]
    },
    {
     "name": "stderr",
     "output_type": "stream",
     "text": [
      "Epoch 32/50:   0%|                                                                                 | 0/271 [00:00<?, ?it/s]/var/folders/06/4mfvxfgx51scnyqsczh6cd900000gn/T/ipykernel_26329/3831681715.py:156: FutureWarning: `torch.cuda.amp.autocast(args...)` is deprecated. Please use `torch.amp.autocast('cuda', args...)` instead.\n",
      "  with torch.cuda.amp.autocast(enabled=self.device.type != 'cpu'):\n",
      "/opt/anaconda3/lib/python3.12/site-packages/torch/amp/autocast_mode.py:266: UserWarning: User provided device_type of 'cuda', but CUDA is not available. Disabling\n",
      "  warnings.warn(\n",
      "Epoch 32/50: 100%|███████████████████████████████████████████████████████████████████████| 271/271 [00:51<00:00,  5.24it/s]\n",
      "/var/folders/06/4mfvxfgx51scnyqsczh6cd900000gn/T/ipykernel_26329/3831681715.py:192: FutureWarning: `torch.cuda.amp.autocast(args...)` is deprecated. Please use `torch.amp.autocast('cuda', args...)` instead.\n",
      "  with torch.cuda.amp.autocast(enabled=self.device.type != 'cpu'):\n"
     ]
    },
    {
     "name": "stdout",
     "output_type": "stream",
     "text": [
      "Val F1: 0.4595 | Val Acc: 0.4841\n"
     ]
    },
    {
     "name": "stderr",
     "output_type": "stream",
     "text": [
      "Epoch 33/50:   0%|                                                                                 | 0/271 [00:00<?, ?it/s]/var/folders/06/4mfvxfgx51scnyqsczh6cd900000gn/T/ipykernel_26329/3831681715.py:156: FutureWarning: `torch.cuda.amp.autocast(args...)` is deprecated. Please use `torch.amp.autocast('cuda', args...)` instead.\n",
      "  with torch.cuda.amp.autocast(enabled=self.device.type != 'cpu'):\n",
      "/opt/anaconda3/lib/python3.12/site-packages/torch/amp/autocast_mode.py:266: UserWarning: User provided device_type of 'cuda', but CUDA is not available. Disabling\n",
      "  warnings.warn(\n",
      "Epoch 33/50: 100%|███████████████████████████████████████████████████████████████████████| 271/271 [00:51<00:00,  5.23it/s]\n",
      "/var/folders/06/4mfvxfgx51scnyqsczh6cd900000gn/T/ipykernel_26329/3831681715.py:192: FutureWarning: `torch.cuda.amp.autocast(args...)` is deprecated. Please use `torch.amp.autocast('cuda', args...)` instead.\n",
      "  with torch.cuda.amp.autocast(enabled=self.device.type != 'cpu'):\n"
     ]
    },
    {
     "name": "stdout",
     "output_type": "stream",
     "text": [
      "Val F1: 0.4692 | Val Acc: 0.4906\n"
     ]
    },
    {
     "name": "stderr",
     "output_type": "stream",
     "text": [
      "Epoch 34/50:   0%|                                                                                 | 0/271 [00:00<?, ?it/s]/var/folders/06/4mfvxfgx51scnyqsczh6cd900000gn/T/ipykernel_26329/3831681715.py:156: FutureWarning: `torch.cuda.amp.autocast(args...)` is deprecated. Please use `torch.amp.autocast('cuda', args...)` instead.\n",
      "  with torch.cuda.amp.autocast(enabled=self.device.type != 'cpu'):\n",
      "/opt/anaconda3/lib/python3.12/site-packages/torch/amp/autocast_mode.py:266: UserWarning: User provided device_type of 'cuda', but CUDA is not available. Disabling\n",
      "  warnings.warn(\n",
      "Epoch 34/50: 100%|███████████████████████████████████████████████████████████████████████| 271/271 [00:52<00:00,  5.16it/s]\n",
      "/var/folders/06/4mfvxfgx51scnyqsczh6cd900000gn/T/ipykernel_26329/3831681715.py:192: FutureWarning: `torch.cuda.amp.autocast(args...)` is deprecated. Please use `torch.amp.autocast('cuda', args...)` instead.\n",
      "  with torch.cuda.amp.autocast(enabled=self.device.type != 'cpu'):\n"
     ]
    },
    {
     "name": "stdout",
     "output_type": "stream",
     "text": [
      "Val F1: 0.4847 | Val Acc: 0.5035\n"
     ]
    },
    {
     "name": "stderr",
     "output_type": "stream",
     "text": [
      "Epoch 35/50:   0%|                                                                                 | 0/271 [00:00<?, ?it/s]/var/folders/06/4mfvxfgx51scnyqsczh6cd900000gn/T/ipykernel_26329/3831681715.py:156: FutureWarning: `torch.cuda.amp.autocast(args...)` is deprecated. Please use `torch.amp.autocast('cuda', args...)` instead.\n",
      "  with torch.cuda.amp.autocast(enabled=self.device.type != 'cpu'):\n",
      "/opt/anaconda3/lib/python3.12/site-packages/torch/amp/autocast_mode.py:266: UserWarning: User provided device_type of 'cuda', but CUDA is not available. Disabling\n",
      "  warnings.warn(\n",
      "Epoch 35/50: 100%|███████████████████████████████████████████████████████████████████████| 271/271 [00:53<00:00,  5.07it/s]\n",
      "/var/folders/06/4mfvxfgx51scnyqsczh6cd900000gn/T/ipykernel_26329/3831681715.py:192: FutureWarning: `torch.cuda.amp.autocast(args...)` is deprecated. Please use `torch.amp.autocast('cuda', args...)` instead.\n",
      "  with torch.cuda.amp.autocast(enabled=self.device.type != 'cpu'):\n"
     ]
    },
    {
     "name": "stdout",
     "output_type": "stream",
     "text": [
      "Val F1: 0.4840 | Val Acc: 0.5040\n"
     ]
    },
    {
     "name": "stderr",
     "output_type": "stream",
     "text": [
      "Epoch 36/50:   0%|                                                                                 | 0/271 [00:00<?, ?it/s]/var/folders/06/4mfvxfgx51scnyqsczh6cd900000gn/T/ipykernel_26329/3831681715.py:156: FutureWarning: `torch.cuda.amp.autocast(args...)` is deprecated. Please use `torch.amp.autocast('cuda', args...)` instead.\n",
      "  with torch.cuda.amp.autocast(enabled=self.device.type != 'cpu'):\n",
      "/opt/anaconda3/lib/python3.12/site-packages/torch/amp/autocast_mode.py:266: UserWarning: User provided device_type of 'cuda', but CUDA is not available. Disabling\n",
      "  warnings.warn(\n",
      "Epoch 36/50: 100%|███████████████████████████████████████████████████████████████████████| 271/271 [00:53<00:00,  5.08it/s]\n",
      "/var/folders/06/4mfvxfgx51scnyqsczh6cd900000gn/T/ipykernel_26329/3831681715.py:192: FutureWarning: `torch.cuda.amp.autocast(args...)` is deprecated. Please use `torch.amp.autocast('cuda', args...)` instead.\n",
      "  with torch.cuda.amp.autocast(enabled=self.device.type != 'cpu'):\n"
     ]
    },
    {
     "name": "stdout",
     "output_type": "stream",
     "text": [
      "Val F1: 0.4840 | Val Acc: 0.5024\n"
     ]
    },
    {
     "name": "stderr",
     "output_type": "stream",
     "text": [
      "Epoch 37/50:   0%|                                                                                 | 0/271 [00:00<?, ?it/s]/var/folders/06/4mfvxfgx51scnyqsczh6cd900000gn/T/ipykernel_26329/3831681715.py:156: FutureWarning: `torch.cuda.amp.autocast(args...)` is deprecated. Please use `torch.amp.autocast('cuda', args...)` instead.\n",
      "  with torch.cuda.amp.autocast(enabled=self.device.type != 'cpu'):\n",
      "/opt/anaconda3/lib/python3.12/site-packages/torch/amp/autocast_mode.py:266: UserWarning: User provided device_type of 'cuda', but CUDA is not available. Disabling\n",
      "  warnings.warn(\n",
      "Epoch 37/50: 100%|███████████████████████████████████████████████████████████████████████| 271/271 [00:53<00:00,  5.05it/s]\n",
      "/var/folders/06/4mfvxfgx51scnyqsczh6cd900000gn/T/ipykernel_26329/3831681715.py:192: FutureWarning: `torch.cuda.amp.autocast(args...)` is deprecated. Please use `torch.amp.autocast('cuda', args...)` instead.\n",
      "  with torch.cuda.amp.autocast(enabled=self.device.type != 'cpu'):\n"
     ]
    },
    {
     "name": "stdout",
     "output_type": "stream",
     "text": [
      "Val F1: 0.4893 | Val Acc: 0.5073\n"
     ]
    },
    {
     "name": "stderr",
     "output_type": "stream",
     "text": [
      "Epoch 38/50:   0%|                                                                                 | 0/271 [00:00<?, ?it/s]/var/folders/06/4mfvxfgx51scnyqsczh6cd900000gn/T/ipykernel_26329/3831681715.py:156: FutureWarning: `torch.cuda.amp.autocast(args...)` is deprecated. Please use `torch.amp.autocast('cuda', args...)` instead.\n",
      "  with torch.cuda.amp.autocast(enabled=self.device.type != 'cpu'):\n",
      "/opt/anaconda3/lib/python3.12/site-packages/torch/amp/autocast_mode.py:266: UserWarning: User provided device_type of 'cuda', but CUDA is not available. Disabling\n",
      "  warnings.warn(\n",
      "Epoch 38/50: 100%|███████████████████████████████████████████████████████████████████████| 271/271 [00:53<00:00,  5.08it/s]\n",
      "/var/folders/06/4mfvxfgx51scnyqsczh6cd900000gn/T/ipykernel_26329/3831681715.py:192: FutureWarning: `torch.cuda.amp.autocast(args...)` is deprecated. Please use `torch.amp.autocast('cuda', args...)` instead.\n",
      "  with torch.cuda.amp.autocast(enabled=self.device.type != 'cpu'):\n"
     ]
    },
    {
     "name": "stdout",
     "output_type": "stream",
     "text": [
      "Val F1: 0.4883 | Val Acc: 0.5078\n"
     ]
    },
    {
     "name": "stderr",
     "output_type": "stream",
     "text": [
      "Epoch 39/50:   0%|                                                                                 | 0/271 [00:00<?, ?it/s]/var/folders/06/4mfvxfgx51scnyqsczh6cd900000gn/T/ipykernel_26329/3831681715.py:156: FutureWarning: `torch.cuda.amp.autocast(args...)` is deprecated. Please use `torch.amp.autocast('cuda', args...)` instead.\n",
      "  with torch.cuda.amp.autocast(enabled=self.device.type != 'cpu'):\n",
      "/opt/anaconda3/lib/python3.12/site-packages/torch/amp/autocast_mode.py:266: UserWarning: User provided device_type of 'cuda', but CUDA is not available. Disabling\n",
      "  warnings.warn(\n",
      "Epoch 39/50: 100%|███████████████████████████████████████████████████████████████████████| 271/271 [00:51<00:00,  5.25it/s]\n",
      "/var/folders/06/4mfvxfgx51scnyqsczh6cd900000gn/T/ipykernel_26329/3831681715.py:192: FutureWarning: `torch.cuda.amp.autocast(args...)` is deprecated. Please use `torch.amp.autocast('cuda', args...)` instead.\n",
      "  with torch.cuda.amp.autocast(enabled=self.device.type != 'cpu'):\n"
     ]
    },
    {
     "name": "stdout",
     "output_type": "stream",
     "text": [
      "Val F1: 0.4953 | Val Acc: 0.5159\n"
     ]
    },
    {
     "name": "stderr",
     "output_type": "stream",
     "text": [
      "Epoch 40/50:   0%|                                                                                 | 0/271 [00:00<?, ?it/s]/var/folders/06/4mfvxfgx51scnyqsczh6cd900000gn/T/ipykernel_26329/3831681715.py:156: FutureWarning: `torch.cuda.amp.autocast(args...)` is deprecated. Please use `torch.amp.autocast('cuda', args...)` instead.\n",
      "  with torch.cuda.amp.autocast(enabled=self.device.type != 'cpu'):\n",
      "/opt/anaconda3/lib/python3.12/site-packages/torch/amp/autocast_mode.py:266: UserWarning: User provided device_type of 'cuda', but CUDA is not available. Disabling\n",
      "  warnings.warn(\n",
      "Epoch 40/50: 100%|███████████████████████████████████████████████████████████████████████| 271/271 [00:49<00:00,  5.46it/s]\n",
      "/var/folders/06/4mfvxfgx51scnyqsczh6cd900000gn/T/ipykernel_26329/3831681715.py:192: FutureWarning: `torch.cuda.amp.autocast(args...)` is deprecated. Please use `torch.amp.autocast('cuda', args...)` instead.\n",
      "  with torch.cuda.amp.autocast(enabled=self.device.type != 'cpu'):\n"
     ]
    },
    {
     "name": "stdout",
     "output_type": "stream",
     "text": [
      "Val F1: 0.4978 | Val Acc: 0.5154\n"
     ]
    },
    {
     "name": "stderr",
     "output_type": "stream",
     "text": [
      "Epoch 41/50:   0%|                                                                                 | 0/271 [00:00<?, ?it/s]/var/folders/06/4mfvxfgx51scnyqsczh6cd900000gn/T/ipykernel_26329/3831681715.py:156: FutureWarning: `torch.cuda.amp.autocast(args...)` is deprecated. Please use `torch.amp.autocast('cuda', args...)` instead.\n",
      "  with torch.cuda.amp.autocast(enabled=self.device.type != 'cpu'):\n",
      "/opt/anaconda3/lib/python3.12/site-packages/torch/amp/autocast_mode.py:266: UserWarning: User provided device_type of 'cuda', but CUDA is not available. Disabling\n",
      "  warnings.warn(\n",
      "Epoch 41/50: 100%|███████████████████████████████████████████████████████████████████████| 271/271 [00:49<00:00,  5.47it/s]\n",
      "/var/folders/06/4mfvxfgx51scnyqsczh6cd900000gn/T/ipykernel_26329/3831681715.py:192: FutureWarning: `torch.cuda.amp.autocast(args...)` is deprecated. Please use `torch.amp.autocast('cuda', args...)` instead.\n",
      "  with torch.cuda.amp.autocast(enabled=self.device.type != 'cpu'):\n"
     ]
    },
    {
     "name": "stdout",
     "output_type": "stream",
     "text": [
      "Val F1: 0.4913 | Val Acc: 0.5073\n"
     ]
    },
    {
     "name": "stderr",
     "output_type": "stream",
     "text": [
      "Epoch 42/50:   0%|                                                                                 | 0/271 [00:00<?, ?it/s]/var/folders/06/4mfvxfgx51scnyqsczh6cd900000gn/T/ipykernel_26329/3831681715.py:156: FutureWarning: `torch.cuda.amp.autocast(args...)` is deprecated. Please use `torch.amp.autocast('cuda', args...)` instead.\n",
      "  with torch.cuda.amp.autocast(enabled=self.device.type != 'cpu'):\n",
      "/opt/anaconda3/lib/python3.12/site-packages/torch/amp/autocast_mode.py:266: UserWarning: User provided device_type of 'cuda', but CUDA is not available. Disabling\n",
      "  warnings.warn(\n",
      "Epoch 42/50: 100%|███████████████████████████████████████████████████████████████████████| 271/271 [00:49<00:00,  5.51it/s]\n",
      "/var/folders/06/4mfvxfgx51scnyqsczh6cd900000gn/T/ipykernel_26329/3831681715.py:192: FutureWarning: `torch.cuda.amp.autocast(args...)` is deprecated. Please use `torch.amp.autocast('cuda', args...)` instead.\n",
      "  with torch.cuda.amp.autocast(enabled=self.device.type != 'cpu'):\n"
     ]
    },
    {
     "name": "stdout",
     "output_type": "stream",
     "text": [
      "Val F1: 0.4925 | Val Acc: 0.5094\n"
     ]
    },
    {
     "name": "stderr",
     "output_type": "stream",
     "text": [
      "Epoch 43/50:   0%|                                                                                 | 0/271 [00:00<?, ?it/s]/var/folders/06/4mfvxfgx51scnyqsczh6cd900000gn/T/ipykernel_26329/3831681715.py:156: FutureWarning: `torch.cuda.amp.autocast(args...)` is deprecated. Please use `torch.amp.autocast('cuda', args...)` instead.\n",
      "  with torch.cuda.amp.autocast(enabled=self.device.type != 'cpu'):\n",
      "/opt/anaconda3/lib/python3.12/site-packages/torch/amp/autocast_mode.py:266: UserWarning: User provided device_type of 'cuda', but CUDA is not available. Disabling\n",
      "  warnings.warn(\n",
      "Epoch 43/50: 100%|███████████████████████████████████████████████████████████████████████| 271/271 [00:48<00:00,  5.59it/s]\n",
      "/var/folders/06/4mfvxfgx51scnyqsczh6cd900000gn/T/ipykernel_26329/3831681715.py:192: FutureWarning: `torch.cuda.amp.autocast(args...)` is deprecated. Please use `torch.amp.autocast('cuda', args...)` instead.\n",
      "  with torch.cuda.amp.autocast(enabled=self.device.type != 'cpu'):\n"
     ]
    },
    {
     "name": "stdout",
     "output_type": "stream",
     "text": [
      "Val F1: 0.4964 | Val Acc: 0.5154\n"
     ]
    },
    {
     "name": "stderr",
     "output_type": "stream",
     "text": [
      "Epoch 44/50:   0%|                                                                                 | 0/271 [00:00<?, ?it/s]/var/folders/06/4mfvxfgx51scnyqsczh6cd900000gn/T/ipykernel_26329/3831681715.py:156: FutureWarning: `torch.cuda.amp.autocast(args...)` is deprecated. Please use `torch.amp.autocast('cuda', args...)` instead.\n",
      "  with torch.cuda.amp.autocast(enabled=self.device.type != 'cpu'):\n",
      "/opt/anaconda3/lib/python3.12/site-packages/torch/amp/autocast_mode.py:266: UserWarning: User provided device_type of 'cuda', but CUDA is not available. Disabling\n",
      "  warnings.warn(\n",
      "Epoch 44/50: 100%|███████████████████████████████████████████████████████████████████████| 271/271 [00:47<00:00,  5.68it/s]\n",
      "/var/folders/06/4mfvxfgx51scnyqsczh6cd900000gn/T/ipykernel_26329/3831681715.py:192: FutureWarning: `torch.cuda.amp.autocast(args...)` is deprecated. Please use `torch.amp.autocast('cuda', args...)` instead.\n",
      "  with torch.cuda.amp.autocast(enabled=self.device.type != 'cpu'):\n"
     ]
    },
    {
     "name": "stdout",
     "output_type": "stream",
     "text": [
      "Val F1: 0.5046 | Val Acc: 0.5224\n"
     ]
    },
    {
     "name": "stderr",
     "output_type": "stream",
     "text": [
      "Epoch 45/50:   0%|                                                                                 | 0/271 [00:00<?, ?it/s]/var/folders/06/4mfvxfgx51scnyqsczh6cd900000gn/T/ipykernel_26329/3831681715.py:156: FutureWarning: `torch.cuda.amp.autocast(args...)` is deprecated. Please use `torch.amp.autocast('cuda', args...)` instead.\n",
      "  with torch.cuda.amp.autocast(enabled=self.device.type != 'cpu'):\n",
      "/opt/anaconda3/lib/python3.12/site-packages/torch/amp/autocast_mode.py:266: UserWarning: User provided device_type of 'cuda', but CUDA is not available. Disabling\n",
      "  warnings.warn(\n",
      "Epoch 45/50: 100%|███████████████████████████████████████████████████████████████████████| 271/271 [00:47<00:00,  5.67it/s]\n",
      "/var/folders/06/4mfvxfgx51scnyqsczh6cd900000gn/T/ipykernel_26329/3831681715.py:192: FutureWarning: `torch.cuda.amp.autocast(args...)` is deprecated. Please use `torch.amp.autocast('cuda', args...)` instead.\n",
      "  with torch.cuda.amp.autocast(enabled=self.device.type != 'cpu'):\n"
     ]
    },
    {
     "name": "stdout",
     "output_type": "stream",
     "text": [
      "Val F1: 0.4995 | Val Acc: 0.5164\n"
     ]
    },
    {
     "name": "stderr",
     "output_type": "stream",
     "text": [
      "Epoch 46/50:   0%|                                                                                 | 0/271 [00:00<?, ?it/s]/var/folders/06/4mfvxfgx51scnyqsczh6cd900000gn/T/ipykernel_26329/3831681715.py:156: FutureWarning: `torch.cuda.amp.autocast(args...)` is deprecated. Please use `torch.amp.autocast('cuda', args...)` instead.\n",
      "  with torch.cuda.amp.autocast(enabled=self.device.type != 'cpu'):\n",
      "/opt/anaconda3/lib/python3.12/site-packages/torch/amp/autocast_mode.py:266: UserWarning: User provided device_type of 'cuda', but CUDA is not available. Disabling\n",
      "  warnings.warn(\n",
      "Epoch 46/50: 100%|███████████████████████████████████████████████████████████████████████| 271/271 [00:53<00:00,  5.11it/s]\n",
      "/var/folders/06/4mfvxfgx51scnyqsczh6cd900000gn/T/ipykernel_26329/3831681715.py:192: FutureWarning: `torch.cuda.amp.autocast(args...)` is deprecated. Please use `torch.amp.autocast('cuda', args...)` instead.\n",
      "  with torch.cuda.amp.autocast(enabled=self.device.type != 'cpu'):\n"
     ]
    },
    {
     "name": "stdout",
     "output_type": "stream",
     "text": [
      "Val F1: 0.5046 | Val Acc: 0.5240\n"
     ]
    },
    {
     "name": "stderr",
     "output_type": "stream",
     "text": [
      "Epoch 47/50:   0%|                                                                                 | 0/271 [00:00<?, ?it/s]/var/folders/06/4mfvxfgx51scnyqsczh6cd900000gn/T/ipykernel_26329/3831681715.py:156: FutureWarning: `torch.cuda.amp.autocast(args...)` is deprecated. Please use `torch.amp.autocast('cuda', args...)` instead.\n",
      "  with torch.cuda.amp.autocast(enabled=self.device.type != 'cpu'):\n",
      "/opt/anaconda3/lib/python3.12/site-packages/torch/amp/autocast_mode.py:266: UserWarning: User provided device_type of 'cuda', but CUDA is not available. Disabling\n",
      "  warnings.warn(\n",
      "Epoch 47/50: 100%|███████████████████████████████████████████████████████████████████████| 271/271 [00:52<00:00,  5.19it/s]\n",
      "/var/folders/06/4mfvxfgx51scnyqsczh6cd900000gn/T/ipykernel_26329/3831681715.py:192: FutureWarning: `torch.cuda.amp.autocast(args...)` is deprecated. Please use `torch.amp.autocast('cuda', args...)` instead.\n",
      "  with torch.cuda.amp.autocast(enabled=self.device.type != 'cpu'):\n"
     ]
    },
    {
     "name": "stdout",
     "output_type": "stream",
     "text": [
      "Val F1: 0.5028 | Val Acc: 0.5170\n"
     ]
    },
    {
     "name": "stderr",
     "output_type": "stream",
     "text": [
      "Epoch 48/50:   0%|                                                                                 | 0/271 [00:00<?, ?it/s]/var/folders/06/4mfvxfgx51scnyqsczh6cd900000gn/T/ipykernel_26329/3831681715.py:156: FutureWarning: `torch.cuda.amp.autocast(args...)` is deprecated. Please use `torch.amp.autocast('cuda', args...)` instead.\n",
      "  with torch.cuda.amp.autocast(enabled=self.device.type != 'cpu'):\n",
      "/opt/anaconda3/lib/python3.12/site-packages/torch/amp/autocast_mode.py:266: UserWarning: User provided device_type of 'cuda', but CUDA is not available. Disabling\n",
      "  warnings.warn(\n",
      "Epoch 48/50: 100%|███████████████████████████████████████████████████████████████████████| 271/271 [00:53<00:00,  5.03it/s]\n",
      "/var/folders/06/4mfvxfgx51scnyqsczh6cd900000gn/T/ipykernel_26329/3831681715.py:192: FutureWarning: `torch.cuda.amp.autocast(args...)` is deprecated. Please use `torch.amp.autocast('cuda', args...)` instead.\n",
      "  with torch.cuda.amp.autocast(enabled=self.device.type != 'cpu'):\n"
     ]
    },
    {
     "name": "stdout",
     "output_type": "stream",
     "text": [
      "Val F1: 0.5069 | Val Acc: 0.5240\n"
     ]
    },
    {
     "name": "stderr",
     "output_type": "stream",
     "text": [
      "Epoch 49/50:   0%|                                                                                 | 0/271 [00:00<?, ?it/s]/var/folders/06/4mfvxfgx51scnyqsczh6cd900000gn/T/ipykernel_26329/3831681715.py:156: FutureWarning: `torch.cuda.amp.autocast(args...)` is deprecated. Please use `torch.amp.autocast('cuda', args...)` instead.\n",
      "  with torch.cuda.amp.autocast(enabled=self.device.type != 'cpu'):\n",
      "/opt/anaconda3/lib/python3.12/site-packages/torch/amp/autocast_mode.py:266: UserWarning: User provided device_type of 'cuda', but CUDA is not available. Disabling\n",
      "  warnings.warn(\n",
      "Epoch 49/50: 100%|███████████████████████████████████████████████████████████████████████| 271/271 [00:53<00:00,  5.02it/s]\n",
      "/var/folders/06/4mfvxfgx51scnyqsczh6cd900000gn/T/ipykernel_26329/3831681715.py:192: FutureWarning: `torch.cuda.amp.autocast(args...)` is deprecated. Please use `torch.amp.autocast('cuda', args...)` instead.\n",
      "  with torch.cuda.amp.autocast(enabled=self.device.type != 'cpu'):\n"
     ]
    },
    {
     "name": "stdout",
     "output_type": "stream",
     "text": [
      "Val F1: 0.5109 | Val Acc: 0.5267\n"
     ]
    },
    {
     "name": "stderr",
     "output_type": "stream",
     "text": [
      "Epoch 50/50:   0%|                                                                                 | 0/271 [00:00<?, ?it/s]/var/folders/06/4mfvxfgx51scnyqsczh6cd900000gn/T/ipykernel_26329/3831681715.py:156: FutureWarning: `torch.cuda.amp.autocast(args...)` is deprecated. Please use `torch.amp.autocast('cuda', args...)` instead.\n",
      "  with torch.cuda.amp.autocast(enabled=self.device.type != 'cpu'):\n",
      "/opt/anaconda3/lib/python3.12/site-packages/torch/amp/autocast_mode.py:266: UserWarning: User provided device_type of 'cuda', but CUDA is not available. Disabling\n",
      "  warnings.warn(\n",
      "Epoch 50/50: 100%|███████████████████████████████████████████████████████████████████████| 271/271 [00:53<00:00,  5.04it/s]\n",
      "/var/folders/06/4mfvxfgx51scnyqsczh6cd900000gn/T/ipykernel_26329/3831681715.py:192: FutureWarning: `torch.cuda.amp.autocast(args...)` is deprecated. Please use `torch.amp.autocast('cuda', args...)` instead.\n",
      "  with torch.cuda.amp.autocast(enabled=self.device.type != 'cpu'):\n"
     ]
    },
    {
     "name": "stdout",
     "output_type": "stream",
     "text": [
      "Val F1: 0.5041 | Val Acc: 0.5213\n"
     ]
    },
    {
     "data": {
      "image/png": "[encoded data removed]",
      "text/plain": [
       "<Figure size 1500x500 with 3 Axes>"
      ]
     },
     "metadata": {},
     "output_type": "display_data"
    }
   ],
   "source": [
    "if __name__ == \"__main__\":\n",
    "    device = torch.device('mps')\n",
    "    config = Config()\n",
    "    trainer = PoseTrainer(config, device)\n",
    "\n",
    "    # Модельный summary\n",
    "    from torchinfo import summary\n",
    "    print(summary(trainer.model, input_size=(config.batch_size, 3, *config.img_size), device=device.type))\n",
    "    \n",
    "    trainer.train()"
   ]
  },
  {
   "cell_type": "code",
   "execution_count": null,
   "id": "e5d18c3b-0b5b-42b2-b6c0-53ebd464a68d",
   "metadata": {},
   "outputs": [],
   "source": []
  }
 ],
 "metadata": {
  "kernelspec": {
   "display_name": "Python 3 (ipykernel)",
   "language": "python",
   "name": "python3"
  },
  "language_info": {
   "codemirror_mode": {
    "name": "ipython",
    "version": 3
   },
   "file_extension": ".py",
   "mimetype": "text/x-python",
   "name": "python",
   "nbconvert_exporter": "python",
   "pygments_lexer": "ipython3",
   "version": "3.12.7"
  }
 },
 "nbformat": 4,
 "nbformat_minor": 5
}
