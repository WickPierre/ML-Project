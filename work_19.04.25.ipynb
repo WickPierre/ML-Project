{
 "cells": [
  {
   "cell_type": "code",
   "execution_count": 4,
   "metadata": {
    "ExecuteTime": {
     "end_time": "2025-04-19T18:06:41.478559Z",
     "start_time": "2025-04-19T18:04:33.217737Z"
    }
   },
   "outputs": [
    {
     "name": "stdout",
     "output_type": "stream",
     "text": [
      "Path checks:\n",
      "Categories file: True\n",
      "Train answers: True\n",
      "Image dir: True\n",
      "\n",
      "Using device: mps\n",
      "\n",
      "[1/4] Загрузка данных...\n",
      "Пример данных:\n",
      "   img_id  target_feature\n",
      "0   17363               2\n",
      "1    8612               5\n",
      "2    8244               0\n",
      "3    9264               0\n",
      "4    5382               6\n",
      "\n",
      "[2/4] Валидация данных...\n",
      "Данных после очистки: 12367\n",
      "\n",
      "[3/4] Проверка изображений...\n",
      "Найдено изображений: 12367\n",
      "Данных после фильтрации: 12367\n",
      "\n",
      "[4/4] Разделение данных...\n",
      "\n",
      "Epoch 1/50\n"
     ]
    },
    {
     "name": "stderr",
     "output_type": "stream",
     "text": [
      "                                                                                                                            \r"
     ]
    },
    {
     "name": "stdout",
     "output_type": "stream",
     "text": [
      "Train Loss: 2.3544\n",
      "Val Loss: 2.2289\n",
      "Val Acc: 0.2183\n",
      "Val F1: 0.1761\n",
      "LR: 5.05e-05\n",
      "\n",
      "Epoch 2/50\n"
     ]
    },
    {
     "name": "stderr",
     "output_type": "stream",
     "text": [
      "                                                                                                                            \r"
     ]
    },
    {
     "name": "stdout",
     "output_type": "stream",
     "text": [
      "Train Loss: 2.1428\n",
      "Val Loss: 2.0489\n",
      "Val Acc: 0.2593\n",
      "Val F1: 0.1932\n",
      "LR: 8.15e-05\n",
      "\n",
      "Epoch 3/50\n"
     ]
    },
    {
     "name": "stderr",
     "output_type": "stream",
     "text": [
      "                                                                                                                            \r"
     ]
    },
    {
     "name": "stdout",
     "output_type": "stream",
     "text": [
      "Train Loss: 2.0164\n",
      "Val Loss: 1.9394\n",
      "Val Acc: 0.2819\n",
      "Val F1: 0.2081\n",
      "LR: 1.32e-04\n",
      "\n",
      "Epoch 4/50\n"
     ]
    },
    {
     "name": "stderr",
     "output_type": "stream",
     "text": [
      "                                                                                                                            \r"
     ]
    },
    {
     "name": "stdout",
     "output_type": "stream",
     "text": [
      "Train Loss: 1.9313\n",
      "Val Loss: 1.9170\n",
      "Val Acc: 0.2690\n",
      "Val F1: 0.1974\n",
      "LR: 1.99e-04\n",
      "\n",
      "Epoch 5/50\n"
     ]
    },
    {
     "name": "stderr",
     "output_type": "stream",
     "text": [
      "                                                                                                                            \r"
     ]
    },
    {
     "name": "stdout",
     "output_type": "stream",
     "text": [
      "Train Loss: 1.8894\n",
      "Val Loss: 1.8914\n",
      "Val Acc: 0.2868\n",
      "Val F1: 0.2279\n",
      "LR: 2.80e-04\n",
      "\n",
      "Epoch 6/50\n"
     ]
    },
    {
     "name": "stderr",
     "output_type": "stream",
     "text": [
      "                                                                                                                            \r"
     ]
    },
    {
     "name": "stdout",
     "output_type": "stream",
     "text": [
      "Train Loss: 1.8490\n",
      "Val Loss: 1.8984\n",
      "Val Acc: 0.2852\n",
      "Val F1: 0.2099\n",
      "LR: 3.72e-04\n",
      "\n",
      "Epoch 7/50\n"
     ]
    },
    {
     "name": "stderr",
     "output_type": "stream",
     "text": [
      "                                                                                                                            \r"
     ]
    },
    {
     "name": "stdout",
     "output_type": "stream",
     "text": [
      "Train Loss: 1.8131\n",
      "Val Loss: 1.8728\n",
      "Val Acc: 0.3030\n",
      "Val F1: 0.2342\n",
      "LR: 4.70e-04\n",
      "\n",
      "Epoch 8/50\n"
     ]
    },
    {
     "name": "stderr",
     "output_type": "stream",
     "text": [
      "                                                                                                                            \r"
     ]
    },
    {
     "name": "stdout",
     "output_type": "stream",
     "text": [
      "Train Loss: 1.7933\n",
      "Val Loss: 1.7866\n",
      "Val Acc: 0.3116\n",
      "Val F1: 0.2565\n",
      "LR: 5.70e-04\n",
      "\n",
      "Epoch 9/50\n"
     ]
    },
    {
     "name": "stderr",
     "output_type": "stream",
     "text": [
      "                                                                                                                            \r"
     ]
    },
    {
     "name": "stdout",
     "output_type": "stream",
     "text": [
      "Train Loss: 1.7665\n",
      "Val Loss: 1.7692\n",
      "Val Acc: 0.3132\n",
      "Val F1: 0.2705\n",
      "LR: 6.69e-04\n",
      "\n",
      "Epoch 10/50\n"
     ]
    },
    {
     "name": "stderr",
     "output_type": "stream",
     "text": [
      "                                                                                                                            \r"
     ]
    },
    {
     "name": "stdout",
     "output_type": "stream",
     "text": [
      "Train Loss: 1.7505\n",
      "Val Loss: 1.9595\n",
      "Val Acc: 0.2755\n",
      "Val F1: 0.2279\n",
      "LR: 7.60e-04\n",
      "\n",
      "Epoch 11/50\n"
     ]
    },
    {
     "name": "stderr",
     "output_type": "stream",
     "text": [
      "                                                                                                                            \r"
     ]
    },
    {
     "name": "stdout",
     "output_type": "stream",
     "text": [
      "Train Loss: 1.7212\n",
      "Val Loss: 1.7463\n",
      "Val Acc: 0.3364\n",
      "Val F1: 0.2721\n",
      "LR: 8.41e-04\n",
      "\n",
      "Epoch 12/50\n"
     ]
    },
    {
     "name": "stderr",
     "output_type": "stream",
     "text": [
      "                                                                                                                            \r"
     ]
    },
    {
     "name": "stdout",
     "output_type": "stream",
     "text": [
      "Train Loss: 1.7073\n",
      "Val Loss: 1.6903\n",
      "Val Acc: 0.3650\n",
      "Val F1: 0.3184\n",
      "LR: 9.09e-04\n",
      "\n",
      "Epoch 13/50\n"
     ]
    },
    {
     "name": "stderr",
     "output_type": "stream",
     "text": [
      "                                                                                                                            \r"
     ]
    },
    {
     "name": "stdout",
     "output_type": "stream",
     "text": [
      "Train Loss: 1.6872\n",
      "Val Loss: 1.7886\n",
      "Val Acc: 0.3116\n",
      "Val F1: 0.2673\n",
      "LR: 9.59e-04\n",
      "\n",
      "Epoch 14/50\n"
     ]
    },
    {
     "name": "stderr",
     "output_type": "stream",
     "text": [
      "                                                                                                                            \r"
     ]
    },
    {
     "name": "stdout",
     "output_type": "stream",
     "text": [
      "Train Loss: 1.6540\n",
      "Val Loss: 1.6517\n",
      "Val Acc: 0.3542\n",
      "Val F1: 0.3132\n",
      "LR: 9.90e-04\n",
      "\n",
      "Epoch 15/50\n"
     ]
    },
    {
     "name": "stderr",
     "output_type": "stream",
     "text": [
      "                                                                                                                            \r"
     ]
    },
    {
     "name": "stdout",
     "output_type": "stream",
     "text": [
      "Train Loss: 1.6457\n",
      "Val Loss: 1.6323\n",
      "Val Acc: 0.3650\n",
      "Val F1: 0.3227\n",
      "LR: 1.00e-03\n",
      "\n",
      "Epoch 16/50\n"
     ]
    },
    {
     "name": "stderr",
     "output_type": "stream",
     "text": [
      "                                                                                                                            \r"
     ]
    },
    {
     "name": "stdout",
     "output_type": "stream",
     "text": [
      "Train Loss: 1.6218\n",
      "Val Loss: 1.6118\n",
      "Val Acc: 0.3671\n",
      "Val F1: 0.3263\n",
      "LR: 9.98e-04\n",
      "\n",
      "Epoch 17/50\n"
     ]
    },
    {
     "name": "stderr",
     "output_type": "stream",
     "text": [
      "                                                                                                                            \r"
     ]
    },
    {
     "name": "stdout",
     "output_type": "stream",
     "text": [
      "Train Loss: 1.6044\n",
      "Val Loss: 1.6258\n",
      "Val Acc: 0.3704\n",
      "Val F1: 0.3309\n",
      "LR: 9.92e-04\n",
      "\n",
      "Epoch 18/50\n"
     ]
    },
    {
     "name": "stderr",
     "output_type": "stream",
     "text": [
      "                                                                                                                            \r"
     ]
    },
    {
     "name": "stdout",
     "output_type": "stream",
     "text": [
      "Train Loss: 1.5779\n",
      "Val Loss: 1.7148\n",
      "Val Acc: 0.3434\n",
      "Val F1: 0.2974\n",
      "LR: 9.82e-04\n",
      "\n",
      "Epoch 19/50\n"
     ]
    },
    {
     "name": "stderr",
     "output_type": "stream",
     "text": [
      "                                                                                                                            \r"
     ]
    },
    {
     "name": "stdout",
     "output_type": "stream",
     "text": [
      "Train Loss: 1.5653\n",
      "Val Loss: 1.8783\n",
      "Val Acc: 0.3218\n",
      "Val F1: 0.2675\n",
      "LR: 9.68e-04\n",
      "\n",
      "Epoch 20/50\n"
     ]
    },
    {
     "name": "stderr",
     "output_type": "stream",
     "text": [
      "                                                                                                                            \r"
     ]
    },
    {
     "name": "stdout",
     "output_type": "stream",
     "text": [
      "Train Loss: 1.5434\n",
      "Val Loss: 1.5573\n",
      "Val Acc: 0.3957\n",
      "Val F1: 0.3509\n",
      "LR: 9.50e-04\n",
      "\n",
      "Epoch 21/50\n"
     ]
    },
    {
     "name": "stderr",
     "output_type": "stream",
     "text": [
      "                                                                                                                            \r"
     ]
    },
    {
     "name": "stdout",
     "output_type": "stream",
     "text": [
      "Train Loss: 1.5253\n",
      "Val Loss: 1.6525\n",
      "Val Acc: 0.3811\n",
      "Val F1: 0.3453\n",
      "LR: 9.29e-04\n",
      "\n",
      "Epoch 22/50\n"
     ]
    },
    {
     "name": "stderr",
     "output_type": "stream",
     "text": [
      "                                                                                                                            \r"
     ]
    },
    {
     "name": "stdout",
     "output_type": "stream",
     "text": [
      "Train Loss: 1.5049\n",
      "Val Loss: 1.5583\n",
      "Val Acc: 0.3849\n",
      "Val F1: 0.3538\n",
      "LR: 9.04e-04\n",
      "\n",
      "Epoch 23/50\n"
     ]
    },
    {
     "name": "stderr",
     "output_type": "stream",
     "text": [
      "                                                                                                                            \r"
     ]
    },
    {
     "name": "stdout",
     "output_type": "stream",
     "text": [
      "Train Loss: 1.4778\n",
      "Val Loss: 1.5830\n",
      "Val Acc: 0.3790\n",
      "Val F1: 0.3428\n",
      "LR: 8.76e-04\n",
      "\n",
      "Epoch 24/50\n"
     ]
    },
    {
     "name": "stderr",
     "output_type": "stream",
     "text": [
      "                                                                                                                            \r"
     ]
    },
    {
     "name": "stdout",
     "output_type": "stream",
     "text": [
      "Train Loss: 1.4712\n",
      "Val Loss: 1.5493\n",
      "Val Acc: 0.4000\n",
      "Val F1: 0.3783\n",
      "LR: 8.45e-04\n",
      "\n",
      "Epoch 25/50\n"
     ]
    },
    {
     "name": "stderr",
     "output_type": "stream",
     "text": [
      "                                                                                                                            \r"
     ]
    },
    {
     "name": "stdout",
     "output_type": "stream",
     "text": [
      "Train Loss: 1.4512\n",
      "Val Loss: 1.5662\n",
      "Val Acc: 0.3925\n",
      "Val F1: 0.3526\n",
      "LR: 8.12e-04\n",
      "\n",
      "Epoch 26/50\n"
     ]
    },
    {
     "name": "stderr",
     "output_type": "stream",
     "text": [
      "                                                                                                                            \r"
     ]
    },
    {
     "name": "stdout",
     "output_type": "stream",
     "text": [
      "Train Loss: 1.4249\n",
      "Val Loss: 1.5300\n",
      "Val Acc: 0.4043\n",
      "Val F1: 0.3641\n",
      "LR: 7.75e-04\n",
      "\n",
      "Epoch 27/50\n"
     ]
    },
    {
     "name": "stderr",
     "output_type": "stream",
     "text": [
      "                                                                                                                            \r"
     ]
    },
    {
     "name": "stdout",
     "output_type": "stream",
     "text": [
      "Train Loss: 1.4069\n",
      "Val Loss: 1.5074\n",
      "Val Acc: 0.4178\n",
      "Val F1: 0.3791\n",
      "LR: 7.37e-04\n",
      "\n",
      "Epoch 28/50\n"
     ]
    },
    {
     "name": "stderr",
     "output_type": "stream",
     "text": [
      "                                                                                                                            \r"
     ]
    },
    {
     "name": "stdout",
     "output_type": "stream",
     "text": [
      "Train Loss: 1.3985\n",
      "Val Loss: 1.5059\n",
      "Val Acc: 0.4162\n",
      "Val F1: 0.3788\n",
      "LR: 6.96e-04\n",
      "\n",
      "Epoch 29/50\n"
     ]
    },
    {
     "name": "stderr",
     "output_type": "stream",
     "text": [
      "                                                                                                                            \r"
     ]
    },
    {
     "name": "stdout",
     "output_type": "stream",
     "text": [
      "Train Loss: 1.3657\n",
      "Val Loss: 1.3964\n",
      "Val Acc: 0.4458\n",
      "Val F1: 0.4044\n",
      "LR: 6.54e-04\n",
      "\n",
      "Epoch 30/50\n"
     ]
    },
    {
     "name": "stderr",
     "output_type": "stream",
     "text": [
      "                                                                                                                            \r"
     ]
    },
    {
     "name": "stdout",
     "output_type": "stream",
     "text": [
      "Train Loss: 1.3426\n",
      "Val Loss: 1.4733\n",
      "Val Acc: 0.4302\n",
      "Val F1: 0.3994\n",
      "LR: 6.11e-04\n",
      "\n",
      "Epoch 31/50\n"
     ]
    },
    {
     "name": "stderr",
     "output_type": "stream",
     "text": [
      "                                                                                                                            \r"
     ]
    },
    {
     "name": "stdout",
     "output_type": "stream",
     "text": [
      "Train Loss: 1.3281\n",
      "Val Loss: 1.4012\n",
      "Val Acc: 0.4431\n",
      "Val F1: 0.4015\n",
      "LR: 5.67e-04\n",
      "\n",
      "Epoch 32/50\n"
     ]
    },
    {
     "name": "stderr",
     "output_type": "stream",
     "text": [
      "                                                                                                                            \r"
     ]
    },
    {
     "name": "stdout",
     "output_type": "stream",
     "text": [
      "Train Loss: 1.2970\n",
      "Val Loss: 1.4242\n",
      "Val Acc: 0.4415\n",
      "Val F1: 0.4084\n",
      "LR: 5.22e-04\n",
      "\n",
      "Epoch 33/50\n"
     ]
    },
    {
     "name": "stderr",
     "output_type": "stream",
     "text": [
      "                                                                                                                            \r"
     ]
    },
    {
     "name": "stdout",
     "output_type": "stream",
     "text": [
      "Train Loss: 1.2866\n",
      "Val Loss: 1.3431\n",
      "Val Acc: 0.4636\n",
      "Val F1: 0.4267\n",
      "LR: 4.77e-04\n",
      "\n",
      "Epoch 34/50\n"
     ]
    },
    {
     "name": "stderr",
     "output_type": "stream",
     "text": [
      "                                                                                                                            \r"
     ]
    },
    {
     "name": "stdout",
     "output_type": "stream",
     "text": [
      "Train Loss: 1.2666\n",
      "Val Loss: 1.3519\n",
      "Val Acc: 0.4792\n",
      "Val F1: 0.4312\n",
      "LR: 4.33e-04\n",
      "\n",
      "Epoch 35/50\n"
     ]
    },
    {
     "name": "stderr",
     "output_type": "stream",
     "text": [
      "                                                                                                                            \r"
     ]
    },
    {
     "name": "stdout",
     "output_type": "stream",
     "text": [
      "Train Loss: 1.2436\n",
      "Val Loss: 1.3341\n",
      "Val Acc: 0.4787\n",
      "Val F1: 0.4374\n",
      "LR: 3.89e-04\n",
      "\n",
      "Epoch 36/50\n"
     ]
    },
    {
     "name": "stderr",
     "output_type": "stream",
     "text": [
      "                                                                                                                            \r"
     ]
    },
    {
     "name": "stdout",
     "output_type": "stream",
     "text": [
      "Train Loss: 1.2239\n",
      "Val Loss: 1.3049\n",
      "Val Acc: 0.4836\n",
      "Val F1: 0.4424\n",
      "LR: 3.45e-04\n",
      "\n",
      "Epoch 37/50\n"
     ]
    },
    {
     "name": "stderr",
     "output_type": "stream",
     "text": [
      "                                                                                                                            \r"
     ]
    },
    {
     "name": "stdout",
     "output_type": "stream",
     "text": [
      "Train Loss: 1.2094\n",
      "Val Loss: 1.2918\n",
      "Val Acc: 0.4895\n",
      "Val F1: 0.4446\n",
      "LR: 3.03e-04\n",
      "\n",
      "Epoch 38/50\n"
     ]
    },
    {
     "name": "stderr",
     "output_type": "stream",
     "text": [
      "                                                                                                                            \r"
     ]
    },
    {
     "name": "stdout",
     "output_type": "stream",
     "text": [
      "Train Loss: 1.1970\n",
      "Val Loss: 1.3228\n",
      "Val Acc: 0.4884\n",
      "Val F1: 0.4420\n",
      "LR: 2.63e-04\n",
      "\n",
      "Epoch 39/50\n"
     ]
    },
    {
     "name": "stderr",
     "output_type": "stream",
     "text": [
      "                                                                                                                            \r"
     ]
    },
    {
     "name": "stdout",
     "output_type": "stream",
     "text": [
      "Train Loss: 1.1765\n",
      "Val Loss: 1.2796\n",
      "Val Acc: 0.4857\n",
      "Val F1: 0.4401\n",
      "LR: 2.24e-04\n",
      "\n",
      "Epoch 40/50\n"
     ]
    },
    {
     "name": "stderr",
     "output_type": "stream",
     "text": [
      "                                                                                                                            \r"
     ]
    },
    {
     "name": "stdout",
     "output_type": "stream",
     "text": [
      "Train Loss: 1.1507\n",
      "Val Loss: 1.2761\n",
      "Val Acc: 0.4841\n",
      "Val F1: 0.4338\n",
      "LR: 1.88e-04\n",
      "\n",
      "Epoch 41/50\n"
     ]
    },
    {
     "name": "stderr",
     "output_type": "stream",
     "text": [
      "                                                                                                                            \r"
     ]
    },
    {
     "name": "stdout",
     "output_type": "stream",
     "text": [
      "Train Loss: 1.1465\n",
      "Val Loss: 1.2887\n",
      "Val Acc: 0.4900\n",
      "Val F1: 0.4432\n",
      "LR: 1.54e-04\n",
      "\n",
      "Epoch 42/50\n"
     ]
    },
    {
     "name": "stderr",
     "output_type": "stream",
     "text": [
      "                                                                                                                            \r"
     ]
    },
    {
     "name": "stdout",
     "output_type": "stream",
     "text": [
      "Train Loss: 1.1353\n",
      "Val Loss: 1.2465\n",
      "Val Acc: 0.5008\n",
      "Val F1: 0.4543\n",
      "LR: 1.23e-04\n",
      "\n",
      "Epoch 43/50\n"
     ]
    },
    {
     "name": "stderr",
     "output_type": "stream",
     "text": [
      "                                                                                                                            \r"
     ]
    },
    {
     "name": "stdout",
     "output_type": "stream",
     "text": [
      "Train Loss: 1.1334\n",
      "Val Loss: 1.2441\n",
      "Val Acc: 0.5013\n",
      "Val F1: 0.4541\n",
      "LR: 9.54e-05\n",
      "\n",
      "Epoch 44/50\n"
     ]
    },
    {
     "name": "stderr",
     "output_type": "stream",
     "text": [
      "                                                                                                                            \r"
     ]
    },
    {
     "name": "stdout",
     "output_type": "stream",
     "text": [
      "Train Loss: 1.1127\n",
      "Val Loss: 1.2397\n",
      "Val Acc: 0.5116\n",
      "Val F1: 0.4668\n",
      "LR: 7.07e-05\n",
      "\n",
      "Epoch 45/50\n"
     ]
    },
    {
     "name": "stderr",
     "output_type": "stream",
     "text": [
      "                                                                                                                             \r"
     ]
    },
    {
     "name": "stdout",
     "output_type": "stream",
     "text": [
      "Train Loss: 1.0974\n",
      "Val Loss: 1.2420\n",
      "Val Acc: 0.5057\n",
      "Val F1: 0.4597\n",
      "LR: 4.94e-05\n",
      "\n",
      "Epoch 46/50\n"
     ]
    },
    {
     "name": "stderr",
     "output_type": "stream",
     "text": [
      "                                                                                                                             \r"
     ]
    },
    {
     "name": "stdout",
     "output_type": "stream",
     "text": [
      "Train Loss: 1.0929\n",
      "Val Loss: 1.2418\n",
      "Val Acc: 0.5100\n",
      "Val F1: 0.4628\n",
      "LR: 3.18e-05\n",
      "\n",
      "Epoch 47/50\n"
     ]
    },
    {
     "name": "stderr",
     "output_type": "stream",
     "text": [
      "                                                                                                                             \r"
     ]
    },
    {
     "name": "stdout",
     "output_type": "stream",
     "text": [
      "Train Loss: 1.0943\n",
      "Val Loss: 1.2400\n",
      "Val Acc: 0.5073\n",
      "Val F1: 0.4603\n",
      "LR: 1.80e-05\n",
      "\n",
      "Epoch 48/50\n"
     ]
    },
    {
     "name": "stderr",
     "output_type": "stream",
     "text": [
      "                                                                                                                             \r"
     ]
    },
    {
     "name": "stdout",
     "output_type": "stream",
     "text": [
      "Train Loss: 1.0861\n",
      "Val Loss: 1.2346\n",
      "Val Acc: 0.5040\n",
      "Val F1: 0.4567\n",
      "LR: 8.01e-06\n",
      "\n",
      "Epoch 49/50\n"
     ]
    },
    {
     "name": "stderr",
     "output_type": "stream",
     "text": [
      "                                                                                                                             \r"
     ]
    },
    {
     "name": "stdout",
     "output_type": "stream",
     "text": [
      "Train Loss: 1.0860\n",
      "Val Loss: 1.2421\n",
      "Val Acc: 0.5040\n",
      "Val F1: 0.4569\n",
      "LR: 2.00e-06\n",
      "\n",
      "Epoch 50/50\n"
     ]
    },
    {
     "name": "stderr",
     "output_type": "stream",
     "text": [
      "                                                                                                                             \r"
     ]
    },
    {
     "name": "stdout",
     "output_type": "stream",
     "text": [
      "Train Loss: 1.0827\n",
      "Val Loss: 1.2355\n",
      "Val Acc: 0.5094\n",
      "Val F1: 0.4618\n",
      "LR: 4.03e-09\n"
     ]
    },
    {
     "data": {
      "image/png": "[encoded data removed]",
      "text/plain": [
       "<Figure size 1500x500 with 3 Axes>"
      ]
     },
     "metadata": {},
     "output_type": "display_data"
    }
   ],
   "source": [
    "import torch\n",
    "import torch.nn as nn\n",
    "import torch.nn.functional as F\n",
    "import os\n",
    "from torch.utils.data import Dataset, DataLoader\n",
    "from torchvision import transforms\n",
    "from PIL import Image\n",
    "import pandas as pd\n",
    "from sklearn.model_selection import train_test_split\n",
    "import numpy as np\n",
    "from sklearn.metrics import f1_score\n",
    "import matplotlib.pyplot as plt\n",
    "from tqdm import tqdm\n",
    "\n",
    "from training_utils import HumanPoseDataset, Config\n",
    "\n",
    "class DenseLayer(nn.Module):\n",
    "    def __init__(self, in_channels, growth_rate, bn_size, drop_rate):\n",
    "        super().__init__()\n",
    "        self.norm1 = nn.BatchNorm2d(in_channels)\n",
    "        self.relu1 = nn.ReLU(inplace=True)\n",
    "        self.conv1 = nn.Conv2d(in_channels, bn_size * growth_rate, \n",
    "                              kernel_size=1, bias=False)\n",
    "        self.norm2 = nn.BatchNorm2d(bn_size * growth_rate)\n",
    "        self.relu2 = nn.ReLU(inplace=True)\n",
    "        self.conv2 = nn.Conv2d(bn_size * growth_rate, growth_rate,\n",
    "                              kernel_size=3, padding=1, bias=False)\n",
    "        self.drop_rate = drop_rate\n",
    "\n",
    "    def forward(self, x):\n",
    "        new_features = self.conv1(self.relu1(self.norm1(x)))\n",
    "        new_features = self.conv2(self.relu2(self.norm2(new_features)))\n",
    "        if self.drop_rate > 0:\n",
    "            new_features = F.dropout(new_features, p=self.drop_rate,\n",
    "                                    training=self.training)\n",
    "        return torch.cat([x, new_features], 1)\n",
    "\n",
    "class DenseBlock(nn.Module):\n",
    "    def __init__(self, num_layers, in_channels, growth_rate, bn_size, drop_rate):\n",
    "        super().__init__()\n",
    "        layers = []\n",
    "        for i in range(num_layers):\n",
    "            layer = DenseLayer(\n",
    "                in_channels + i * growth_rate,\n",
    "                growth_rate,\n",
    "                bn_size,\n",
    "                drop_rate\n",
    "            )\n",
    "            layers.append(layer)\n",
    "        self.block = nn.Sequential(*layers)\n",
    "\n",
    "    def forward(self, x):\n",
    "        return self.block(x)\n",
    "\n",
    "class Transition(nn.Module):\n",
    "    def __init__(self, in_channels, out_channels):\n",
    "        super().__init__()\n",
    "        self.norm = nn.BatchNorm2d(in_channels)\n",
    "        self.relu = nn.ReLU(inplace=True)\n",
    "        self.conv = nn.Conv2d(in_channels, out_channels, kernel_size=1, bias=False)\n",
    "        self.pool = nn.AvgPool2d(kernel_size=2, stride=2)\n",
    "\n",
    "    def forward(self, x):\n",
    "        x = self.conv(self.relu(self.norm(x)))\n",
    "        return self.pool(x)\n",
    "\n",
    "class DenseNetFromScratch(nn.Module):\n",
    "    def __init__(self, config):\n",
    "        super().__init__()\n",
    "        self.config = config\n",
    "        num_init_features = 2 * config.growth_rate\n",
    "        \n",
    "        self.features = nn.Sequential(\n",
    "            nn.Conv2d(3, num_init_features, kernel_size=7, stride=2, padding=3, bias=False),\n",
    "            nn.BatchNorm2d(num_init_features),\n",
    "            nn.ReLU(inplace=True),\n",
    "            nn.MaxPool2d(kernel_size=3, stride=2, padding=1)\n",
    "        )\n",
    "        \n",
    "        num_features = num_init_features\n",
    "        for i, num_layers in enumerate(config.block_config):\n",
    "            block = DenseBlock(\n",
    "                num_layers=num_layers,\n",
    "                in_channels=num_features,\n",
    "                growth_rate=config.growth_rate,\n",
    "                bn_size=config.bn_size,\n",
    "                drop_rate=config.drop_rate\n",
    "            )\n",
    "            self.features.add_module(f'denseblock{i+1}', block)\n",
    "            num_features += num_layers * config.growth_rate\n",
    "            \n",
    "            if i != len(config.block_config) - 1:\n",
    "                trans = Transition(num_features, num_features // 2)\n",
    "                self.features.add_module(f'transition{i+1}', trans)\n",
    "                num_features = num_features // 2\n",
    "        \n",
    "        self.features.add_module('norm_final', nn.BatchNorm2d(num_features))\n",
    "        self.features.add_module('relu_final', nn.ReLU(inplace=True))\n",
    "        self.features.add_module('avg_pool', nn.AdaptiveAvgPool2d((1, 1)))\n",
    "        self.classifier = nn.Linear(num_features, config.num_classes)\n",
    "\n",
    "    def forward(self, x):\n",
    "        x = self.features(x)\n",
    "        x = torch.flatten(x, 1)\n",
    "        return self.classifier(x)\n",
    "\n",
    "def get_transforms(config, train=True):\n",
    "    base_transforms = [\n",
    "        transforms.Resize(config.img_size),\n",
    "        transforms.ToTensor(),\n",
    "        transforms.Normalize(mean=[0.485, 0.456, 0.406], std=[0.229, 0.224, 0.225])\n",
    "    ]\n",
    "    \n",
    "    if train:\n",
    "        augmentations = [\n",
    "            transforms.RandomHorizontalFlip(config.flip_prob),\n",
    "            transforms.RandomRotation(15),\n",
    "            transforms.ColorJitter(brightness=0.2, contrast=0.2, saturation=0.2),\n",
    "            transforms.RandomAffine(degrees=0, translate=(0.1, 0.1)),\n",
    "        ]\n",
    "        return transforms.Compose(augmentations + base_transforms)\n",
    "    return transforms.Compose(base_transforms)\n",
    "\n",
    "def load_data(config):\n",
    "    try:\n",
    "        print(\"\\n[1/4] Загрузка данных...\")\n",
    "        train_df = pd.read_csv(config.train_answers_file)\n",
    "        print(f\"Пример данных:\\n{train_df.head()}\")\n",
    "        \n",
    "        print(\"\\n[2/4] Валидация данных...\")\n",
    "        train_df = train_df.dropna()\n",
    "        print(f\"Данных после очистки: {len(train_df)}\")\n",
    "        \n",
    "        print(\"\\n[3/4] Проверка изображений...\")\n",
    "        existing_images = {f.split('.')[0] for f in os.listdir(config.img_train_dir)}\n",
    "        print(f\"Найдено изображений: {len(existing_images)}\")\n",
    "        \n",
    "        train_df = train_df[train_df['img_id'].astype(str).isin(existing_images)]\n",
    "        print(f\"Данных после фильтрации: {len(train_df)}\")\n",
    "        \n",
    "        print(\"\\n[4/4] Разделение данных...\")\n",
    "        train_df, test_val_df = train_test_split(\n",
    "            train_df,\n",
    "            test_size=config.test_size + config.val_size,\n",
    "            stratify=train_df['target_feature'],\n",
    "            random_state=config.random_state\n",
    "        )\n",
    "        val_df, test_df = train_test_split(\n",
    "            test_val_df,\n",
    "            test_size=config.test_size/(config.test_size + config.val_size),\n",
    "            stratify=test_val_df['target_feature'],\n",
    "            random_state=config.random_state\n",
    "        )\n",
    "        \n",
    "        return (\n",
    "            HumanPoseDataset(train_df, config.img_train_dir, get_transforms(config, True)),\n",
    "            HumanPoseDataset(val_df, config.img_train_dir, get_transforms(config, False)),\n",
    "            HumanPoseDataset(test_df, config.img_train_dir, get_transforms(config, False))\n",
    "        )\n",
    "    except Exception as e:\n",
    "        print(f\"\\nData loading failed: {str(e)}\")\n",
    "        return None, None, None\n",
    "\n",
    "class PoseTrainer:\n",
    "    def __init__(self, config, device):\n",
    "        self.config = config\n",
    "        self.device = device\n",
    "        self.best_metric = 0\n",
    "        self.train_set, self.val_set, self.test_set = load_data(config)\n",
    "        \n",
    "        if not all([self.train_set, self.val_set, self.test_set]):\n",
    "            raise RuntimeError(\"Data loading failed\")\n",
    "            \n",
    "        self._init_dataloaders()\n",
    "        self.model = DenseNetFromScratch(config).to(device)\n",
    "        self.optimizer = torch.optim.AdamW(\n",
    "            self.model.parameters(),\n",
    "            lr=config.lr,\n",
    "            weight_decay=config.weight_decay\n",
    "        )\n",
    "        self.scheduler = torch.optim.lr_scheduler.OneCycleLR(\n",
    "            self.optimizer,\n",
    "            max_lr=config.lr,\n",
    "            epochs=config.epochs,\n",
    "            steps_per_epoch=len(self.train_loader)\n",
    "        )\n",
    "        self.criterion = nn.CrossEntropyLoss()\n",
    "\n",
    "    def _init_dataloaders(self):\n",
    "        self.train_loader = DataLoader(\n",
    "            self.train_set,\n",
    "            batch_size=self.config.batch_size,\n",
    "            shuffle=True,\n",
    "            num_workers=self.config.num_workers,\n",
    "            pin_memory=True\n",
    "        )\n",
    "        self.val_loader = DataLoader(\n",
    "            self.val_set,\n",
    "            batch_size=self.config.batch_size,\n",
    "            num_workers=self.config.num_workers,\n",
    "            pin_memory=True\n",
    "        )\n",
    "        self.test_loader = DataLoader(\n",
    "            self.test_set,\n",
    "            batch_size=self.config.batch_size,\n",
    "            num_workers=self.config.num_workers,\n",
    "            pin_memory=True\n",
    "        )\n",
    "\n",
    "    def train(self):\n",
    "        os.makedirs(self.config.save_dir, exist_ok=True)\n",
    "        history = {'train_loss': [], 'val_loss': [], 'val_acc': [], 'val_f1': []}\n",
    "        \n",
    "        for epoch in range(self.config.epochs):\n",
    "            print(f\"\\nEpoch {epoch+1}/{self.config.epochs}\")\n",
    "            train_loss, _ = self.train_epoch()\n",
    "            val_metrics = self.evaluate(self.val_loader)\n",
    "            \n",
    "            history['train_loss'].append(train_loss)\n",
    "            history['val_loss'].append(val_metrics['loss'])\n",
    "            history['val_acc'].append(val_metrics['accuracy'])\n",
    "            history['val_f1'].append(val_metrics['f1'])\n",
    "            \n",
    "            print(f\"Train Loss: {train_loss:.4f}\")\n",
    "            print(f\"Val Loss: {val_metrics['loss']:.4f}\")\n",
    "            print(f\"Val Acc: {val_metrics['accuracy']:.4f}\")\n",
    "            print(f\"Val F1: {val_metrics['f1']:.4f}\")\n",
    "            print(f\"LR: {self.optimizer.param_groups[0]['lr']:.2e}\")\n",
    "            \n",
    "            # Сохранение после каждой эпохи\n",
    "            torch.save({\n",
    "                'epoch': epoch,\n",
    "                'model_state_dict': self.model.state_dict(),\n",
    "                'optimizer_state_dict': self.optimizer.state_dict(),\n",
    "                'metrics': val_metrics\n",
    "            }, os.path.join(self.config.save_dir, f'checkpoint_epoch_{epoch+1}.pth'))\n",
    "            \n",
    "            if val_metrics['f1'] > self.best_metric:\n",
    "                self.best_metric = val_metrics['f1']\n",
    "                torch.save(self.model.state_dict(), \n",
    "                         os.path.join(self.config.save_dir, 'best_model.pth'))\n",
    "        \n",
    "        self.plot_training(history)\n",
    "        return history\n",
    "\n",
    "    def train_epoch(self):\n",
    "        self.model.train()\n",
    "        total_loss = 0\n",
    "        all_preds = []\n",
    "        all_labels = []\n",
    "        \n",
    "        with tqdm(\n",
    "            self.train_loader, \n",
    "            desc='Training', \n",
    "            leave=False, \n",
    "            dynamic_ncols=True,\n",
    "            unit='batch',\n",
    "            bar_format='{l_bar}{bar}| {n_fmt}/{total_fmt} [{elapsed}<{remaining}, {rate_fmt}{postfix}]'\n",
    "        ) as progress_bar:\n",
    "            \n",
    "            for images, labels in progress_bar:\n",
    "                images = images.to(self.device)\n",
    "                labels = labels.to(self.device)\n",
    "                \n",
    "                self.optimizer.zero_grad()\n",
    "                outputs = self.model(images)\n",
    "                loss = self.criterion(outputs, labels)\n",
    "                loss.backward()\n",
    "                self.optimizer.step()\n",
    "                self.scheduler.step()\n",
    "                \n",
    "                total_loss += loss.item()\n",
    "                preds = torch.argmax(outputs, dim=1).cpu().numpy()\n",
    "                all_preds.extend(preds)\n",
    "                all_labels.extend(labels.cpu().numpy())\n",
    "                \n",
    "                batch_f1 = f1_score(labels.cpu().numpy(), preds, average='weighted')\n",
    "                \n",
    "                progress_bar.set_postfix({\n",
    "                    'loss': f'{loss.item():.3f}',\n",
    "                    'f1': f'{batch_f1:.3f}'\n",
    "                })\n",
    "        \n",
    "        epoch_f1 = f1_score(all_labels, all_preds, average='weighted')\n",
    "        return total_loss / len(self.train_loader), epoch_f1\n",
    "\n",
    "    def evaluate(self, loader):\n",
    "        self.model.eval()\n",
    "        total_loss = 0\n",
    "        all_preds = []\n",
    "        all_labels = []\n",
    "        \n",
    "        with torch.no_grad():\n",
    "            for images, labels in loader:\n",
    "                images = images.to(self.device)\n",
    "                labels = labels.to(self.device)\n",
    "                outputs = self.model(images)\n",
    "                loss = self.criterion(outputs, labels)\n",
    "                total_loss += loss.item()\n",
    "                all_preds.extend(torch.argmax(outputs, dim=1).cpu().numpy())\n",
    "                all_labels.extend(labels.cpu().numpy())\n",
    "                \n",
    "        return {\n",
    "            'loss': total_loss / len(loader),\n",
    "            'accuracy': np.mean(np.array(all_preds) == np.array(all_labels)),\n",
    "            'f1': f1_score(all_labels, all_preds, average='weighted')\n",
    "        }\n",
    "\n",
    "    def plot_training(self, history):\n",
    "        plt.figure(figsize=(15, 5))\n",
    "        plt.subplot(1, 3, 1)\n",
    "        plt.plot(history['train_loss'], label='Train Loss')\n",
    "        plt.plot(history['val_loss'], label='Val Loss')\n",
    "        plt.title('Loss Evolution')\n",
    "        plt.xlabel('Epoch')\n",
    "        plt.ylabel('Loss')\n",
    "        plt.legend()\n",
    "\n",
    "        plt.subplot(1, 3, 2)\n",
    "        plt.plot(history['val_acc'], label='Validation Accuracy')\n",
    "        plt.title('Accuracy Evolution')\n",
    "        plt.xlabel('Epoch')\n",
    "        plt.ylabel('Accuracy')\n",
    "\n",
    "        plt.subplot(1, 3, 3)\n",
    "        plt.plot(history['val_f1'], label='Validation F1-Score')\n",
    "        plt.title('F1-Score Evolution')\n",
    "        plt.xlabel('Epoch')\n",
    "        plt.ylabel('F1-Score')\n",
    "\n",
    "        plt.tight_layout()\n",
    "        plt.savefig(os.path.join(self.config.save_dir, 'training_progress.png'))\n",
    "        plt.show()\n",
    "\n",
    "if __name__ == \"__main__\":\n",
    "    device = torch.device('mps')\n",
    "    config = Config()\n",
    "    \n",
    "    print(\"Path checks:\")\n",
    "    print(\"Categories file:\", os.path.exists(config.categories_file))\n",
    "    print(\"Train answers:\", os.path.exists(config.train_answers_file))\n",
    "    print(\"Image dir:\", os.path.exists(config.img_train_dir))\n",
    "    print(f\"\\nUsing device: {device}\")\n",
    "    \n",
    "    try:\n",
    "        trainer = PoseTrainer(config, device)\n",
    "        history = trainer.train()\n",
    "    except Exception as e:\n",
    "        print(f\"\\nTraining failed: {e}\")"
   ]
  },
  {
   "cell_type": "code",
   "execution_count": 17,
   "metadata": {},
   "outputs": [
    {
     "name": "stderr",
     "output_type": "stream",
     "text": [
      "/var/folders/06/4mfvxfgx51scnyqsczh6cd900000gn/T/ipykernel_68958/189192394.py:145: FutureWarning: You are using `torch.load` with `weights_only=False` (the current default value), which uses the default pickle module implicitly. It is possible to construct malicious pickle data which will execute arbitrary code during unpickling (See https://github.com/pytorch/pytorch/blob/main/SECURITY.md#untrusted-models for more details). In a future release, the default value for `weights_only` will be flipped to `True`. This limits the functions that could be executed during unpickling. Arbitrary objects will no longer be allowed to be loaded via this mode unless they are explicitly allowlisted by the user via `torch.serialization.add_safe_globals`. We recommend you start setting `weights_only=True` for any use case where you don't have full control of the loaded file. Please open an issue on GitHub for any issues related to this experimental feature.\n",
      "  checkpoint = torch.load(config.checkpoint_path, map_location='cpu')\n",
      "Predicting: 100%|██████████████████████████████████████████████████████████████████████████| 166/166 [00:50<00:00,  3.27it/s]"
     ]
    },
    {
     "name": "stdout",
     "output_type": "stream",
     "text": [
      "Submission saved with 13 unique classes\n"
     ]
    },
    {
     "name": "stderr",
     "output_type": "stream",
     "text": [
      "\n"
     ]
    }
   ],
   "source": [
    "import os\n",
    "import torch\n",
    "import pandas as pd\n",
    "from PIL import Image\n",
    "from torch.utils.data import Dataset, DataLoader\n",
    "from torchvision import transforms\n",
    "import torch.nn as nn\n",
    "from tqdm import tqdm\n",
    "\n",
    "# === Конфигурация ===\n",
    "class Config:\n",
    "    img_size = (224, 224)\n",
    "    num_classes = 16\n",
    "    batch_size = 32\n",
    "\n",
    "    # Обновить пути, для тестирования модели\n",
    "\n",
    "    test_dir = os.path.join('human_poses_data', 'img_test')\n",
    "    checkpoint_path = 'saved_models_densenet/checkpoint_epoch_50.pth'\n",
    "    growth_rate = 12\n",
    "    block_config = (4, 4, 4)\n",
    "    bn_size = 4\n",
    "    drop_rate = 0.2\n",
    "\n",
    "class DenseLayer(nn.Module):\n",
    "    def __init__(self, in_channels, growth_rate, bn_size, drop_rate):\n",
    "        super().__init__()\n",
    "        self.norm1 = nn.BatchNorm2d(in_channels)\n",
    "        self.relu1 = nn.ReLU(inplace=True)\n",
    "        self.conv1 = nn.Conv2d(in_channels, bn_size * growth_rate, \n",
    "                              kernel_size=1, bias=False)\n",
    "        self.norm2 = nn.BatchNorm2d(bn_size * growth_rate)\n",
    "        self.relu2 = nn.ReLU(inplace=True)\n",
    "        self.conv2 = nn.Conv2d(bn_size * growth_rate, growth_rate,\n",
    "                              kernel_size=3, padding=1, bias=False)\n",
    "        self.drop_rate = drop_rate\n",
    "\n",
    "    def forward(self, x):\n",
    "        new_features = self.conv1(self.relu1(self.norm1(x)))\n",
    "        new_features = self.conv2(self.relu2(self.norm2(new_features)))\n",
    "        if self.drop_rate > 0:\n",
    "            new_features = F.dropout(new_features, p=self.drop_rate,\n",
    "                                    training=self.training)\n",
    "        return torch.cat([x, new_features], 1)\n",
    "\n",
    "class DenseBlock(nn.Module):\n",
    "    def __init__(self, num_layers, in_channels, growth_rate, bn_size, drop_rate):\n",
    "        super().__init__()\n",
    "        layers = []\n",
    "        for i in range(num_layers):\n",
    "            layer = DenseLayer(\n",
    "                in_channels + i * growth_rate,\n",
    "                growth_rate,\n",
    "                bn_size,\n",
    "                drop_rate\n",
    "            )\n",
    "            layers.append(layer)\n",
    "        self.block = nn.Sequential(*layers)\n",
    "\n",
    "    def forward(self, x):\n",
    "        return self.block(x)\n",
    "\n",
    "class Transition(nn.Module):\n",
    "    def __init__(self, in_channels, out_channels):\n",
    "        super().__init__()\n",
    "        self.norm = nn.BatchNorm2d(in_channels)\n",
    "        self.relu = nn.ReLU(inplace=True)\n",
    "        self.conv = nn.Conv2d(in_channels, out_channels, kernel_size=1, bias=False)\n",
    "        self.pool = nn.AvgPool2d(kernel_size=2, stride=2)\n",
    "\n",
    "    def forward(self, x):\n",
    "        x = self.conv(self.relu(self.norm(x)))\n",
    "        return self.pool(x)\n",
    "\n",
    "class DenseNetFromScratch(nn.Module):\n",
    "    def __init__(self, config):\n",
    "        super().__init__()\n",
    "        self.config = config\n",
    "        num_init_features = 2 * config.growth_rate\n",
    "        \n",
    "        self.features = nn.Sequential(\n",
    "            nn.Conv2d(3, num_init_features, kernel_size=7, stride=2, padding=3, bias=False),\n",
    "            nn.BatchNorm2d(num_init_features),\n",
    "            nn.ReLU(inplace=True),\n",
    "            nn.MaxPool2d(kernel_size=3, stride=2, padding=1)\n",
    "        )\n",
    "        \n",
    "        num_features = num_init_features\n",
    "        for i, num_layers in enumerate(config.block_config):\n",
    "            block = DenseBlock(\n",
    "                num_layers=num_layers,\n",
    "                in_channels=num_features,\n",
    "                growth_rate=config.growth_rate,\n",
    "                bn_size=config.bn_size,\n",
    "                drop_rate=config.drop_rate\n",
    "            )\n",
    "            self.features.add_module(f'denseblock{i+1}', block)\n",
    "            num_features += num_layers * config.growth_rate\n",
    "            \n",
    "            if i != len(config.block_config) - 1:\n",
    "                trans = Transition(num_features, num_features // 2)\n",
    "                self.features.add_module(f'transition{i+1}', trans)\n",
    "                num_features = num_features // 2\n",
    "        \n",
    "        self.features.add_module('norm_final', nn.BatchNorm2d(num_features))\n",
    "        self.features.add_module('relu_final', nn.ReLU(inplace=True))\n",
    "        self.features.add_module('avg_pool', nn.AdaptiveAvgPool2d((1, 1)))\n",
    "        self.classifier = nn.Linear(num_features, config.num_classes)\n",
    "\n",
    "    def forward(self, x):\n",
    "        x = self.features(x)\n",
    "        x = torch.flatten(x, 1)\n",
    "        return self.classifier(x)\n",
    "\n",
    "class TestDataset(Dataset):\n",
    "    def __init__(self, root_dir, transform=None):\n",
    "        self.root_dir = root_dir\n",
    "        self.transform = transform\n",
    "        self.image_files = sorted(\n",
    "            [f for f in os.listdir(root_dir) if f.lower().endswith(('.jpg', '.png'))],\n",
    "            key=lambda x: int(x.split('.')[0])\n",
    "        )\n",
    "        \n",
    "    def __len__(self):\n",
    "        return len(self.image_files)\n",
    "    \n",
    "    def __getitem__(self, idx):\n",
    "        img_name = self.image_files[idx]\n",
    "        img_path = os.path.join(self.root_dir, img_name)\n",
    "        \n",
    "        try:\n",
    "            image = Image.open(img_path).convert('RGB')\n",
    "        except:\n",
    "            image = Image.new('RGB', Config.img_size)\n",
    "            \n",
    "        if self.transform:\n",
    "            image = self.transform(image)\n",
    "            \n",
    "        return img_name, image\n",
    "\n",
    "config = Config()\n",
    "model = DenseNetFromScratch(config)\n",
    "\n",
    "# Загрузка чекпоинта\n",
    "checkpoint = torch.load(config.checkpoint_path, map_location='cpu')\n",
    "model.load_state_dict(checkpoint['model_state_dict'], strict=True)\n",
    "model.eval()\n",
    "\n",
    "device = torch.device('mps')\n",
    "model = model.to(device)\n",
    "\n",
    "test_transform = transforms.Compose([\n",
    "    transforms.Resize(config.img_size),\n",
    "    transforms.ToTensor(),\n",
    "    transforms.Normalize(mean=[0.485, 0.456, 0.406], std=[0.229, 0.224, 0.225])\n",
    "])\n",
    "\n",
    "test_dataset = TestDataset(config.test_dir, transform=test_transform)\n",
    "test_loader = DataLoader(\n",
    "    test_dataset,\n",
    "    batch_size=config.batch_size,\n",
    "    shuffle=False,\n",
    "    num_workers=0\n",
    ")\n",
    "\n",
    "predictions = []\n",
    "image_ids = []\n",
    "\n",
    "with torch.no_grad():\n",
    "    for filenames, images in tqdm(test_loader, desc=\"Predicting\"):\n",
    "        images = images.to(device)\n",
    "        outputs = model(images)\n",
    "        _, preds = torch.max(outputs, 1)\n",
    "        predictions.extend(preds.cpu().numpy())\n",
    "        image_ids.extend(filenames)\n",
    "\n",
    "# Формирование submission\n",
    "submission_df = pd.DataFrame({\n",
    "    'id': [os.path.splitext(fname)[0] for fname in image_ids],\n",
    "    'target_feature': predictions\n",
    "})\n",
    "\n",
    "submission_df.to_csv('submission.csv', index=False)\n",
    "print(f\"Submission saved with {submission_df['target'].nunique()} unique classes\")\n"
   ]
  },
  {
   "cell_type": "code",
   "execution_count": null,
   "metadata": {},
   "outputs": [],
   "source": []
  }
 ],
 "metadata": {
  "kernelspec": {
   "display_name": "Python 3 (ipykernel)",
   "language": "python",
   "name": "python3"
  },
  "language_info": {
   "codemirror_mode": {
    "name": "ipython",
    "version": 3
   },
   "file_extension": ".py",
   "mimetype": "text/x-python",
   "name": "python",
   "nbconvert_exporter": "python",
   "pygments_lexer": "ipython3",
   "version": "3.12.7"
  }
 },
 "nbformat": 4,
 "nbformat_minor": 4
}
