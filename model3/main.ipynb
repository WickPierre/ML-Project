{
 "cells": [
  {
   "cell_type": "markdown",
   "id": "c33476fd-d560-4930-a879-5fe17b065a5b",
   "metadata": {},
   "source": [
    "## Обучение"
   ]
  },
  {
   "cell_type": "code",
   "execution_count": 4,
   "id": "a54f4b70-8a5a-46d9-8d16-c33f57d582bd",
   "metadata": {},
   "outputs": [
    {
     "name": "stderr",
     "output_type": "stream",
     "text": [
      "Epoch 1: 100%|█████████████████████████████████████████████████████████████████████████████| 136/136 [00:52<00:00,  2.57it/s]\n"
     ]
    },
    {
     "name": "stdout",
     "output_type": "stream",
     "text": [
      "F1: 0.2111 | Acc: 0.2863 | Precision: 0.2753 | Recall: 0.2863\n"
     ]
    },
    {
     "name": "stderr",
     "output_type": "stream",
     "text": [
      "Epoch 2: 100%|█████████████████████████████████████████████████████████████████████████████| 136/136 [00:52<00:00,  2.58it/s]\n"
     ]
    },
    {
     "name": "stdout",
     "output_type": "stream",
     "text": [
      "F1: 0.2455 | Acc: 0.2906 | Precision: 0.2449 | Recall: 0.2906\n"
     ]
    },
    {
     "name": "stderr",
     "output_type": "stream",
     "text": [
      "Epoch 3: 100%|█████████████████████████████████████████████████████████████████████████████| 136/136 [00:52<00:00,  2.59it/s]\n"
     ]
    },
    {
     "name": "stdout",
     "output_type": "stream",
     "text": [
      "F1: 0.2811 | Acc: 0.3407 | Precision: 0.2589 | Recall: 0.3407\n"
     ]
    },
    {
     "name": "stderr",
     "output_type": "stream",
     "text": [
      "Epoch 4: 100%|█████████████████████████████████████████████████████████████████████████████| 136/136 [00:53<00:00,  2.54it/s]\n"
     ]
    },
    {
     "name": "stdout",
     "output_type": "stream",
     "text": [
      "F1: 0.3025 | Acc: 0.3558 | Precision: 0.2744 | Recall: 0.3558\n"
     ]
    },
    {
     "name": "stderr",
     "output_type": "stream",
     "text": [
      "Epoch 5: 100%|█████████████████████████████████████████████████████████████████████████████| 136/136 [00:53<00:00,  2.53it/s]\n"
     ]
    },
    {
     "name": "stdout",
     "output_type": "stream",
     "text": [
      "F1: 0.3285 | Acc: 0.3757 | Precision: 0.3110 | Recall: 0.3757\n"
     ]
    },
    {
     "name": "stderr",
     "output_type": "stream",
     "text": [
      "Epoch 6: 100%|█████████████████████████████████████████████████████████████████████████████| 136/136 [00:53<00:00,  2.54it/s]\n"
     ]
    },
    {
     "name": "stdout",
     "output_type": "stream",
     "text": [
      "F1: 0.3305 | Acc: 0.3801 | Precision: 0.3270 | Recall: 0.3801\n"
     ]
    },
    {
     "name": "stderr",
     "output_type": "stream",
     "text": [
      "Epoch 7: 100%|█████████████████████████████████████████████████████████████████████████████| 136/136 [00:52<00:00,  2.60it/s]\n"
     ]
    },
    {
     "name": "stdout",
     "output_type": "stream",
     "text": [
      "F1: 0.3294 | Acc: 0.3860 | Precision: 0.3080 | Recall: 0.3860\n"
     ]
    },
    {
     "name": "stderr",
     "output_type": "stream",
     "text": [
      "Epoch 8: 100%|█████████████████████████████████████████████████████████████████████████████| 136/136 [00:52<00:00,  2.59it/s]\n"
     ]
    },
    {
     "name": "stdout",
     "output_type": "stream",
     "text": [
      "F1: 0.3430 | Acc: 0.3973 | Precision: 0.3200 | Recall: 0.3973\n"
     ]
    },
    {
     "name": "stderr",
     "output_type": "stream",
     "text": [
      "Epoch 9: 100%|█████████████████████████████████████████████████████████████████████████████| 136/136 [00:52<00:00,  2.60it/s]\n"
     ]
    },
    {
     "name": "stdout",
     "output_type": "stream",
     "text": [
      "F1: 0.3799 | Acc: 0.4243 | Precision: 0.3690 | Recall: 0.4243\n"
     ]
    },
    {
     "name": "stderr",
     "output_type": "stream",
     "text": [
      "Epoch 10: 100%|████████████████████████████████████████████████████████████████████████████| 136/136 [00:53<00:00,  2.56it/s]\n"
     ]
    },
    {
     "name": "stdout",
     "output_type": "stream",
     "text": [
      "F1: 0.3768 | Acc: 0.4216 | Precision: 0.3689 | Recall: 0.4216\n"
     ]
    },
    {
     "name": "stderr",
     "output_type": "stream",
     "text": [
      "Epoch 11: 100%|████████████████████████████████████████████████████████████████████████████| 136/136 [00:53<00:00,  2.55it/s]\n"
     ]
    },
    {
     "name": "stdout",
     "output_type": "stream",
     "text": [
      "F1: 0.3952 | Acc: 0.4280 | Precision: 0.3790 | Recall: 0.4280\n"
     ]
    },
    {
     "name": "stderr",
     "output_type": "stream",
     "text": [
      "Epoch 12: 100%|████████████████████████████████████████████████████████████████████████████| 136/136 [00:52<00:00,  2.58it/s]\n"
     ]
    },
    {
     "name": "stdout",
     "output_type": "stream",
     "text": [
      "F1: 0.4098 | Acc: 0.4442 | Precision: 0.4145 | Recall: 0.4442\n"
     ]
    },
    {
     "name": "stderr",
     "output_type": "stream",
     "text": [
      "Epoch 13: 100%|████████████████████████████████████████████████████████████████████████████| 136/136 [00:52<00:00,  2.61it/s]\n"
     ]
    },
    {
     "name": "stdout",
     "output_type": "stream",
     "text": [
      "F1: 0.4276 | Acc: 0.4615 | Precision: 0.4084 | Recall: 0.4615\n"
     ]
    },
    {
     "name": "stderr",
     "output_type": "stream",
     "text": [
      "Epoch 14: 100%|████████████████████████████████████████████████████████████████████████████| 136/136 [00:52<00:00,  2.59it/s]\n"
     ]
    },
    {
     "name": "stdout",
     "output_type": "stream",
     "text": [
      "F1: 0.4440 | Acc: 0.4765 | Precision: 0.4368 | Recall: 0.4765\n"
     ]
    },
    {
     "name": "stderr",
     "output_type": "stream",
     "text": [
      "Epoch 15: 100%|████████████████████████████████████████████████████████████████████████████| 136/136 [00:52<00:00,  2.58it/s]\n"
     ]
    },
    {
     "name": "stdout",
     "output_type": "stream",
     "text": [
      "F1: 0.4474 | Acc: 0.4809 | Precision: 0.4349 | Recall: 0.4809\n"
     ]
    },
    {
     "name": "stderr",
     "output_type": "stream",
     "text": [
      "Epoch 16: 100%|████████████████████████████████████████████████████████████████████████████| 136/136 [00:53<00:00,  2.54it/s]\n"
     ]
    },
    {
     "name": "stdout",
     "output_type": "stream",
     "text": [
      "F1: 0.4584 | Acc: 0.4916 | Precision: 0.4430 | Recall: 0.4916\n"
     ]
    },
    {
     "name": "stderr",
     "output_type": "stream",
     "text": [
      "Epoch 17: 100%|████████████████████████████████████████████████████████████████████████████| 136/136 [00:53<00:00,  2.53it/s]\n"
     ]
    },
    {
     "name": "stdout",
     "output_type": "stream",
     "text": [
      "F1: 0.4781 | Acc: 0.5073 | Precision: 0.4584 | Recall: 0.5073\n"
     ]
    },
    {
     "name": "stderr",
     "output_type": "stream",
     "text": [
      "Epoch 18: 100%|████████████████████████████████████████████████████████████████████████████| 136/136 [00:52<00:00,  2.57it/s]\n"
     ]
    },
    {
     "name": "stdout",
     "output_type": "stream",
     "text": [
      "F1: 0.4689 | Acc: 0.4970 | Precision: 0.4617 | Recall: 0.4970\n"
     ]
    },
    {
     "name": "stderr",
     "output_type": "stream",
     "text": [
      "Epoch 19: 100%|████████████████████████████████████████████████████████████████████████████| 136/136 [00:52<00:00,  2.57it/s]\n"
     ]
    },
    {
     "name": "stdout",
     "output_type": "stream",
     "text": [
      "F1: 0.4943 | Acc: 0.5218 | Precision: 0.4814 | Recall: 0.5218\n"
     ]
    },
    {
     "name": "stderr",
     "output_type": "stream",
     "text": [
      "Epoch 20: 100%|████████████████████████████████████████████████████████████████████████████| 136/136 [00:52<00:00,  2.57it/s]\n"
     ]
    },
    {
     "name": "stdout",
     "output_type": "stream",
     "text": [
      "F1: 0.5006 | Acc: 0.5310 | Precision: 0.4977 | Recall: 0.5310\n"
     ]
    },
    {
     "name": "stderr",
     "output_type": "stream",
     "text": [
      "Epoch 21: 100%|████████████████████████████████████████████████████████████████████████████| 136/136 [00:52<00:00,  2.58it/s]\n"
     ]
    },
    {
     "name": "stdout",
     "output_type": "stream",
     "text": [
      "F1: 0.5075 | Acc: 0.5326 | Precision: 0.5059 | Recall: 0.5326\n"
     ]
    },
    {
     "name": "stderr",
     "output_type": "stream",
     "text": [
      "Epoch 22: 100%|████████████████████████████████████████████████████████████████████████████| 136/136 [00:53<00:00,  2.57it/s]\n"
     ]
    },
    {
     "name": "stdout",
     "output_type": "stream",
     "text": [
      "F1: 0.5038 | Acc: 0.5305 | Precision: 0.4863 | Recall: 0.5305\n"
     ]
    },
    {
     "name": "stderr",
     "output_type": "stream",
     "text": [
      "Epoch 23: 100%|████████████████████████████████████████████████████████████████████████████| 136/136 [00:52<00:00,  2.57it/s]\n"
     ]
    },
    {
     "name": "stdout",
     "output_type": "stream",
     "text": [
      "F1: 0.5183 | Acc: 0.5450 | Precision: 0.5004 | Recall: 0.5450\n"
     ]
    },
    {
     "name": "stderr",
     "output_type": "stream",
     "text": [
      "Epoch 24: 100%|████████████████████████████████████████████████████████████████████████████| 136/136 [00:53<00:00,  2.53it/s]\n"
     ]
    },
    {
     "name": "stdout",
     "output_type": "stream",
     "text": [
      "F1: 0.5370 | Acc: 0.5623 | Precision: 0.5254 | Recall: 0.5623\n"
     ]
    },
    {
     "name": "stderr",
     "output_type": "stream",
     "text": [
      "Epoch 25: 100%|████████████████████████████████████████████████████████████████████████████| 136/136 [00:52<00:00,  2.58it/s]\n"
     ]
    },
    {
     "name": "stdout",
     "output_type": "stream",
     "text": [
      "F1: 0.5258 | Acc: 0.5531 | Precision: 0.5060 | Recall: 0.5531\n"
     ]
    },
    {
     "name": "stderr",
     "output_type": "stream",
     "text": [
      "Epoch 26: 100%|████████████████████████████████████████████████████████████████████████████| 136/136 [00:52<00:00,  2.58it/s]\n"
     ]
    },
    {
     "name": "stdout",
     "output_type": "stream",
     "text": [
      "F1: 0.5330 | Acc: 0.5590 | Precision: 0.5187 | Recall: 0.5590\n"
     ]
    },
    {
     "name": "stderr",
     "output_type": "stream",
     "text": [
      "Epoch 27: 100%|████████████████████████████████████████████████████████████████████████████| 136/136 [00:53<00:00,  2.56it/s]\n"
     ]
    },
    {
     "name": "stdout",
     "output_type": "stream",
     "text": [
      "F1: 0.5332 | Acc: 0.5596 | Precision: 0.5184 | Recall: 0.5596\n"
     ]
    },
    {
     "name": "stderr",
     "output_type": "stream",
     "text": [
      "Epoch 28: 100%|████████████████████████████████████████████████████████████████████████████| 136/136 [00:53<00:00,  2.55it/s]\n"
     ]
    },
    {
     "name": "stdout",
     "output_type": "stream",
     "text": [
      "F1: 0.5342 | Acc: 0.5590 | Precision: 0.5193 | Recall: 0.5590\n"
     ]
    },
    {
     "name": "stderr",
     "output_type": "stream",
     "text": [
      "Epoch 29: 100%|████████████████████████████████████████████████████████████████████████████| 136/136 [00:52<00:00,  2.57it/s]\n"
     ]
    },
    {
     "name": "stdout",
     "output_type": "stream",
     "text": [
      "F1: 0.5458 | Acc: 0.5730 | Precision: 0.5259 | Recall: 0.5730\n"
     ]
    },
    {
     "name": "stderr",
     "output_type": "stream",
     "text": [
      "Epoch 30: 100%|████████████████████████████████████████████████████████████████████████████| 136/136 [00:53<00:00,  2.56it/s]\n"
     ]
    },
    {
     "name": "stdout",
     "output_type": "stream",
     "text": [
      "F1: 0.5526 | Acc: 0.5806 | Precision: 0.5340 | Recall: 0.5806\n"
     ]
    },
    {
     "name": "stderr",
     "output_type": "stream",
     "text": [
      "Epoch 31: 100%|████████████████████████████████████████████████████████████████████████████| 136/136 [00:52<00:00,  2.58it/s]\n"
     ]
    },
    {
     "name": "stdout",
     "output_type": "stream",
     "text": [
      "F1: 0.5534 | Acc: 0.5827 | Precision: 0.5318 | Recall: 0.5827\n"
     ]
    },
    {
     "name": "stderr",
     "output_type": "stream",
     "text": [
      "Epoch 32: 100%|████████████████████████████████████████████████████████████████████████████| 136/136 [00:52<00:00,  2.59it/s]\n"
     ]
    },
    {
     "name": "stdout",
     "output_type": "stream",
     "text": [
      "F1: 0.5633 | Acc: 0.5914 | Precision: 0.5440 | Recall: 0.5914\n"
     ]
    },
    {
     "name": "stderr",
     "output_type": "stream",
     "text": [
      "Epoch 33: 100%|████████████████████████████████████████████████████████████████████████████| 136/136 [00:53<00:00,  2.55it/s]\n"
     ]
    },
    {
     "name": "stdout",
     "output_type": "stream",
     "text": [
      "F1: 0.5593 | Acc: 0.5876 | Precision: 0.5378 | Recall: 0.5876\n"
     ]
    },
    {
     "name": "stderr",
     "output_type": "stream",
     "text": [
      "Epoch 34: 100%|████████████████████████████████████████████████████████████████████████████| 136/136 [00:53<00:00,  2.56it/s]\n"
     ]
    },
    {
     "name": "stdout",
     "output_type": "stream",
     "text": [
      "F1: 0.5637 | Acc: 0.5946 | Precision: 0.5411 | Recall: 0.5946\n"
     ]
    },
    {
     "name": "stderr",
     "output_type": "stream",
     "text": [
      "Epoch 35: 100%|████████████████████████████████████████████████████████████████████████████| 136/136 [00:52<00:00,  2.57it/s]\n"
     ]
    },
    {
     "name": "stdout",
     "output_type": "stream",
     "text": [
      "F1: 0.5647 | Acc: 0.5930 | Precision: 0.5451 | Recall: 0.5930\n"
     ]
    },
    {
     "name": "stderr",
     "output_type": "stream",
     "text": [
      "Epoch 36: 100%|████████████████████████████████████████████████████████████████████████████| 136/136 [00:53<00:00,  2.53it/s]\n"
     ]
    },
    {
     "name": "stdout",
     "output_type": "stream",
     "text": [
      "F1: 0.5719 | Acc: 0.6000 | Precision: 0.5564 | Recall: 0.6000\n"
     ]
    },
    {
     "name": "stderr",
     "output_type": "stream",
     "text": [
      "Epoch 37: 100%|████████████████████████████████████████████████████████████████████████████| 136/136 [00:52<00:00,  2.57it/s]\n"
     ]
    },
    {
     "name": "stdout",
     "output_type": "stream",
     "text": [
      "F1: 0.5724 | Acc: 0.6011 | Precision: 0.5523 | Recall: 0.6011\n"
     ]
    },
    {
     "name": "stderr",
     "output_type": "stream",
     "text": [
      "Epoch 38: 100%|████████████████████████████████████████████████████████████████████████████| 136/136 [00:52<00:00,  2.58it/s]\n"
     ]
    },
    {
     "name": "stdout",
     "output_type": "stream",
     "text": [
      "F1: 0.5726 | Acc: 0.6016 | Precision: 0.5513 | Recall: 0.6016\n"
     ]
    },
    {
     "name": "stderr",
     "output_type": "stream",
     "text": [
      "Epoch 39: 100%|████████████████████████████████████████████████████████████████████████████| 136/136 [00:52<00:00,  2.57it/s]\n"
     ]
    },
    {
     "name": "stdout",
     "output_type": "stream",
     "text": [
      "F1: 0.5699 | Acc: 0.5973 | Precision: 0.5494 | Recall: 0.5973\n"
     ]
    },
    {
     "name": "stderr",
     "output_type": "stream",
     "text": [
      "Epoch 40: 100%|████████████████████████████████████████████████████████████████████████████| 136/136 [00:53<00:00,  2.55it/s]\n"
     ]
    },
    {
     "name": "stdout",
     "output_type": "stream",
     "text": [
      "F1: 0.5664 | Acc: 0.5941 | Precision: 0.5459 | Recall: 0.5941\n"
     ]
    },
    {
     "name": "stderr",
     "output_type": "stream",
     "text": [
      "Epoch 41: 100%|████████████████████████████████████████████████████████████████████████████| 136/136 [00:53<00:00,  2.55it/s]\n"
     ]
    },
    {
     "name": "stdout",
     "output_type": "stream",
     "text": [
      "F1: 0.5804 | Acc: 0.6092 | Precision: 0.5576 | Recall: 0.6092\n"
     ]
    },
    {
     "name": "stderr",
     "output_type": "stream",
     "text": [
      "Epoch 42: 100%|████████████████████████████████████████████████████████████████████████████| 136/136 [00:54<00:00,  2.52it/s]\n"
     ]
    },
    {
     "name": "stdout",
     "output_type": "stream",
     "text": [
      "F1: 0.5751 | Acc: 0.6038 | Precision: 0.5521 | Recall: 0.6038\n"
     ]
    },
    {
     "name": "stderr",
     "output_type": "stream",
     "text": [
      "Epoch 43: 100%|████████████████████████████████████████████████████████████████████████████| 136/136 [00:52<00:00,  2.60it/s]\n"
     ]
    },
    {
     "name": "stdout",
     "output_type": "stream",
     "text": [
      "F1: 0.5773 | Acc: 0.6070 | Precision: 0.5537 | Recall: 0.6070\n"
     ]
    },
    {
     "name": "stderr",
     "output_type": "stream",
     "text": [
      "Epoch 44: 100%|████████████████████████████████████████████████████████████████████████████| 136/136 [00:52<00:00,  2.59it/s]\n"
     ]
    },
    {
     "name": "stdout",
     "output_type": "stream",
     "text": [
      "F1: 0.5712 | Acc: 0.6005 | Precision: 0.5487 | Recall: 0.6005\n"
     ]
    },
    {
     "name": "stderr",
     "output_type": "stream",
     "text": [
      "Epoch 45: 100%|████████████████████████████████████████████████████████████████████████████| 136/136 [00:52<00:00,  2.58it/s]\n"
     ]
    },
    {
     "name": "stdout",
     "output_type": "stream",
     "text": [
      "F1: 0.5783 | Acc: 0.6086 | Precision: 0.5547 | Recall: 0.6086\n"
     ]
    },
    {
     "name": "stderr",
     "output_type": "stream",
     "text": [
      "Epoch 46: 100%|████████████████████████████████████████████████████████████████████████████| 136/136 [00:53<00:00,  2.57it/s]\n"
     ]
    },
    {
     "name": "stdout",
     "output_type": "stream",
     "text": [
      "F1: 0.5730 | Acc: 0.6027 | Precision: 0.5496 | Recall: 0.6027\n",
      "Early stopping triggered.\n"
     ]
    },
    {
     "data": {
      "image/png": "[encoded data removed]",
      "text/plain": [
       "<Figure size 1200x800 with 1 Axes>"
      ]
     },
     "metadata": {},
     "output_type": "display_data"
    }
   ],
   "source": [
    "import torch\n",
    "import torch.nn as nn\n",
    "import torch.nn.functional as F\n",
    "import os\n",
    "from torch.utils.data import Dataset, DataLoader\n",
    "from torchvision import transforms\n",
    "from PIL import Image\n",
    "import pandas as pd\n",
    "from sklearn.model_selection import train_test_split\n",
    "import numpy as np\n",
    "from sklearn.metrics import f1_score, accuracy_score, precision_score, recall_score\n",
    "import matplotlib.pyplot as plt\n",
    "from tqdm import tqdm\n",
    "\n",
    "from training_utils import HumanPoseDataset, Config\n",
    "\n",
    "\n",
    "def get_transforms(config, train=True):\n",
    "    normalize = [transforms.Normalize(mean=[0.485, 0.456, 0.406], std=[0.229, 0.224, 0.225])]\n",
    "    to_tensor = [transforms.ToTensor()]\n",
    "\n",
    "    if train:\n",
    "        aug = [\n",
    "            transforms.Resize(config.img_size),\n",
    "            transforms.RandomHorizontalFlip(p=0.5),\n",
    "            transforms.RandomRotation(degrees=10),\n",
    "            transforms.RandomAffine(degrees=0, translate=(0.05, 0.05)),\n",
    "            transforms.ColorJitter(brightness=0.1, contrast=0.1, saturation=0.1)\n",
    "        ]\n",
    "        return transforms.Compose(aug + to_tensor + normalize)\n",
    "\n",
    "    val = [\n",
    "        transforms.Resize(config.img_size),\n",
    "        transforms.ToTensor()\n",
    "    ]\n",
    "    return transforms.Compose(val + normalize)\n",
    "\n",
    "\n",
    "def load_data(config):\n",
    "    df = pd.read_csv(config.train_answers_file)\n",
    "    df = df.dropna()\n",
    "    available_imgs = set(f.split('.')[0] for f in os.listdir(config.img_train_dir))\n",
    "    df = df[df['img_id'].astype(str).isin(available_imgs)]\n",
    "\n",
    "    train_df, valtest_df = train_test_split(df, test_size=config.test_size + config.val_size, stratify=df['target_feature'], random_state=config.random_state)\n",
    "    val_df, test_df = train_test_split(valtest_df, test_size=config.test_size/(config.test_size + config.val_size), stratify=valtest_df['target_feature'], random_state=config.random_state)\n",
    "\n",
    "    return (\n",
    "        HumanPoseDataset(train_df, config.img_train_dir, get_transforms(config, True)),\n",
    "        HumanPoseDataset(val_df, config.img_train_dir, get_transforms(config, False)),\n",
    "        HumanPoseDataset(test_df, config.img_train_dir, get_transforms(config, False))\n",
    "    )\n",
    "\n",
    "\n",
    "class SqueezeExcite(nn.Module):\n",
    "    def __init__(self, in_channels, reduction=4):\n",
    "        super().__init__()\n",
    "        reduced_channels = in_channels // reduction\n",
    "        self.se = nn.Sequential(\n",
    "            nn.AdaptiveAvgPool2d(1),\n",
    "            nn.Conv2d(in_channels, reduced_channels, kernel_size=1),\n",
    "            nn.ReLU(inplace=True),\n",
    "            nn.Conv2d(reduced_channels, in_channels, kernel_size=1),\n",
    "            nn.Sigmoid()\n",
    "        )\n",
    "\n",
    "    def forward(self, x):\n",
    "        scale = self.se(x)\n",
    "        return x * scale\n",
    "\n",
    "\n",
    "class MBConvBlock(nn.Module):\n",
    "    def __init__(self, in_channels, out_channels, expand_ratio, stride):\n",
    "        super().__init__()\n",
    "        hidden_dim = in_channels * expand_ratio\n",
    "        self.use_residual = (in_channels == out_channels and stride == 1)\n",
    "\n",
    "        self.block = nn.Sequential(\n",
    "            nn.Conv2d(in_channels, hidden_dim, kernel_size=1, bias=False) if expand_ratio != 1 else nn.Identity(),\n",
    "            nn.BatchNorm2d(hidden_dim),\n",
    "            nn.SiLU(),\n",
    "            nn.Conv2d(hidden_dim, hidden_dim, kernel_size=3, stride=stride, padding=1, groups=hidden_dim, bias=False),\n",
    "            nn.BatchNorm2d(hidden_dim),\n",
    "            nn.SiLU(),\n",
    "            SqueezeExcite(hidden_dim),\n",
    "            nn.Conv2d(hidden_dim, out_channels, kernel_size=1, bias=False),\n",
    "            nn.BatchNorm2d(out_channels)\n",
    "        )\n",
    "\n",
    "    def forward(self, x):\n",
    "        identity = x\n",
    "        out = x if isinstance(self.block[0], nn.Identity) else self.block[0](x)\n",
    "        out = self.block[1:](out)\n",
    "        return identity + out if self.use_residual else out\n",
    "\n",
    "\n",
    "class CustomEfficientNet(nn.Module):\n",
    "    def __init__(self, config):\n",
    "        super().__init__()\n",
    "        self.stem = nn.Sequential(\n",
    "            nn.Conv2d(3, 32, kernel_size=3, stride=2, padding=1, bias=False),\n",
    "            nn.BatchNorm2d(32),\n",
    "            nn.SiLU()\n",
    "        )\n",
    "\n",
    "        self.blocks = nn.Sequential(\n",
    "            MBConvBlock(32, 16, expand_ratio=1, stride=1),\n",
    "            MBConvBlock(16, 24, expand_ratio=6, stride=2),\n",
    "            MBConvBlock(24, 24, expand_ratio=6, stride=1),\n",
    "            MBConvBlock(24, 40, expand_ratio=6, stride=2),\n",
    "            MBConvBlock(40, 40, expand_ratio=6, stride=1),\n",
    "            MBConvBlock(40, 80, expand_ratio=6, stride=2),\n",
    "            MBConvBlock(80, 80, expand_ratio=6, stride=1),\n",
    "            MBConvBlock(80, 112, expand_ratio=6, stride=1),\n",
    "            MBConvBlock(112, 112, expand_ratio=6, stride=1),\n",
    "            MBConvBlock(112, 192, expand_ratio=6, stride=2),\n",
    "            MBConvBlock(192, 192, expand_ratio=6, stride=1),\n",
    "            MBConvBlock(192, 320, expand_ratio=6, stride=1)\n",
    "        )\n",
    "\n",
    "        self.head = nn.Sequential(\n",
    "            nn.Conv2d(320, 1280, kernel_size=1, bias=False),\n",
    "            nn.BatchNorm2d(1280),\n",
    "            nn.SiLU(),\n",
    "            nn.AdaptiveAvgPool2d(1),\n",
    "            nn.Flatten(),\n",
    "            nn.Dropout(0.4),\n",
    "            nn.Linear(1280, config.num_classes)\n",
    "        )\n",
    "\n",
    "    def forward(self, x):\n",
    "        x = self.stem(x)\n",
    "        x = self.blocks(x)\n",
    "        return self.head(x)\n",
    "\n",
    "\n",
    "class EarlyStopping:\n",
    "    def __init__(self, patience=5):\n",
    "        self.patience = patience\n",
    "        self.best_score = None\n",
    "        self.counter = 0\n",
    "\n",
    "    def step(self, score):\n",
    "        if self.best_score is None or score > self.best_score:\n",
    "            self.best_score = score\n",
    "            self.counter = 0\n",
    "            return False\n",
    "        else:\n",
    "            self.counter += 1\n",
    "            return self.counter >= self.patience\n",
    "\n",
    "\n",
    "if __name__ == '__main__':\n",
    "    config = Config()\n",
    "    device = torch.device('mps')\n",
    "\n",
    "    train_set, val_set, test_set = load_data(config)\n",
    "    model = CustomEfficientNet(config).to(device)\n",
    "\n",
    "    optimizer = torch.optim.AdamW(model.parameters(), lr=config.lr, weight_decay=config.weight_decay)\n",
    "    scheduler = torch.optim.lr_scheduler.CosineAnnealingLR(optimizer, T_max=config.epochs)\n",
    "    criterion = nn.CrossEntropyLoss()\n",
    "    early_stopper = EarlyStopping(patience=config.patience)\n",
    "\n",
    "    train_loader = DataLoader(train_set, batch_size=config.batch_size, shuffle=True, num_workers=config.num_workers)\n",
    "    val_loader = DataLoader(val_set, batch_size=config.batch_size, num_workers=config.num_workers)\n",
    "\n",
    "    os.makedirs(config.save_dir, exist_ok=True)\n",
    "\n",
    "    history = {'train_loss': [], 'val_f1': [], 'val_acc': [], 'val_precision': [], 'val_recall': []}\n",
    "\n",
    "    for epoch in range(config.epochs):\n",
    "        model.train()\n",
    "        train_loss = 0\n",
    "        for images, labels in tqdm(train_loader, desc=f\"Epoch {epoch+1}\"):\n",
    "            images, labels = images.to(device), labels.to(device)\n",
    "            optimizer.zero_grad()\n",
    "            out = model(images)\n",
    "            loss = criterion(out, labels)\n",
    "            loss.backward()\n",
    "            optimizer.step()\n",
    "            train_loss += loss.item()\n",
    "\n",
    "        scheduler.step()\n",
    "\n",
    "        model.eval()\n",
    "        all_preds, all_labels = [], []\n",
    "        with torch.no_grad():\n",
    "            for images, labels in val_loader:\n",
    "                images, labels = images.to(device), labels.to(device)\n",
    "                out = model(images)\n",
    "                preds = torch.argmax(out, dim=1).cpu().numpy()\n",
    "                all_preds.extend(preds)\n",
    "                all_labels.extend(labels.cpu().numpy())\n",
    "\n",
    "        f1 = f1_score(all_labels, all_preds, average='weighted')\n",
    "        acc = accuracy_score(all_labels, all_preds)\n",
    "        precision = precision_score(all_labels, all_preds, average='weighted', zero_division=0)\n",
    "        recall = recall_score(all_labels, all_preds, average='weighted', zero_division=0)\n",
    "\n",
    "        print(f\"F1: {f1:.4f} | Acc: {acc:.4f} | Precision: {precision:.4f} | Recall: {recall:.4f}\")\n",
    "\n",
    "        history['train_loss'].append(train_loss / len(train_loader))\n",
    "        history['val_f1'].append(f1)\n",
    "        history['val_acc'].append(acc)\n",
    "        history['val_precision'].append(precision)\n",
    "        history['val_recall'].append(recall)\n",
    "\n",
    "        if early_stopper.step(f1):\n",
    "            print(\"Early stopping triggered.\")\n",
    "            break\n",
    "\n",
    "        torch.save(model.state_dict(), os.path.join(config.save_dir, f\"model_epoch_{epoch+1}.pth\"))\n",
    "\n",
    "    torch.save(model.state_dict(), os.path.join(config.save_dir, \"final_model.pth\"))\n",
    "\n",
    "    # # Plot curves\n",
    "    # plt.figure(figsize=(12, 8))\n",
    "    # for key in history:\n",
    "    #     plt.plot(history[key], label=key)\n",
    "    # plt.legend()\n",
    "    # plt.grid(True)\n",
    "    # plt.title('Training Curves')\n",
    "    # plt.savefig(os.path.join(config.save_dir, 'training_curves.png'))\n",
    "    # plt.show()"
   ]
  },
  {
   "cell_type": "code",
   "execution_count": 9,
   "id": "e3799fce-231d-4c52-ab16-8725a22d9c2d",
   "metadata": {},
   "outputs": [
    {
     "data": {
      "image/png": "[encoded data removed]",
      "text/plain": [
       "<Figure size 1500x500 with 3 Axes>"
      ]
     },
     "metadata": {},
     "output_type": "display_data"
    }
   ],
   "source": [
    "plt.figure(figsize=(15, 5))\n",
    "plt.subplot(1, 3, 1)\n",
    "plt.plot(history['train_loss'], label='Train')\n",
    "# plt.plot(history['val_loss'], label='Val')\n",
    "plt.title('Loss')\n",
    "plt.legend()\n",
    "\n",
    "plt.subplot(1, 3, 2)\n",
    "plt.plot(history['val_acc'], label='Accuracy')\n",
    "plt.title('Accuracy')\n",
    "plt.legend()\n",
    "\n",
    "plt.subplot(1, 3, 3)\n",
    "plt.plot(history['val_f1'], label='F1')\n",
    "plt.title('F1 Score')\n",
    "plt.legend()\n",
    "plt.tight_layout()\n",
    "plt.savefig(os.path.join(config.save_dir, 'training_curves.png'))\n",
    "plt.show()"
   ]
  },
  {
   "cell_type": "markdown",
   "id": "ecd3250f-f02c-4615-97f1-ad8835b0fd3f",
   "metadata": {},
   "source": [
    "## Тестирование"
   ]
  },
  {
   "cell_type": "code",
   "execution_count": 42,
   "id": "c29ac9e5-2325-4df6-96a3-4aef134fee25",
   "metadata": {},
   "outputs": [
    {
     "name": "stderr",
     "output_type": "stream",
     "text": [
      "/var/folders/06/4mfvxfgx51scnyqsczh6cd900000gn/T/ipykernel_15468/44946147.py:44: FutureWarning: You are using `torch.load` with `weights_only=False` (the current default value), which uses the default pickle module implicitly. It is possible to construct malicious pickle data which will execute arbitrary code during unpickling (See https://github.com/pytorch/pytorch/blob/main/SECURITY.md#untrusted-models for more details). In a future release, the default value for `weights_only` will be flipped to `True`. This limits the functions that could be executed during unpickling. Arbitrary objects will no longer be allowed to be loaded via this mode unless they are explicitly allowlisted by the user via `torch.serialization.add_safe_globals`. We recommend you start setting `weights_only=True` for any use case where you don't have full control of the loaded file. Please open an issue on GitHub for any issues related to this experimental feature.\n",
      "  model.load_state_dict(torch.load(\n",
      "100%|████████████████████████████████████████████████████████████████████████████████████████| 83/83 [00:50<00:00,  1.65it/s]"
     ]
    },
    {
     "name": "stdout",
     "output_type": "stream",
     "text": [
      "✅ submission.csv saved\n"
     ]
    },
    {
     "name": "stderr",
     "output_type": "stream",
     "text": [
      "\n"
     ]
    }
   ],
   "source": [
    "import torch\n",
    "from torch.utils.data import Dataset, DataLoader\n",
    "import pandas as pd\n",
    "from torchvision import transforms\n",
    "from PIL import Image\n",
    "import os\n",
    "from tqdm import tqdm\n",
    "import numpy as np\n",
    "\n",
    "\n",
    "class TestDataset(Dataset):\n",
    "    def __init__(self, img_dir, transform=None):\n",
    "        self.img_dir = img_dir\n",
    "        self.img_paths = sorted([\n",
    "            f for f in os.listdir(img_dir)\n",
    "            if f.endswith('.jpg')\n",
    "        ])\n",
    "        self.transform = transform\n",
    "\n",
    "    def __len__(self):\n",
    "        return len(self.img_paths)\n",
    "\n",
    "    def __getitem__(self, idx):\n",
    "        filename = self.img_paths[idx]\n",
    "        image = Image.open(os.path.join(self.img_dir, filename)).convert(\"RGB\")\n",
    "        if self.transform:\n",
    "            image = self.transform(image)\n",
    "        return image, filename.split('.')[0]\n",
    "\n",
    "def get_test_transforms(config):\n",
    "    return transforms.Compose([\n",
    "        transforms.Resize(config.img_size),\n",
    "        transforms.ToTensor(),\n",
    "        transforms.Normalize(mean=[0.485, 0.456, 0.406],\n",
    "                             std=[0.229, 0.224, 0.225])\n",
    "    ])\n",
    "\n",
    "def test_model():\n",
    "    config = Config()\n",
    "    config.img_test_dir = os.path.join(config.data_root, 'img_test')\n",
    "    device = torch.device(\"mps\")\n",
    "\n",
    "    model = CustomEfficientNet(config).to(device)\n",
    "    model.load_state_dict(torch.load(\n",
    "        os.path.join(config.save_dir, \"final_model.pth\"),\n",
    "        map_location=device\n",
    "    ))\n",
    "    model.eval()\n",
    "\n",
    "    transform = get_test_transforms(config)\n",
    "    test_dataset = TestDataset(img_dir=config.img_test_dir, transform=transform)\n",
    "    test_loader = DataLoader(test_dataset, batch_size=config.batch_size, num_workers=0)\n",
    "\n",
    "    predictions = []\n",
    "    with torch.no_grad():\n",
    "        for images, ids in tqdm(test_loader):\n",
    "            images = images.to(device)\n",
    "            outputs = model(images)\n",
    "            preds = torch.argmax(outputs, dim=1).cpu().numpy()\n",
    "            for img_id, pred in zip(ids, preds):\n",
    "                predictions.append({'id': img_id, 'target_feature': pred})\n",
    "\n",
    "    df = pd.DataFrame(predictions)\n",
    "    df['id'] = df['id'].astype(int)\n",
    "    df = df.sort_values('id')\n",
    "    df.to_csv(\"submission.csv\", index=False)\n",
    "    print(\"✅ submission.csv saved\")\n",
    "\n",
    "if __name__ == \"__main__\":\n",
    "    test_model()"
   ]
  },
  {
   "cell_type": "code",
   "execution_count": 46,
   "id": "51e90117-70da-4305-8f23-396ea687ba31",
   "metadata": {},
   "outputs": [
    {
     "name": "stdout",
     "output_type": "stream",
     "text": [
      "=========================================================================================================\n",
      "Layer (type:depth-idx)                                  Output Shape              Param #\n",
      "=========================================================================================================\n",
      "CustomEfficientNet                                      [64, 16]                  --\n",
      "├─Sequential: 1-1                                       [64, 32, 112, 112]        --\n",
      "│    └─Conv2d: 2-1                                      [64, 32, 112, 112]        864\n",
      "│    └─BatchNorm2d: 2-2                                 [64, 32, 112, 112]        64\n",
      "│    └─SiLU: 2-3                                        [64, 32, 112, 112]        --\n",
      "├─Sequential: 1-2                                       [64, 320, 7, 7]           --\n",
      "│    └─MBConvBlock: 2-4                                 [64, 16, 112, 112]        --\n",
      "│    │    └─Sequential: 3-1                             --                        1,512\n",
      "│    └─MBConvBlock: 2-5                                 [64, 24, 56, 56]          --\n",
      "│    │    └─Sequential: 3-2                             --                        9,864\n",
      "│    └─MBConvBlock: 2-6                                 [64, 24, 56, 56]          --\n",
      "│    │    └─Sequential: 3-3                             --                        19,380\n",
      "│    └─MBConvBlock: 2-7                                 [64, 40, 28, 28]          --\n",
      "│    │    └─Sequential: 3-4                             --                        21,716\n",
      "│    └─MBConvBlock: 2-8                                 [64, 40, 28, 28]          --\n",
      "│    │    └─Sequential: 3-5                             --                        51,500\n",
      "│    └─MBConvBlock: 2-9                                 [64, 80, 14, 14]          --\n",
      "│    │    └─Sequential: 3-6                             --                        61,180\n",
      "│    └─MBConvBlock: 2-10                                [64, 80, 14, 14]          --\n",
      "│    │    └─Sequential: 3-7                             --                        199,000\n",
      "│    └─MBConvBlock: 2-11                                [64, 112, 14, 14]         --\n",
      "│    │    └─Sequential: 3-8                             --                        214,424\n",
      "│    └─MBConvBlock: 2-12                                [64, 112, 14, 14]         --\n",
      "│    │    └─Sequential: 3-9                             --                        386,120\n",
      "│    └─MBConvBlock: 2-13                                [64, 192, 7, 7]           --\n",
      "│    │    └─Sequential: 3-10                            --                        440,040\n",
      "│    └─MBConvBlock: 2-14                                [64, 192, 7, 7]           --\n",
      "│    │    └─Sequential: 3-11                            --                        1,122,720\n",
      "│    └─MBConvBlock: 2-15                                [64, 320, 7, 7]           --\n",
      "│    │    └─Sequential: 3-12                            --                        1,270,432\n",
      "├─Sequential: 1-3                                       [64, 16]                  --\n",
      "│    └─Conv2d: 2-16                                     [64, 1280, 7, 7]          409,600\n",
      "│    └─BatchNorm2d: 2-17                                [64, 1280, 7, 7]          2,560\n",
      "│    └─SiLU: 2-18                                       [64, 1280, 7, 7]          --\n",
      "│    └─AdaptiveAvgPool2d: 2-19                          [64, 1280, 1, 1]          --\n",
      "│    └─Flatten: 2-20                                    [64, 1280]                --\n",
      "│    └─Dropout: 2-21                                    [64, 1280]                --\n",
      "│    └─Linear: 2-22                                     [64, 16]                  20,496\n",
      "=========================================================================================================\n",
      "Total params: 4,231,472\n",
      "Trainable params: 4,231,472\n",
      "Non-trainable params: 0\n",
      "Total mult-adds (Units.GIGABYTES): 18.00\n",
      "=========================================================================================================\n",
      "Input size (MB): 38.54\n",
      "Forward/backward pass size (MB): 6357.02\n",
      "Params size (MB): 16.93\n",
      "Estimated Total Size (MB): 6412.48\n",
      "=========================================================================================================\n"
     ]
    }
   ],
   "source": [
    "# Модельный summary\n",
    "from torchinfo import summary\n",
    "print(summary(model, input_size=(config.batch_size, 3, *config.img_size), device=device.type))"
   ]
  },
  {
   "cell_type": "code",
   "execution_count": null,
   "id": "b1cd61b6-af4d-421f-9358-4a9eb0f80e9a",
   "metadata": {},
   "outputs": [],
   "source": []
  }
 ],
 "metadata": {
  "kernelspec": {
   "display_name": "Python 3 (ipykernel)",
   "language": "python",
   "name": "python3"
  },
  "language_info": {
   "codemirror_mode": {
    "name": "ipython",
    "version": 3
   },
   "file_extension": ".py",
   "mimetype": "text/x-python",
   "name": "python",
   "nbconvert_exporter": "python",
   "pygments_lexer": "ipython3",
   "version": "3.12.7"
  }
 },
 "nbformat": 4,
 "nbformat_minor": 5
}
