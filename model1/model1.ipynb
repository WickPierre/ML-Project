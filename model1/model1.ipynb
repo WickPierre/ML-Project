{
 "cells": [
  {
   "cell_type": "code",
   "execution_count": 2,
   "id": "2c160cd6-268d-4a58-922e-c66c1133f6e3",
   "metadata": {
    "ExecuteTime": {
     "end_time": "2025-04-16T09:28:20.191188Z",
     "start_time": "2025-04-16T09:28:18.571679Z"
    }
   },
   "outputs": [],
   "source": [
    "import torch\n",
    "import torch.nn as nn\n",
    "import torch.nn.functional as F\n",
    "import os\n",
    "from torch.utils.data import Dataset, DataLoader\n",
    "from torchvision import transforms\n",
    "from PIL import Image\n",
    "import pandas as pd\n",
    "from sklearn.model_selection import train_test_split\n",
    "import numpy as np\n",
    "from sklearn.metrics import f1_score\n",
    "import matplotlib.pyplot as plt\n",
    "from tqdm import tqdm\n",
    "\n",
    "from training_utils import HumanPoseDataset, Config\n",
    "\n",
    "def get_transforms(config, train=True):\n",
    "    size = transforms.Resize(config.img_size)\n",
    "    to_tensor = transforms.ToTensor()\n",
    "    normalize = transforms.Normalize(mean=[0.485, 0.456, 0.406],\n",
    "                                     std=[0.229, 0.224, 0.225])\n",
    "\n",
    "    if train:\n",
    "        aug = transforms.Compose([\n",
    "            size,\n",
    "            transforms.RandomHorizontalFlip(p=0.5),\n",
    "            transforms.RandomRotation(degrees=10),\n",
    "            transforms.RandomAffine(degrees=0, translate=(0.05, 0.05)),\n",
    "            transforms.ColorJitter(brightness=0.05, contrast=0.05, saturation=0.05),\n",
    "            to_tensor,\n",
    "            normalize,\n",
    "            transforms.RandomApply([transforms.GaussianBlur(kernel_size=3, sigma=(0.1, 1.5))], p=0.5),\n",
    "            transforms.RandomErasing(p=0.25, scale=(0.02, 0.1), ratio=(0.3, 3.3))\n",
    "        ])\n",
    "    else:\n",
    "        aug = transforms.Compose([\n",
    "            size,\n",
    "            to_tensor,\n",
    "            normalize\n",
    "        ])\n",
    "\n",
    "    return aug\n",
    "\n",
    "def load_data(config):\n",
    "    print(\"\\n[1/4] Загрузка данных...\")\n",
    "    train_df = pd.read_csv(config.train_answers_file)\n",
    "    print(f\"Пример данных:\\n{train_df.head()}\")\n",
    "\n",
    "    print(\"\\n[2/4] Валидация данных...\")\n",
    "    train_df = train_df.dropna()\n",
    "    print(f\"Данных после очистки: {len(train_df)}\")\n",
    "\n",
    "    print(\"\\n[3/4] Проверка изображений...\")\n",
    "    existing_images = {f.split('.')[0] for f in os.listdir(config.img_train_dir)}\n",
    "    print(f\"Найдено изображений: {len(existing_images)}\")\n",
    "\n",
    "    train_df = train_df[train_df['img_id'].astype(str).isin(existing_images)]\n",
    "    print(f\"Данных после фильтрации: {len(train_df)}\")\n",
    "\n",
    "    print(\"\\n[4/4] Разделение данных...\")\n",
    "    train_df, test_val_df = train_test_split(\n",
    "        train_df,\n",
    "        test_size=config.test_size + config.val_size,\n",
    "        stratify=train_df['target_feature'],\n",
    "        random_state=config.random_state\n",
    "    )\n",
    "    val_df, test_df = train_test_split(\n",
    "        test_val_df,\n",
    "        test_size=config.test_size / (config.test_size + config.val_size),\n",
    "        stratify=test_val_df['target_feature'],\n",
    "        random_state=config.random_state\n",
    "    )\n",
    "\n",
    "    return (\n",
    "        HumanPoseDataset(train_df, config.img_train_dir, get_transforms(config, True)),\n",
    "        HumanPoseDataset(val_df, config.img_train_dir, get_transforms(config, False)),\n",
    "        HumanPoseDataset(test_df, config.img_train_dir, get_transforms(config, False))\n",
    "    )"
   ]
  },
  {
   "cell_type": "code",
   "execution_count": 3,
   "id": "52038969-b8e9-4a14-ac2a-28e54793051f",
   "metadata": {
    "ExecuteTime": {
     "end_time": "2025-04-16T09:28:20.243837Z",
     "start_time": "2025-04-16T09:28:20.234897Z"
    }
   },
   "outputs": [],
   "source": [
    "class MBConvBlock(nn.Module):\n",
    "    def __init__(self, in_channels, out_channels, expand_ratio, stride):\n",
    "        super().__init__()\n",
    "        hidden_dim = in_channels * expand_ratio\n",
    "        self.use_residual = (in_channels == out_channels and stride == 1)\n",
    "\n",
    "        layers = []\n",
    "        if expand_ratio != 1:\n",
    "            layers.append(nn.Conv2d(in_channels, hidden_dim, kernel_size=1, bias=False))\n",
    "            layers.append(nn.BatchNorm2d(hidden_dim))\n",
    "            layers.append(nn.SiLU())\n",
    "\n",
    "        layers.append(nn.Conv2d(hidden_dim, hidden_dim, kernel_size=3, stride=stride, padding=1, groups=hidden_dim, bias=False))\n",
    "        layers.append(nn.BatchNorm2d(hidden_dim))\n",
    "        layers.append(nn.SiLU())\n",
    "\n",
    "        layers.append(nn.Conv2d(hidden_dim, out_channels, kernel_size=1, bias=False))\n",
    "        layers.append(nn.BatchNorm2d(out_channels))\n",
    "\n",
    "        self.block = nn.Sequential(*layers)\n",
    "\n",
    "    def forward(self, x):\n",
    "        out = self.block(x)\n",
    "        if self.use_residual:\n",
    "            return x + out\n",
    "        return out\n",
    "\n",
    "\n",
    "class CustomEfficientNet(nn.Module):\n",
    "    def __init__(self, config):\n",
    "        super().__init__()\n",
    "        self.stem = nn.Sequential(\n",
    "            nn.Conv2d(3, 32, kernel_size=3, stride=2, padding=1, bias=False),\n",
    "            nn.BatchNorm2d(32),\n",
    "            nn.SiLU()\n",
    "        )\n",
    "\n",
    "        self.blocks = nn.Sequential(\n",
    "            MBConvBlock(32, 16, expand_ratio=1, stride=1),\n",
    "            MBConvBlock(16, 24, expand_ratio=6, stride=2),\n",
    "            MBConvBlock(24, 24, expand_ratio=6, stride=1),\n",
    "            MBConvBlock(24, 40, expand_ratio=6, stride=2),\n",
    "            MBConvBlock(40, 40, expand_ratio=6, stride=1),\n",
    "            MBConvBlock(40, 80, expand_ratio=6, stride=2),\n",
    "            MBConvBlock(80, 80, expand_ratio=6, stride=1),\n",
    "            MBConvBlock(80, 112, expand_ratio=6, stride=1),\n",
    "            MBConvBlock(112, 112, expand_ratio=6, stride=1),\n",
    "            MBConvBlock(112, 192, expand_ratio=6, stride=2),\n",
    "            MBConvBlock(192, 192, expand_ratio=6, stride=1),\n",
    "            MBConvBlock(192, 320, expand_ratio=6, stride=1)\n",
    "        )\n",
    "\n",
    "        self.head = nn.Sequential(\n",
    "            nn.Conv2d(320, 1280, kernel_size=1, bias=False),\n",
    "            nn.BatchNorm2d(1280),\n",
    "            nn.SiLU(),\n",
    "            nn.AdaptiveAvgPool2d(1),\n",
    "            nn.Flatten(),\n",
    "            nn.Dropout(0.4),\n",
    "            nn.Linear(1280, config.num_classes)\n",
    "        )\n",
    "\n",
    "    def forward(self, x):\n",
    "        x = self.stem(x)\n",
    "        x = self.blocks(x)\n",
    "        return self.head(x)\n",
    "\n",
    "\n",
    "class PoseTrainer:\n",
    "    def __init__(self, config, device):\n",
    "        self.config = config\n",
    "        self.device = device\n",
    "        self.best_metric = 0\n",
    "        self.early_stop_counter = 0\n",
    "        self.train_set, self.val_set, self.test_set = load_data(config)\n",
    "\n",
    "        self.train_loader = DataLoader(\n",
    "            self.train_set,\n",
    "            batch_size=config.batch_size,\n",
    "            shuffle=True,\n",
    "            num_workers=6,\n",
    "            pin_memory=True,\n",
    "            prefetch_factor=4,\n",
    "            persistent_workers=True\n",
    "        )\n",
    "        self.val_loader = DataLoader(\n",
    "            self.val_set,\n",
    "            batch_size=config.batch_size,\n",
    "            num_workers=6,\n",
    "            pin_memory=True,\n",
    "            prefetch_factor=4,\n",
    "            persistent_workers=True\n",
    "        )\n",
    "        self.test_loader = DataLoader(\n",
    "            self.test_set,\n",
    "            batch_size=config.batch_size,\n",
    "            num_workers=6,\n",
    "            pin_memory=True,\n",
    "            prefetch_factor=4,\n",
    "            persistent_workers=True\n",
    "        )\n",
    "\n",
    "        self.model = CustomEfficientNet(config).to(device)\n",
    "        self.optimizer = torch.optim.AdamW(self.model.parameters(), lr=config.lr, weight_decay=config.weight_decay)\n",
    "        self.scheduler = torch.optim.lr_scheduler.CosineAnnealingLR(self.optimizer, T_max=config.epochs)\n",
    "        self.criterion = nn.CrossEntropyLoss()\n",
    "        self.scaler = torch.cuda.amp.GradScaler(enabled=device.type != 'cpu')\n",
    "\n",
    "    def train(self):\n",
    "        os.makedirs(self.config.save_dir, exist_ok=True)\n",
    "        history = {'train_loss': [], 'val_loss': [], 'val_acc': [], 'val_f1': []}\n",
    "\n",
    "        for epoch in range(self.config.epochs):\n",
    "            self.model.train()\n",
    "            total_loss = 0\n",
    "            all_preds, all_labels = [], []\n",
    "\n",
    "            for images, labels in tqdm(self.train_loader, desc=f\"Epoch {epoch+1}/{self.config.epochs}\"):\n",
    "                images, labels = images.to(self.device, non_blocking=True), labels.to(self.device, non_blocking=True)\n",
    "                self.optimizer.zero_grad()\n",
    "                with torch.cuda.amp.autocast(enabled=self.device.type != 'cpu'):\n",
    "                    outputs = self.model(images)\n",
    "                    loss = self.criterion(outputs, labels)\n",
    "                self.scaler.scale(loss).backward()\n",
    "                self.scaler.step(self.optimizer)\n",
    "                self.scaler.update()\n",
    "\n",
    "                total_loss += loss.item()\n",
    "                preds = torch.argmax(outputs, dim=1).detach().cpu().numpy()\n",
    "                all_preds.extend(preds)\n",
    "                all_labels.extend(labels.detach().cpu().numpy())\n",
    "\n",
    "            val_metrics = self.evaluate(self.val_loader)\n",
    "            self.scheduler.step()\n",
    "\n",
    "            history['train_loss'].append(total_loss / len(self.train_loader))\n",
    "            history['val_loss'].append(val_metrics['loss'])\n",
    "            history['val_acc'].append(val_metrics['accuracy'])\n",
    "            history['val_f1'].append(val_metrics['f1'])\n",
    "\n",
    "            print(f\"Val F1: {val_metrics['f1']:.4f} | Val Acc: {val_metrics['accuracy']:.4f}\")\n",
    "\n",
    "            if val_metrics['f1'] > self.best_metric:\n",
    "                self.best_metric = val_metrics['f1']\n",
    "                self.early_stop_counter = 0\n",
    "                torch.save(self.model.state_dict(), os.path.join(self.config.save_dir, 'best_model.pth'))\n",
    "            else:\n",
    "                self.early_stop_counter += 1\n",
    "                if self.early_stop_counter >= self.config.early_stop_patience:\n",
    "                    print(f\"Early stopping at epoch {epoch+1} due to no F1 improvement.\")\n",
    "                    break\n",
    "\n",
    "        self.plot_training(history)\n",
    "\n",
    "    def evaluate(self, loader):\n",
    "        self.model.eval()\n",
    "        total_loss = 0\n",
    "        all_preds, all_labels = [], []\n",
    "\n",
    "        with torch.no_grad():\n",
    "            for images, labels in loader:\n",
    "                images, labels = images.to(self.device, non_blocking=True), labels.to(self.device, non_blocking=True)\n",
    "                with torch.cuda.amp.autocast(enabled=self.device.type != 'cpu'):\n",
    "                    outputs = self.model(images)\n",
    "                    loss = self.criterion(outputs, labels)\n",
    "                total_loss += loss.item()\n",
    "                preds = torch.argmax(outputs, dim=1).cpu().numpy()\n",
    "                all_preds.extend(preds)\n",
    "                all_labels.extend(labels.cpu().numpy())\n",
    "\n",
    "        return {\n",
    "            'loss': total_loss / len(loader),\n",
    "            'accuracy': np.mean(np.array(all_preds) == np.array(all_labels)),\n",
    "            'f1': f1_score(all_labels, all_preds, average='weighted')\n",
    "        }\n",
    "\n",
    "    def plot_training(self, history):\n",
    "        plt.figure(figsize=(15, 5))\n",
    "        plt.subplot(1, 3, 1)\n",
    "        plt.plot(history['train_loss'], label='Train Loss')\n",
    "        plt.plot(history['val_loss'], label='Val Loss')\n",
    "        plt.legend()\n",
    "        plt.title('Loss')\n",
    "\n",
    "        plt.subplot(1, 3, 2)\n",
    "        plt.plot(history['val_acc'], label='Val Acc')\n",
    "        plt.legend()\n",
    "        plt.title('Accuracy')\n",
    "\n",
    "        plt.subplot(1, 3, 3)\n",
    "        plt.plot(history['val_f1'], label='Val F1')\n",
    "        plt.legend()\n",
    "        plt.title('F1 Score')\n",
    "\n",
    "        plt.tight_layout()\n",
    "        plt.savefig(os.path.join(self.config.save_dir, 'training_metrics.png'))\n",
    "        plt.show()"
   ]
  },
  {
   "cell_type": "code",
   "execution_count": 6,
   "id": "f020dec2-c3ab-429c-848f-e844bc0fa44c",
   "metadata": {
    "ExecuteTime": {
     "end_time": "2025-04-16T09:29:47.692644Z",
     "start_time": "2025-04-16T09:28:20.251222Z"
    },
    "scrolled": true
   },
   "outputs": [
    {
     "name": "stdout",
     "output_type": "stream",
     "text": [
      "4\n",
      "\n",
      "[1/4] Загрузка данных...\n",
      "Пример данных:\n",
      "   img_id  target_feature\n",
      "0   17363               2\n",
      "1    8612               5\n",
      "2    8244               0\n",
      "3    9264               0\n",
      "4    5382               6\n",
      "\n",
      "[2/4] Валидация данных...\n",
      "Данных после очистки: 12367\n",
      "\n",
      "[3/4] Проверка изображений...\n",
      "Найдено изображений: 12367\n",
      "Данных после фильтрации: 12367\n",
      "\n",
      "[4/4] Разделение данных...\n"
     ]
    },
    {
     "name": "stderr",
     "output_type": "stream",
     "text": [
      "/var/folders/06/4mfvxfgx51scnyqsczh6cd900000gn/T/ipykernel_21440/463813912.py:107: FutureWarning: `torch.cuda.amp.GradScaler(args...)` is deprecated. Please use `torch.amp.GradScaler('cuda', args...)` instead.\n",
      "  self.scaler = torch.cuda.amp.GradScaler(enabled=device.type != 'cpu')\n",
      "/opt/anaconda3/lib/python3.12/site-packages/torch/amp/grad_scaler.py:132: UserWarning: torch.cuda.amp.GradScaler is enabled, but CUDA is not available.  Disabling.\n",
      "  warnings.warn(\n"
     ]
    },
    {
     "name": "stdout",
     "output_type": "stream",
     "text": [
      "==========================================================================================\n",
      "Layer (type:depth-idx)                   Output Shape              Param #\n",
      "==========================================================================================\n",
      "CustomEfficientNet                       [16, 16]                  --\n",
      "├─Sequential: 1-1                        [16, 32, 250, 250]        --\n",
      "│    └─Conv2d: 2-1                       [16, 32, 250, 250]        864\n",
      "│    └─BatchNorm2d: 2-2                  [16, 32, 250, 250]        64\n",
      "│    └─SiLU: 2-3                         [16, 32, 250, 250]        --\n",
      "├─Sequential: 1-2                        [16, 320, 16, 16]         --\n",
      "│    └─MBConvBlock: 2-4                  [16, 16, 250, 250]        --\n",
      "│    │    └─Sequential: 3-1              [16, 16, 250, 250]        896\n",
      "│    └─MBConvBlock: 2-5                  [16, 24, 125, 125]        --\n",
      "│    │    └─Sequential: 3-2              [16, 24, 125, 125]        5,136\n",
      "│    └─MBConvBlock: 2-6                  [16, 24, 125, 125]        --\n",
      "│    │    └─Sequential: 3-3              [16, 24, 125, 125]        8,832\n",
      "│    └─MBConvBlock: 2-7                  [16, 40, 63, 63]          --\n",
      "│    │    └─Sequential: 3-4              [16, 40, 63, 63]          11,168\n",
      "│    └─MBConvBlock: 2-8                  [16, 40, 63, 63]          --\n",
      "│    │    └─Sequential: 3-5              [16, 40, 63, 63]          22,400\n",
      "│    └─MBConvBlock: 2-9                  [16, 80, 32, 32]          --\n",
      "│    │    └─Sequential: 3-6              [16, 80, 32, 32]          32,080\n",
      "│    └─MBConvBlock: 2-10                 [16, 80, 32, 32]          --\n",
      "│    │    └─Sequential: 3-7              [16, 80, 32, 32]          83,200\n",
      "│    └─MBConvBlock: 2-11                 [16, 112, 32, 32]         --\n",
      "│    │    └─Sequential: 3-8              [16, 112, 32, 32]         98,624\n",
      "│    └─MBConvBlock: 2-12                 [16, 112, 32, 32]         --\n",
      "│    │    └─Sequential: 3-9              [16, 112, 32, 32]         159,488\n",
      "│    └─MBConvBlock: 2-13                 [16, 192, 16, 16]         --\n",
      "│    │    └─Sequential: 3-10             [16, 192, 16, 16]         213,408\n",
      "│    └─MBConvBlock: 2-14                 [16, 192, 16, 16]         --\n",
      "│    │    └─Sequential: 3-11             [16, 192, 16, 16]         457,728\n",
      "│    └─MBConvBlock: 2-15                 [16, 320, 16, 16]         --\n",
      "│    │    └─Sequential: 3-12             [16, 320, 16, 16]         605,440\n",
      "├─Sequential: 1-3                        [16, 16]                  --\n",
      "│    └─Conv2d: 2-16                      [16, 1280, 16, 16]        409,600\n",
      "│    └─BatchNorm2d: 2-17                 [16, 1280, 16, 16]        2,560\n",
      "│    └─SiLU: 2-18                        [16, 1280, 16, 16]        --\n",
      "│    └─AdaptiveAvgPool2d: 2-19           [16, 1280, 1, 1]          --\n",
      "│    └─Flatten: 2-20                     [16, 1280]                --\n",
      "│    └─Dropout: 2-21                     [16, 1280]                --\n",
      "│    └─Linear: 2-22                      [16, 16]                  20,496\n",
      "==========================================================================================\n",
      "Total params: 2,131,984\n",
      "Trainable params: 2,131,984\n",
      "Non-trainable params: 0\n",
      "Total mult-adds (Units.GIGABYTES): 22.92\n",
      "==========================================================================================\n",
      "Input size (MB): 48.00\n",
      "Forward/backward pass size (MB): 7750.60\n",
      "Params size (MB): 8.53\n",
      "Estimated Total Size (MB): 7807.12\n",
      "==========================================================================================\n"
     ]
    },
    {
     "name": "stderr",
     "output_type": "stream",
     "text": [
      "Epoch 1/50:   0%|                                                                                    | 0/541 [00:00<?, ?it/s]/var/folders/06/4mfvxfgx51scnyqsczh6cd900000gn/T/ipykernel_21440/463813912.py:121: FutureWarning: `torch.cuda.amp.autocast(args...)` is deprecated. Please use `torch.amp.autocast('cuda', args...)` instead.\n",
      "  with torch.cuda.amp.autocast(enabled=self.device.type != 'cpu'):\n",
      "/opt/anaconda3/lib/python3.12/site-packages/torch/amp/autocast_mode.py:266: UserWarning: User provided device_type of 'cuda', but CUDA is not available. Disabling\n",
      "  warnings.warn(\n",
      "Epoch 1/50: 100%|██████████████████████████████████████████████████████████████████████████| 541/541 [01:33<00:00,  5.81it/s]\n",
      "/var/folders/06/4mfvxfgx51scnyqsczh6cd900000gn/T/ipykernel_21440/463813912.py:163: FutureWarning: `torch.cuda.amp.autocast(args...)` is deprecated. Please use `torch.amp.autocast('cuda', args...)` instead.\n",
      "  with torch.cuda.amp.autocast(enabled=self.device.type != 'cpu'):\n"
     ]
    },
    {
     "name": "stdout",
     "output_type": "stream",
     "text": [
      "Val F1: 0.2059 | Val Acc: 0.2631\n"
     ]
    },
    {
     "name": "stderr",
     "output_type": "stream",
     "text": [
      "Epoch 2/50:   0%|                                                                                    | 0/541 [00:00<?, ?it/s]/var/folders/06/4mfvxfgx51scnyqsczh6cd900000gn/T/ipykernel_21440/463813912.py:121: FutureWarning: `torch.cuda.amp.autocast(args...)` is deprecated. Please use `torch.amp.autocast('cuda', args...)` instead.\n",
      "  with torch.cuda.amp.autocast(enabled=self.device.type != 'cpu'):\n",
      "/opt/anaconda3/lib/python3.12/site-packages/torch/amp/autocast_mode.py:266: UserWarning: User provided device_type of 'cuda', but CUDA is not available. Disabling\n",
      "  warnings.warn(\n",
      "Epoch 2/50: 100%|██████████████████████████████████████████████████████████████████████████| 541/541 [01:22<00:00,  6.52it/s]\n",
      "/var/folders/06/4mfvxfgx51scnyqsczh6cd900000gn/T/ipykernel_21440/463813912.py:163: FutureWarning: `torch.cuda.amp.autocast(args...)` is deprecated. Please use `torch.amp.autocast('cuda', args...)` instead.\n",
      "  with torch.cuda.amp.autocast(enabled=self.device.type != 'cpu'):\n"
     ]
    },
    {
     "name": "stdout",
     "output_type": "stream",
     "text": [
      "Val F1: 0.2179 | Val Acc: 0.2825\n"
     ]
    },
    {
     "name": "stderr",
     "output_type": "stream",
     "text": [
      "Epoch 3/50:   0%|                                                                                    | 0/541 [00:00<?, ?it/s]/var/folders/06/4mfvxfgx51scnyqsczh6cd900000gn/T/ipykernel_21440/463813912.py:121: FutureWarning: `torch.cuda.amp.autocast(args...)` is deprecated. Please use `torch.amp.autocast('cuda', args...)` instead.\n",
      "  with torch.cuda.amp.autocast(enabled=self.device.type != 'cpu'):\n",
      "/opt/anaconda3/lib/python3.12/site-packages/torch/amp/autocast_mode.py:266: UserWarning: User provided device_type of 'cuda', but CUDA is not available. Disabling\n",
      "  warnings.warn(\n",
      "Epoch 3/50: 100%|██████████████████████████████████████████████████████████████████████████| 541/541 [01:36<00:00,  5.61it/s]\n",
      "/var/folders/06/4mfvxfgx51scnyqsczh6cd900000gn/T/ipykernel_21440/463813912.py:163: FutureWarning: `torch.cuda.amp.autocast(args...)` is deprecated. Please use `torch.amp.autocast('cuda', args...)` instead.\n",
      "  with torch.cuda.amp.autocast(enabled=self.device.type != 'cpu'):\n"
     ]
    },
    {
     "name": "stdout",
     "output_type": "stream",
     "text": [
      "Val F1: 0.2251 | Val Acc: 0.2911\n"
     ]
    },
    {
     "name": "stderr",
     "output_type": "stream",
     "text": [
      "Epoch 4/50:   0%|                                                                                    | 0/541 [00:00<?, ?it/s]/var/folders/06/4mfvxfgx51scnyqsczh6cd900000gn/T/ipykernel_21440/463813912.py:121: FutureWarning: `torch.cuda.amp.autocast(args...)` is deprecated. Please use `torch.amp.autocast('cuda', args...)` instead.\n",
      "  with torch.cuda.amp.autocast(enabled=self.device.type != 'cpu'):\n",
      "/opt/anaconda3/lib/python3.12/site-packages/torch/amp/autocast_mode.py:266: UserWarning: User provided device_type of 'cuda', but CUDA is not available. Disabling\n",
      "  warnings.warn(\n",
      "Epoch 4/50: 100%|██████████████████████████████████████████████████████████████████████████| 541/541 [01:49<00:00,  4.95it/s]\n",
      "/var/folders/06/4mfvxfgx51scnyqsczh6cd900000gn/T/ipykernel_21440/463813912.py:163: FutureWarning: `torch.cuda.amp.autocast(args...)` is deprecated. Please use `torch.amp.autocast('cuda', args...)` instead.\n",
      "  with torch.cuda.amp.autocast(enabled=self.device.type != 'cpu'):\n"
     ]
    },
    {
     "name": "stdout",
     "output_type": "stream",
     "text": [
      "Val F1: 0.2436 | Val Acc: 0.3089\n"
     ]
    },
    {
     "name": "stderr",
     "output_type": "stream",
     "text": [
      "Epoch 5/50:   0%|                                                                                    | 0/541 [00:00<?, ?it/s]/var/folders/06/4mfvxfgx51scnyqsczh6cd900000gn/T/ipykernel_21440/463813912.py:121: FutureWarning: `torch.cuda.amp.autocast(args...)` is deprecated. Please use `torch.amp.autocast('cuda', args...)` instead.\n",
      "  with torch.cuda.amp.autocast(enabled=self.device.type != 'cpu'):\n",
      "/opt/anaconda3/lib/python3.12/site-packages/torch/amp/autocast_mode.py:266: UserWarning: User provided device_type of 'cuda', but CUDA is not available. Disabling\n",
      "  warnings.warn(\n",
      "Epoch 5/50: 100%|██████████████████████████████████████████████████████████████████████████| 541/541 [01:38<00:00,  5.50it/s]\n",
      "/var/folders/06/4mfvxfgx51scnyqsczh6cd900000gn/T/ipykernel_21440/463813912.py:163: FutureWarning: `torch.cuda.amp.autocast(args...)` is deprecated. Please use `torch.amp.autocast('cuda', args...)` instead.\n",
      "  with torch.cuda.amp.autocast(enabled=self.device.type != 'cpu'):\n"
     ]
    },
    {
     "name": "stdout",
     "output_type": "stream",
     "text": [
      "Val F1: 0.2846 | Val Acc: 0.3472\n"
     ]
    },
    {
     "name": "stderr",
     "output_type": "stream",
     "text": [
      "Epoch 6/50:   0%|                                                                                    | 0/541 [00:00<?, ?it/s]/var/folders/06/4mfvxfgx51scnyqsczh6cd900000gn/T/ipykernel_21440/463813912.py:121: FutureWarning: `torch.cuda.amp.autocast(args...)` is deprecated. Please use `torch.amp.autocast('cuda', args...)` instead.\n",
      "  with torch.cuda.amp.autocast(enabled=self.device.type != 'cpu'):\n",
      "/opt/anaconda3/lib/python3.12/site-packages/torch/amp/autocast_mode.py:266: UserWarning: User provided device_type of 'cuda', but CUDA is not available. Disabling\n",
      "  warnings.warn(\n",
      "Epoch 6/50: 100%|██████████████████████████████████████████████████████████████████████████| 541/541 [01:34<00:00,  5.72it/s]\n",
      "/var/folders/06/4mfvxfgx51scnyqsczh6cd900000gn/T/ipykernel_21440/463813912.py:163: FutureWarning: `torch.cuda.amp.autocast(args...)` is deprecated. Please use `torch.amp.autocast('cuda', args...)` instead.\n",
      "  with torch.cuda.amp.autocast(enabled=self.device.type != 'cpu'):\n"
     ]
    },
    {
     "name": "stdout",
     "output_type": "stream",
     "text": [
      "Val F1: 0.2514 | Val Acc: 0.3191\n"
     ]
    },
    {
     "name": "stderr",
     "output_type": "stream",
     "text": [
      "Epoch 7/50:   0%|                                                                                    | 0/541 [00:00<?, ?it/s]/var/folders/06/4mfvxfgx51scnyqsczh6cd900000gn/T/ipykernel_21440/463813912.py:121: FutureWarning: `torch.cuda.amp.autocast(args...)` is deprecated. Please use `torch.amp.autocast('cuda', args...)` instead.\n",
      "  with torch.cuda.amp.autocast(enabled=self.device.type != 'cpu'):\n",
      "/opt/anaconda3/lib/python3.12/site-packages/torch/amp/autocast_mode.py:266: UserWarning: User provided device_type of 'cuda', but CUDA is not available. Disabling\n",
      "  warnings.warn(\n",
      "Epoch 7/50: 100%|██████████████████████████████████████████████████████████████████████████| 541/541 [01:33<00:00,  5.79it/s]\n",
      "/var/folders/06/4mfvxfgx51scnyqsczh6cd900000gn/T/ipykernel_21440/463813912.py:163: FutureWarning: `torch.cuda.amp.autocast(args...)` is deprecated. Please use `torch.amp.autocast('cuda', args...)` instead.\n",
      "  with torch.cuda.amp.autocast(enabled=self.device.type != 'cpu'):\n"
     ]
    },
    {
     "name": "stdout",
     "output_type": "stream",
     "text": [
      "Val F1: 0.3011 | Val Acc: 0.3558\n"
     ]
    },
    {
     "name": "stderr",
     "output_type": "stream",
     "text": [
      "Epoch 8/50:   0%|                                                                                    | 0/541 [00:00<?, ?it/s]/var/folders/06/4mfvxfgx51scnyqsczh6cd900000gn/T/ipykernel_21440/463813912.py:121: FutureWarning: `torch.cuda.amp.autocast(args...)` is deprecated. Please use `torch.amp.autocast('cuda', args...)` instead.\n",
      "  with torch.cuda.amp.autocast(enabled=self.device.type != 'cpu'):\n",
      "/opt/anaconda3/lib/python3.12/site-packages/torch/amp/autocast_mode.py:266: UserWarning: User provided device_type of 'cuda', but CUDA is not available. Disabling\n",
      "  warnings.warn(\n",
      "Epoch 8/50: 100%|██████████████████████████████████████████████████████████████████████████| 541/541 [01:33<00:00,  5.81it/s]\n",
      "/var/folders/06/4mfvxfgx51scnyqsczh6cd900000gn/T/ipykernel_21440/463813912.py:163: FutureWarning: `torch.cuda.amp.autocast(args...)` is deprecated. Please use `torch.amp.autocast('cuda', args...)` instead.\n",
      "  with torch.cuda.amp.autocast(enabled=self.device.type != 'cpu'):\n"
     ]
    },
    {
     "name": "stdout",
     "output_type": "stream",
     "text": [
      "Val F1: 0.2909 | Val Acc: 0.3601\n"
     ]
    },
    {
     "name": "stderr",
     "output_type": "stream",
     "text": [
      "Epoch 9/50:   0%|                                                                                    | 0/541 [00:00<?, ?it/s]/var/folders/06/4mfvxfgx51scnyqsczh6cd900000gn/T/ipykernel_21440/463813912.py:121: FutureWarning: `torch.cuda.amp.autocast(args...)` is deprecated. Please use `torch.amp.autocast('cuda', args...)` instead.\n",
      "  with torch.cuda.amp.autocast(enabled=self.device.type != 'cpu'):\n",
      "/opt/anaconda3/lib/python3.12/site-packages/torch/amp/autocast_mode.py:266: UserWarning: User provided device_type of 'cuda', but CUDA is not available. Disabling\n",
      "  warnings.warn(\n",
      "Epoch 9/50: 100%|██████████████████████████████████████████████████████████████████████████| 541/541 [01:33<00:00,  5.78it/s]\n",
      "/var/folders/06/4mfvxfgx51scnyqsczh6cd900000gn/T/ipykernel_21440/463813912.py:163: FutureWarning: `torch.cuda.amp.autocast(args...)` is deprecated. Please use `torch.amp.autocast('cuda', args...)` instead.\n",
      "  with torch.cuda.amp.autocast(enabled=self.device.type != 'cpu'):\n"
     ]
    },
    {
     "name": "stdout",
     "output_type": "stream",
     "text": [
      "Val F1: 0.3305 | Val Acc: 0.3795\n"
     ]
    },
    {
     "name": "stderr",
     "output_type": "stream",
     "text": [
      "Epoch 10/50:   0%|                                                                                   | 0/541 [00:00<?, ?it/s]/var/folders/06/4mfvxfgx51scnyqsczh6cd900000gn/T/ipykernel_21440/463813912.py:121: FutureWarning: `torch.cuda.amp.autocast(args...)` is deprecated. Please use `torch.amp.autocast('cuda', args...)` instead.\n",
      "  with torch.cuda.amp.autocast(enabled=self.device.type != 'cpu'):\n",
      "/opt/anaconda3/lib/python3.12/site-packages/torch/amp/autocast_mode.py:266: UserWarning: User provided device_type of 'cuda', but CUDA is not available. Disabling\n",
      "  warnings.warn(\n",
      "Epoch 10/50: 100%|█████████████████████████████████████████████████████████████████████████| 541/541 [14:28<00:00,  1.61s/it]\n",
      "/var/folders/06/4mfvxfgx51scnyqsczh6cd900000gn/T/ipykernel_21440/463813912.py:163: FutureWarning: `torch.cuda.amp.autocast(args...)` is deprecated. Please use `torch.amp.autocast('cuda', args...)` instead.\n",
      "  with torch.cuda.amp.autocast(enabled=self.device.type != 'cpu'):\n"
     ]
    },
    {
     "name": "stdout",
     "output_type": "stream",
     "text": [
      "Val F1: 0.3132 | Val Acc: 0.3590\n"
     ]
    },
    {
     "name": "stderr",
     "output_type": "stream",
     "text": [
      "Epoch 11/50:   0%|                                                                                   | 0/541 [00:00<?, ?it/s]/var/folders/06/4mfvxfgx51scnyqsczh6cd900000gn/T/ipykernel_21440/463813912.py:121: FutureWarning: `torch.cuda.amp.autocast(args...)` is deprecated. Please use `torch.amp.autocast('cuda', args...)` instead.\n",
      "  with torch.cuda.amp.autocast(enabled=self.device.type != 'cpu'):\n",
      "/opt/anaconda3/lib/python3.12/site-packages/torch/amp/autocast_mode.py:266: UserWarning: User provided device_type of 'cuda', but CUDA is not available. Disabling\n",
      "  warnings.warn(\n",
      "Epoch 11/50: 100%|█████████████████████████████████████████████████████████████████████████| 541/541 [01:28<00:00,  6.08it/s]\n",
      "/var/folders/06/4mfvxfgx51scnyqsczh6cd900000gn/T/ipykernel_21440/463813912.py:163: FutureWarning: `torch.cuda.amp.autocast(args...)` is deprecated. Please use `torch.amp.autocast('cuda', args...)` instead.\n",
      "  with torch.cuda.amp.autocast(enabled=self.device.type != 'cpu'):\n"
     ]
    },
    {
     "name": "stdout",
     "output_type": "stream",
     "text": [
      "Val F1: 0.3424 | Val Acc: 0.3914\n"
     ]
    },
    {
     "name": "stderr",
     "output_type": "stream",
     "text": [
      "Epoch 12/50:   0%|                                                                                   | 0/541 [00:00<?, ?it/s]/var/folders/06/4mfvxfgx51scnyqsczh6cd900000gn/T/ipykernel_21440/463813912.py:121: FutureWarning: `torch.cuda.amp.autocast(args...)` is deprecated. Please use `torch.amp.autocast('cuda', args...)` instead.\n",
      "  with torch.cuda.amp.autocast(enabled=self.device.type != 'cpu'):\n",
      "/opt/anaconda3/lib/python3.12/site-packages/torch/amp/autocast_mode.py:266: UserWarning: User provided device_type of 'cuda', but CUDA is not available. Disabling\n",
      "  warnings.warn(\n",
      "Epoch 12/50: 100%|█████████████████████████████████████████████████████████████████████████| 541/541 [01:21<00:00,  6.61it/s]\n",
      "/var/folders/06/4mfvxfgx51scnyqsczh6cd900000gn/T/ipykernel_21440/463813912.py:163: FutureWarning: `torch.cuda.amp.autocast(args...)` is deprecated. Please use `torch.amp.autocast('cuda', args...)` instead.\n",
      "  with torch.cuda.amp.autocast(enabled=self.device.type != 'cpu'):\n"
     ]
    },
    {
     "name": "stdout",
     "output_type": "stream",
     "text": [
      "Val F1: 0.3410 | Val Acc: 0.3822\n"
     ]
    },
    {
     "name": "stderr",
     "output_type": "stream",
     "text": [
      "Epoch 13/50:   0%|                                                                                   | 0/541 [00:00<?, ?it/s]/var/folders/06/4mfvxfgx51scnyqsczh6cd900000gn/T/ipykernel_21440/463813912.py:121: FutureWarning: `torch.cuda.amp.autocast(args...)` is deprecated. Please use `torch.amp.autocast('cuda', args...)` instead.\n",
      "  with torch.cuda.amp.autocast(enabled=self.device.type != 'cpu'):\n",
      "/opt/anaconda3/lib/python3.12/site-packages/torch/amp/autocast_mode.py:266: UserWarning: User provided device_type of 'cuda', but CUDA is not available. Disabling\n",
      "  warnings.warn(\n",
      "Epoch 13/50: 100%|█████████████████████████████████████████████████████████████████████████| 541/541 [01:24<00:00,  6.41it/s]\n",
      "/var/folders/06/4mfvxfgx51scnyqsczh6cd900000gn/T/ipykernel_21440/463813912.py:163: FutureWarning: `torch.cuda.amp.autocast(args...)` is deprecated. Please use `torch.amp.autocast('cuda', args...)` instead.\n",
      "  with torch.cuda.amp.autocast(enabled=self.device.type != 'cpu'):\n"
     ]
    },
    {
     "name": "stdout",
     "output_type": "stream",
     "text": [
      "Val F1: 0.3336 | Val Acc: 0.3903\n"
     ]
    },
    {
     "name": "stderr",
     "output_type": "stream",
     "text": [
      "Epoch 14/50:   0%|                                                                                   | 0/541 [00:00<?, ?it/s]/var/folders/06/4mfvxfgx51scnyqsczh6cd900000gn/T/ipykernel_21440/463813912.py:121: FutureWarning: `torch.cuda.amp.autocast(args...)` is deprecated. Please use `torch.amp.autocast('cuda', args...)` instead.\n",
      "  with torch.cuda.amp.autocast(enabled=self.device.type != 'cpu'):\n",
      "/opt/anaconda3/lib/python3.12/site-packages/torch/amp/autocast_mode.py:266: UserWarning: User provided device_type of 'cuda', but CUDA is not available. Disabling\n",
      "  warnings.warn(\n",
      "Epoch 14/50: 100%|█████████████████████████████████████████████████████████████████████████| 541/541 [01:35<00:00,  5.67it/s]\n",
      "/var/folders/06/4mfvxfgx51scnyqsczh6cd900000gn/T/ipykernel_21440/463813912.py:163: FutureWarning: `torch.cuda.amp.autocast(args...)` is deprecated. Please use `torch.amp.autocast('cuda', args...)` instead.\n",
      "  with torch.cuda.amp.autocast(enabled=self.device.type != 'cpu'):\n"
     ]
    },
    {
     "name": "stdout",
     "output_type": "stream",
     "text": [
      "Val F1: 0.3480 | Val Acc: 0.3957\n"
     ]
    },
    {
     "name": "stderr",
     "output_type": "stream",
     "text": [
      "Epoch 15/50:   0%|                                                                                   | 0/541 [00:00<?, ?it/s]/var/folders/06/4mfvxfgx51scnyqsczh6cd900000gn/T/ipykernel_21440/463813912.py:121: FutureWarning: `torch.cuda.amp.autocast(args...)` is deprecated. Please use `torch.amp.autocast('cuda', args...)` instead.\n",
      "  with torch.cuda.amp.autocast(enabled=self.device.type != 'cpu'):\n",
      "/opt/anaconda3/lib/python3.12/site-packages/torch/amp/autocast_mode.py:266: UserWarning: User provided device_type of 'cuda', but CUDA is not available. Disabling\n",
      "  warnings.warn(\n",
      "Epoch 15/50: 100%|█████████████████████████████████████████████████████████████████████████| 541/541 [01:41<00:00,  5.32it/s]\n",
      "/var/folders/06/4mfvxfgx51scnyqsczh6cd900000gn/T/ipykernel_21440/463813912.py:163: FutureWarning: `torch.cuda.amp.autocast(args...)` is deprecated. Please use `torch.amp.autocast('cuda', args...)` instead.\n",
      "  with torch.cuda.amp.autocast(enabled=self.device.type != 'cpu'):\n"
     ]
    },
    {
     "name": "stdout",
     "output_type": "stream",
     "text": [
      "Val F1: 0.3474 | Val Acc: 0.4011\n"
     ]
    },
    {
     "name": "stderr",
     "output_type": "stream",
     "text": [
      "Epoch 16/50:   0%|                                                                                   | 0/541 [00:00<?, ?it/s]/var/folders/06/4mfvxfgx51scnyqsczh6cd900000gn/T/ipykernel_21440/463813912.py:121: FutureWarning: `torch.cuda.amp.autocast(args...)` is deprecated. Please use `torch.amp.autocast('cuda', args...)` instead.\n",
      "  with torch.cuda.amp.autocast(enabled=self.device.type != 'cpu'):\n",
      "/opt/anaconda3/lib/python3.12/site-packages/torch/amp/autocast_mode.py:266: UserWarning: User provided device_type of 'cuda', but CUDA is not available. Disabling\n",
      "  warnings.warn(\n",
      "Epoch 16/50: 100%|█████████████████████████████████████████████████████████████████████████| 541/541 [01:34<00:00,  5.72it/s]\n",
      "/var/folders/06/4mfvxfgx51scnyqsczh6cd900000gn/T/ipykernel_21440/463813912.py:163: FutureWarning: `torch.cuda.amp.autocast(args...)` is deprecated. Please use `torch.amp.autocast('cuda', args...)` instead.\n",
      "  with torch.cuda.amp.autocast(enabled=self.device.type != 'cpu'):\n"
     ]
    },
    {
     "name": "stdout",
     "output_type": "stream",
     "text": [
      "Val F1: 0.3633 | Val Acc: 0.4113\n"
     ]
    },
    {
     "name": "stderr",
     "output_type": "stream",
     "text": [
      "Epoch 17/50:   0%|                                                                                   | 0/541 [00:00<?, ?it/s]/var/folders/06/4mfvxfgx51scnyqsczh6cd900000gn/T/ipykernel_21440/463813912.py:121: FutureWarning: `torch.cuda.amp.autocast(args...)` is deprecated. Please use `torch.amp.autocast('cuda', args...)` instead.\n",
      "  with torch.cuda.amp.autocast(enabled=self.device.type != 'cpu'):\n",
      "/opt/anaconda3/lib/python3.12/site-packages/torch/amp/autocast_mode.py:266: UserWarning: User provided device_type of 'cuda', but CUDA is not available. Disabling\n",
      "  warnings.warn(\n",
      "Epoch 17/50: 100%|█████████████████████████████████████████████████████████████████████████| 541/541 [01:31<00:00,  5.92it/s]\n",
      "/var/folders/06/4mfvxfgx51scnyqsczh6cd900000gn/T/ipykernel_21440/463813912.py:163: FutureWarning: `torch.cuda.amp.autocast(args...)` is deprecated. Please use `torch.amp.autocast('cuda', args...)` instead.\n",
      "  with torch.cuda.amp.autocast(enabled=self.device.type != 'cpu'):\n"
     ]
    },
    {
     "name": "stdout",
     "output_type": "stream",
     "text": [
      "Val F1: 0.3504 | Val Acc: 0.4054\n"
     ]
    },
    {
     "name": "stderr",
     "output_type": "stream",
     "text": [
      "Epoch 18/50:   0%|                                                                                   | 0/541 [00:00<?, ?it/s]/var/folders/06/4mfvxfgx51scnyqsczh6cd900000gn/T/ipykernel_21440/463813912.py:121: FutureWarning: `torch.cuda.amp.autocast(args...)` is deprecated. Please use `torch.amp.autocast('cuda', args...)` instead.\n",
      "  with torch.cuda.amp.autocast(enabled=self.device.type != 'cpu'):\n",
      "/opt/anaconda3/lib/python3.12/site-packages/torch/amp/autocast_mode.py:266: UserWarning: User provided device_type of 'cuda', but CUDA is not available. Disabling\n",
      "  warnings.warn(\n",
      "Epoch 18/50: 100%|█████████████████████████████████████████████████████████████████████████| 541/541 [01:30<00:00,  5.99it/s]\n",
      "/var/folders/06/4mfvxfgx51scnyqsczh6cd900000gn/T/ipykernel_21440/463813912.py:163: FutureWarning: `torch.cuda.amp.autocast(args...)` is deprecated. Please use `torch.amp.autocast('cuda', args...)` instead.\n",
      "  with torch.cuda.amp.autocast(enabled=self.device.type != 'cpu'):\n"
     ]
    },
    {
     "name": "stdout",
     "output_type": "stream",
     "text": [
      "Val F1: 0.3664 | Val Acc: 0.4097\n"
     ]
    },
    {
     "name": "stderr",
     "output_type": "stream",
     "text": [
      "Epoch 19/50:   0%|                                                                                   | 0/541 [00:00<?, ?it/s]/var/folders/06/4mfvxfgx51scnyqsczh6cd900000gn/T/ipykernel_21440/463813912.py:121: FutureWarning: `torch.cuda.amp.autocast(args...)` is deprecated. Please use `torch.amp.autocast('cuda', args...)` instead.\n",
      "  with torch.cuda.amp.autocast(enabled=self.device.type != 'cpu'):\n",
      "/opt/anaconda3/lib/python3.12/site-packages/torch/amp/autocast_mode.py:266: UserWarning: User provided device_type of 'cuda', but CUDA is not available. Disabling\n",
      "  warnings.warn(\n",
      "Epoch 19/50: 100%|█████████████████████████████████████████████████████████████████████████| 541/541 [01:30<00:00,  5.97it/s]\n",
      "/var/folders/06/4mfvxfgx51scnyqsczh6cd900000gn/T/ipykernel_21440/463813912.py:163: FutureWarning: `torch.cuda.amp.autocast(args...)` is deprecated. Please use `torch.amp.autocast('cuda', args...)` instead.\n",
      "  with torch.cuda.amp.autocast(enabled=self.device.type != 'cpu'):\n"
     ]
    },
    {
     "name": "stdout",
     "output_type": "stream",
     "text": [
      "Val F1: 0.3768 | Val Acc: 0.4221\n"
     ]
    },
    {
     "name": "stderr",
     "output_type": "stream",
     "text": [
      "Epoch 20/50:   0%|                                                                                   | 0/541 [00:00<?, ?it/s]/var/folders/06/4mfvxfgx51scnyqsczh6cd900000gn/T/ipykernel_21440/463813912.py:121: FutureWarning: `torch.cuda.amp.autocast(args...)` is deprecated. Please use `torch.amp.autocast('cuda', args...)` instead.\n",
      "  with torch.cuda.amp.autocast(enabled=self.device.type != 'cpu'):\n",
      "/opt/anaconda3/lib/python3.12/site-packages/torch/amp/autocast_mode.py:266: UserWarning: User provided device_type of 'cuda', but CUDA is not available. Disabling\n",
      "  warnings.warn(\n",
      "Epoch 20/50: 100%|█████████████████████████████████████████████████████████████████████████| 541/541 [01:31<00:00,  5.90it/s]\n",
      "/var/folders/06/4mfvxfgx51scnyqsczh6cd900000gn/T/ipykernel_21440/463813912.py:163: FutureWarning: `torch.cuda.amp.autocast(args...)` is deprecated. Please use `torch.amp.autocast('cuda', args...)` instead.\n",
      "  with torch.cuda.amp.autocast(enabled=self.device.type != 'cpu'):\n"
     ]
    },
    {
     "name": "stdout",
     "output_type": "stream",
     "text": [
      "Val F1: 0.3718 | Val Acc: 0.4253\n"
     ]
    },
    {
     "name": "stderr",
     "output_type": "stream",
     "text": [
      "Epoch 21/50:   0%|                                                                                   | 0/541 [00:00<?, ?it/s]/var/folders/06/4mfvxfgx51scnyqsczh6cd900000gn/T/ipykernel_21440/463813912.py:121: FutureWarning: `torch.cuda.amp.autocast(args...)` is deprecated. Please use `torch.amp.autocast('cuda', args...)` instead.\n",
      "  with torch.cuda.amp.autocast(enabled=self.device.type != 'cpu'):\n",
      "/opt/anaconda3/lib/python3.12/site-packages/torch/amp/autocast_mode.py:266: UserWarning: User provided device_type of 'cuda', but CUDA is not available. Disabling\n",
      "  warnings.warn(\n",
      "Epoch 21/50: 100%|█████████████████████████████████████████████████████████████████████████| 541/541 [01:31<00:00,  5.92it/s]\n",
      "/var/folders/06/4mfvxfgx51scnyqsczh6cd900000gn/T/ipykernel_21440/463813912.py:163: FutureWarning: `torch.cuda.amp.autocast(args...)` is deprecated. Please use `torch.amp.autocast('cuda', args...)` instead.\n",
      "  with torch.cuda.amp.autocast(enabled=self.device.type != 'cpu'):\n"
     ]
    },
    {
     "name": "stdout",
     "output_type": "stream",
     "text": [
      "Val F1: 0.3908 | Val Acc: 0.4388\n"
     ]
    },
    {
     "name": "stderr",
     "output_type": "stream",
     "text": [
      "Epoch 22/50:   0%|                                                                                   | 0/541 [00:00<?, ?it/s]/var/folders/06/4mfvxfgx51scnyqsczh6cd900000gn/T/ipykernel_21440/463813912.py:121: FutureWarning: `torch.cuda.amp.autocast(args...)` is deprecated. Please use `torch.amp.autocast('cuda', args...)` instead.\n",
      "  with torch.cuda.amp.autocast(enabled=self.device.type != 'cpu'):\n",
      "/opt/anaconda3/lib/python3.12/site-packages/torch/amp/autocast_mode.py:266: UserWarning: User provided device_type of 'cuda', but CUDA is not available. Disabling\n",
      "  warnings.warn(\n",
      "Epoch 22/50: 100%|█████████████████████████████████████████████████████████████████████████| 541/541 [01:33<00:00,  5.77it/s]\n",
      "/var/folders/06/4mfvxfgx51scnyqsczh6cd900000gn/T/ipykernel_21440/463813912.py:163: FutureWarning: `torch.cuda.amp.autocast(args...)` is deprecated. Please use `torch.amp.autocast('cuda', args...)` instead.\n",
      "  with torch.cuda.amp.autocast(enabled=self.device.type != 'cpu'):\n"
     ]
    },
    {
     "name": "stdout",
     "output_type": "stream",
     "text": [
      "Val F1: 0.3987 | Val Acc: 0.4377\n"
     ]
    },
    {
     "name": "stderr",
     "output_type": "stream",
     "text": [
      "Epoch 23/50:   0%|                                                                                   | 0/541 [00:00<?, ?it/s]/var/folders/06/4mfvxfgx51scnyqsczh6cd900000gn/T/ipykernel_21440/463813912.py:121: FutureWarning: `torch.cuda.amp.autocast(args...)` is deprecated. Please use `torch.amp.autocast('cuda', args...)` instead.\n",
      "  with torch.cuda.amp.autocast(enabled=self.device.type != 'cpu'):\n",
      "/opt/anaconda3/lib/python3.12/site-packages/torch/amp/autocast_mode.py:266: UserWarning: User provided device_type of 'cuda', but CUDA is not available. Disabling\n",
      "  warnings.warn(\n",
      "Epoch 23/50: 100%|█████████████████████████████████████████████████████████████████████████| 541/541 [01:37<00:00,  5.53it/s]\n",
      "/var/folders/06/4mfvxfgx51scnyqsczh6cd900000gn/T/ipykernel_21440/463813912.py:163: FutureWarning: `torch.cuda.amp.autocast(args...)` is deprecated. Please use `torch.amp.autocast('cuda', args...)` instead.\n",
      "  with torch.cuda.amp.autocast(enabled=self.device.type != 'cpu'):\n"
     ]
    },
    {
     "name": "stdout",
     "output_type": "stream",
     "text": [
      "Val F1: 0.4047 | Val Acc: 0.4415\n"
     ]
    },
    {
     "name": "stderr",
     "output_type": "stream",
     "text": [
      "Epoch 24/50:   0%|                                                                                   | 0/541 [00:00<?, ?it/s]/var/folders/06/4mfvxfgx51scnyqsczh6cd900000gn/T/ipykernel_21440/463813912.py:121: FutureWarning: `torch.cuda.amp.autocast(args...)` is deprecated. Please use `torch.amp.autocast('cuda', args...)` instead.\n",
      "  with torch.cuda.amp.autocast(enabled=self.device.type != 'cpu'):\n",
      "/opt/anaconda3/lib/python3.12/site-packages/torch/amp/autocast_mode.py:266: UserWarning: User provided device_type of 'cuda', but CUDA is not available. Disabling\n",
      "  warnings.warn(\n",
      "Epoch 24/50: 100%|█████████████████████████████████████████████████████████████████████████| 541/541 [01:39<00:00,  5.44it/s]\n",
      "/var/folders/06/4mfvxfgx51scnyqsczh6cd900000gn/T/ipykernel_21440/463813912.py:163: FutureWarning: `torch.cuda.amp.autocast(args...)` is deprecated. Please use `torch.amp.autocast('cuda', args...)` instead.\n",
      "  with torch.cuda.amp.autocast(enabled=self.device.type != 'cpu'):\n"
     ]
    },
    {
     "name": "stdout",
     "output_type": "stream",
     "text": [
      "Val F1: 0.4200 | Val Acc: 0.4652\n"
     ]
    },
    {
     "name": "stderr",
     "output_type": "stream",
     "text": [
      "Epoch 25/50:   0%|                                                                                   | 0/541 [00:00<?, ?it/s]/var/folders/06/4mfvxfgx51scnyqsczh6cd900000gn/T/ipykernel_21440/463813912.py:121: FutureWarning: `torch.cuda.amp.autocast(args...)` is deprecated. Please use `torch.amp.autocast('cuda', args...)` instead.\n",
      "  with torch.cuda.amp.autocast(enabled=self.device.type != 'cpu'):\n",
      "/opt/anaconda3/lib/python3.12/site-packages/torch/amp/autocast_mode.py:266: UserWarning: User provided device_type of 'cuda', but CUDA is not available. Disabling\n",
      "  warnings.warn(\n",
      "Epoch 25/50: 100%|█████████████████████████████████████████████████████████████████████████| 541/541 [01:37<00:00,  5.53it/s]\n",
      "/var/folders/06/4mfvxfgx51scnyqsczh6cd900000gn/T/ipykernel_21440/463813912.py:163: FutureWarning: `torch.cuda.amp.autocast(args...)` is deprecated. Please use `torch.amp.autocast('cuda', args...)` instead.\n",
      "  with torch.cuda.amp.autocast(enabled=self.device.type != 'cpu'):\n"
     ]
    },
    {
     "name": "stdout",
     "output_type": "stream",
     "text": [
      "Val F1: 0.4103 | Val Acc: 0.4534\n"
     ]
    },
    {
     "name": "stderr",
     "output_type": "stream",
     "text": [
      "Epoch 26/50:   0%|                                                                                   | 0/541 [00:00<?, ?it/s]/var/folders/06/4mfvxfgx51scnyqsczh6cd900000gn/T/ipykernel_21440/463813912.py:121: FutureWarning: `torch.cuda.amp.autocast(args...)` is deprecated. Please use `torch.amp.autocast('cuda', args...)` instead.\n",
      "  with torch.cuda.amp.autocast(enabled=self.device.type != 'cpu'):\n",
      "/opt/anaconda3/lib/python3.12/site-packages/torch/amp/autocast_mode.py:266: UserWarning: User provided device_type of 'cuda', but CUDA is not available. Disabling\n",
      "  warnings.warn(\n",
      "Epoch 26/50: 100%|█████████████████████████████████████████████████████████████████████████| 541/541 [16:54<00:00,  1.87s/it]\n",
      "/var/folders/06/4mfvxfgx51scnyqsczh6cd900000gn/T/ipykernel_21440/463813912.py:163: FutureWarning: `torch.cuda.amp.autocast(args...)` is deprecated. Please use `torch.amp.autocast('cuda', args...)` instead.\n",
      "  with torch.cuda.amp.autocast(enabled=self.device.type != 'cpu'):\n"
     ]
    },
    {
     "name": "stdout",
     "output_type": "stream",
     "text": [
      "Val F1: 0.4197 | Val Acc: 0.4620\n"
     ]
    },
    {
     "name": "stderr",
     "output_type": "stream",
     "text": [
      "Epoch 27/50:   0%|                                                                                   | 0/541 [00:00<?, ?it/s]/var/folders/06/4mfvxfgx51scnyqsczh6cd900000gn/T/ipykernel_21440/463813912.py:121: FutureWarning: `torch.cuda.amp.autocast(args...)` is deprecated. Please use `torch.amp.autocast('cuda', args...)` instead.\n",
      "  with torch.cuda.amp.autocast(enabled=self.device.type != 'cpu'):\n",
      "/opt/anaconda3/lib/python3.12/site-packages/torch/amp/autocast_mode.py:266: UserWarning: User provided device_type of 'cuda', but CUDA is not available. Disabling\n",
      "  warnings.warn(\n",
      "Epoch 27/50: 100%|█████████████████████████████████████████████████████████████████████████| 541/541 [01:20<00:00,  6.68it/s]\n",
      "/var/folders/06/4mfvxfgx51scnyqsczh6cd900000gn/T/ipykernel_21440/463813912.py:163: FutureWarning: `torch.cuda.amp.autocast(args...)` is deprecated. Please use `torch.amp.autocast('cuda', args...)` instead.\n",
      "  with torch.cuda.amp.autocast(enabled=self.device.type != 'cpu'):\n"
     ]
    },
    {
     "name": "stdout",
     "output_type": "stream",
     "text": [
      "Val F1: 0.4075 | Val Acc: 0.4491\n"
     ]
    },
    {
     "name": "stderr",
     "output_type": "stream",
     "text": [
      "Epoch 28/50:   0%|                                                                                   | 0/541 [00:00<?, ?it/s]/var/folders/06/4mfvxfgx51scnyqsczh6cd900000gn/T/ipykernel_21440/463813912.py:121: FutureWarning: `torch.cuda.amp.autocast(args...)` is deprecated. Please use `torch.amp.autocast('cuda', args...)` instead.\n",
      "  with torch.cuda.amp.autocast(enabled=self.device.type != 'cpu'):\n",
      "/opt/anaconda3/lib/python3.12/site-packages/torch/amp/autocast_mode.py:266: UserWarning: User provided device_type of 'cuda', but CUDA is not available. Disabling\n",
      "  warnings.warn(\n",
      "Epoch 28/50: 100%|█████████████████████████████████████████████████████████████████████████| 541/541 [01:23<00:00,  6.50it/s]\n",
      "/var/folders/06/4mfvxfgx51scnyqsczh6cd900000gn/T/ipykernel_21440/463813912.py:163: FutureWarning: `torch.cuda.amp.autocast(args...)` is deprecated. Please use `torch.amp.autocast('cuda', args...)` instead.\n",
      "  with torch.cuda.amp.autocast(enabled=self.device.type != 'cpu'):\n"
     ]
    },
    {
     "name": "stdout",
     "output_type": "stream",
     "text": [
      "Val F1: 0.4395 | Val Acc: 0.4792\n"
     ]
    },
    {
     "name": "stderr",
     "output_type": "stream",
     "text": [
      "Epoch 29/50:   0%|                                                                                   | 0/541 [00:00<?, ?it/s]/var/folders/06/4mfvxfgx51scnyqsczh6cd900000gn/T/ipykernel_21440/463813912.py:121: FutureWarning: `torch.cuda.amp.autocast(args...)` is deprecated. Please use `torch.amp.autocast('cuda', args...)` instead.\n",
      "  with torch.cuda.amp.autocast(enabled=self.device.type != 'cpu'):\n",
      "/opt/anaconda3/lib/python3.12/site-packages/torch/amp/autocast_mode.py:266: UserWarning: User provided device_type of 'cuda', but CUDA is not available. Disabling\n",
      "  warnings.warn(\n",
      "Epoch 29/50: 100%|█████████████████████████████████████████████████████████████████████████| 541/541 [01:38<00:00,  5.48it/s]\n",
      "/var/folders/06/4mfvxfgx51scnyqsczh6cd900000gn/T/ipykernel_21440/463813912.py:163: FutureWarning: `torch.cuda.amp.autocast(args...)` is deprecated. Please use `torch.amp.autocast('cuda', args...)` instead.\n",
      "  with torch.cuda.amp.autocast(enabled=self.device.type != 'cpu'):\n"
     ]
    },
    {
     "name": "stdout",
     "output_type": "stream",
     "text": [
      "Val F1: 0.4333 | Val Acc: 0.4739\n"
     ]
    },
    {
     "name": "stderr",
     "output_type": "stream",
     "text": [
      "Epoch 30/50:   0%|                                                                                   | 0/541 [00:00<?, ?it/s]/var/folders/06/4mfvxfgx51scnyqsczh6cd900000gn/T/ipykernel_21440/463813912.py:121: FutureWarning: `torch.cuda.amp.autocast(args...)` is deprecated. Please use `torch.amp.autocast('cuda', args...)` instead.\n",
      "  with torch.cuda.amp.autocast(enabled=self.device.type != 'cpu'):\n",
      "/opt/anaconda3/lib/python3.12/site-packages/torch/amp/autocast_mode.py:266: UserWarning: User provided device_type of 'cuda', but CUDA is not available. Disabling\n",
      "  warnings.warn(\n",
      "Epoch 30/50: 100%|█████████████████████████████████████████████████████████████████████████| 541/541 [02:13<00:00,  4.06it/s]\n",
      "/var/folders/06/4mfvxfgx51scnyqsczh6cd900000gn/T/ipykernel_21440/463813912.py:163: FutureWarning: `torch.cuda.amp.autocast(args...)` is deprecated. Please use `torch.amp.autocast('cuda', args...)` instead.\n",
      "  with torch.cuda.amp.autocast(enabled=self.device.type != 'cpu'):\n"
     ]
    },
    {
     "name": "stdout",
     "output_type": "stream",
     "text": [
      "Val F1: 0.4399 | Val Acc: 0.4782\n"
     ]
    },
    {
     "name": "stderr",
     "output_type": "stream",
     "text": [
      "Epoch 31/50:   0%|                                                                                   | 0/541 [00:00<?, ?it/s]/var/folders/06/4mfvxfgx51scnyqsczh6cd900000gn/T/ipykernel_21440/463813912.py:121: FutureWarning: `torch.cuda.amp.autocast(args...)` is deprecated. Please use `torch.amp.autocast('cuda', args...)` instead.\n",
      "  with torch.cuda.amp.autocast(enabled=self.device.type != 'cpu'):\n",
      "/opt/anaconda3/lib/python3.12/site-packages/torch/amp/autocast_mode.py:266: UserWarning: User provided device_type of 'cuda', but CUDA is not available. Disabling\n",
      "  warnings.warn(\n",
      "Epoch 31/50: 100%|█████████████████████████████████████████████████████████████████████████| 541/541 [01:58<00:00,  4.57it/s]\n",
      "/var/folders/06/4mfvxfgx51scnyqsczh6cd900000gn/T/ipykernel_21440/463813912.py:163: FutureWarning: `torch.cuda.amp.autocast(args...)` is deprecated. Please use `torch.amp.autocast('cuda', args...)` instead.\n",
      "  with torch.cuda.amp.autocast(enabled=self.device.type != 'cpu'):\n"
     ]
    },
    {
     "name": "stdout",
     "output_type": "stream",
     "text": [
      "Val F1: 0.4589 | Val Acc: 0.4960\n"
     ]
    },
    {
     "name": "stderr",
     "output_type": "stream",
     "text": [
      "Epoch 32/50:   0%|                                                                                   | 0/541 [00:00<?, ?it/s]/var/folders/06/4mfvxfgx51scnyqsczh6cd900000gn/T/ipykernel_21440/463813912.py:121: FutureWarning: `torch.cuda.amp.autocast(args...)` is deprecated. Please use `torch.amp.autocast('cuda', args...)` instead.\n",
      "  with torch.cuda.amp.autocast(enabled=self.device.type != 'cpu'):\n",
      "/opt/anaconda3/lib/python3.12/site-packages/torch/amp/autocast_mode.py:266: UserWarning: User provided device_type of 'cuda', but CUDA is not available. Disabling\n",
      "  warnings.warn(\n",
      "Epoch 32/50: 100%|█████████████████████████████████████████████████████████████████████████| 541/541 [05:32<00:00,  1.63it/s]\n",
      "/var/folders/06/4mfvxfgx51scnyqsczh6cd900000gn/T/ipykernel_21440/463813912.py:163: FutureWarning: `torch.cuda.amp.autocast(args...)` is deprecated. Please use `torch.amp.autocast('cuda', args...)` instead.\n",
      "  with torch.cuda.amp.autocast(enabled=self.device.type != 'cpu'):\n"
     ]
    },
    {
     "name": "stdout",
     "output_type": "stream",
     "text": [
      "Val F1: 0.4475 | Val Acc: 0.4900\n"
     ]
    },
    {
     "name": "stderr",
     "output_type": "stream",
     "text": [
      "Epoch 33/50:   0%|                                                                                   | 0/541 [00:00<?, ?it/s]/var/folders/06/4mfvxfgx51scnyqsczh6cd900000gn/T/ipykernel_21440/463813912.py:121: FutureWarning: `torch.cuda.amp.autocast(args...)` is deprecated. Please use `torch.amp.autocast('cuda', args...)` instead.\n",
      "  with torch.cuda.amp.autocast(enabled=self.device.type != 'cpu'):\n",
      "/opt/anaconda3/lib/python3.12/site-packages/torch/amp/autocast_mode.py:266: UserWarning: User provided device_type of 'cuda', but CUDA is not available. Disabling\n",
      "  warnings.warn(\n",
      "Epoch 33/50: 100%|█████████████████████████████████████████████████████████████████████████| 541/541 [01:51<00:00,  4.86it/s]\n",
      "/var/folders/06/4mfvxfgx51scnyqsczh6cd900000gn/T/ipykernel_21440/463813912.py:163: FutureWarning: `torch.cuda.amp.autocast(args...)` is deprecated. Please use `torch.amp.autocast('cuda', args...)` instead.\n",
      "  with torch.cuda.amp.autocast(enabled=self.device.type != 'cpu'):\n"
     ]
    },
    {
     "name": "stdout",
     "output_type": "stream",
     "text": [
      "Val F1: 0.4587 | Val Acc: 0.5024\n"
     ]
    },
    {
     "name": "stderr",
     "output_type": "stream",
     "text": [
      "Epoch 34/50:   0%|                                                                                   | 0/541 [00:00<?, ?it/s]/var/folders/06/4mfvxfgx51scnyqsczh6cd900000gn/T/ipykernel_21440/463813912.py:121: FutureWarning: `torch.cuda.amp.autocast(args...)` is deprecated. Please use `torch.amp.autocast('cuda', args...)` instead.\n",
      "  with torch.cuda.amp.autocast(enabled=self.device.type != 'cpu'):\n",
      "/opt/anaconda3/lib/python3.12/site-packages/torch/amp/autocast_mode.py:266: UserWarning: User provided device_type of 'cuda', but CUDA is not available. Disabling\n",
      "  warnings.warn(\n",
      "Epoch 34/50: 100%|█████████████████████████████████████████████████████████████████████████| 541/541 [01:51<00:00,  4.84it/s]\n",
      "/var/folders/06/4mfvxfgx51scnyqsczh6cd900000gn/T/ipykernel_21440/463813912.py:163: FutureWarning: `torch.cuda.amp.autocast(args...)` is deprecated. Please use `torch.amp.autocast('cuda', args...)` instead.\n",
      "  with torch.cuda.amp.autocast(enabled=self.device.type != 'cpu'):\n"
     ]
    },
    {
     "name": "stdout",
     "output_type": "stream",
     "text": [
      "Val F1: 0.4751 | Val Acc: 0.5132\n"
     ]
    },
    {
     "name": "stderr",
     "output_type": "stream",
     "text": [
      "Epoch 35/50:   0%|                                                                                   | 0/541 [00:00<?, ?it/s]/var/folders/06/4mfvxfgx51scnyqsczh6cd900000gn/T/ipykernel_21440/463813912.py:121: FutureWarning: `torch.cuda.amp.autocast(args...)` is deprecated. Please use `torch.amp.autocast('cuda', args...)` instead.\n",
      "  with torch.cuda.amp.autocast(enabled=self.device.type != 'cpu'):\n",
      "/opt/anaconda3/lib/python3.12/site-packages/torch/amp/autocast_mode.py:266: UserWarning: User provided device_type of 'cuda', but CUDA is not available. Disabling\n",
      "  warnings.warn(\n",
      "Epoch 35/50: 100%|█████████████████████████████████████████████████████████████████████████| 541/541 [01:52<00:00,  4.83it/s]\n",
      "/var/folders/06/4mfvxfgx51scnyqsczh6cd900000gn/T/ipykernel_21440/463813912.py:163: FutureWarning: `torch.cuda.amp.autocast(args...)` is deprecated. Please use `torch.amp.autocast('cuda', args...)` instead.\n",
      "  with torch.cuda.amp.autocast(enabled=self.device.type != 'cpu'):\n"
     ]
    },
    {
     "name": "stdout",
     "output_type": "stream",
     "text": [
      "Val F1: 0.4630 | Val Acc: 0.4987\n"
     ]
    },
    {
     "name": "stderr",
     "output_type": "stream",
     "text": [
      "Epoch 36/50:   0%|                                                                                   | 0/541 [00:00<?, ?it/s]/var/folders/06/4mfvxfgx51scnyqsczh6cd900000gn/T/ipykernel_21440/463813912.py:121: FutureWarning: `torch.cuda.amp.autocast(args...)` is deprecated. Please use `torch.amp.autocast('cuda', args...)` instead.\n",
      "  with torch.cuda.amp.autocast(enabled=self.device.type != 'cpu'):\n",
      "/opt/anaconda3/lib/python3.12/site-packages/torch/amp/autocast_mode.py:266: UserWarning: User provided device_type of 'cuda', but CUDA is not available. Disabling\n",
      "  warnings.warn(\n",
      "Epoch 36/50: 100%|█████████████████████████████████████████████████████████████████████████| 541/541 [01:56<00:00,  4.64it/s]\n",
      "/var/folders/06/4mfvxfgx51scnyqsczh6cd900000gn/T/ipykernel_21440/463813912.py:163: FutureWarning: `torch.cuda.amp.autocast(args...)` is deprecated. Please use `torch.amp.autocast('cuda', args...)` instead.\n",
      "  with torch.cuda.amp.autocast(enabled=self.device.type != 'cpu'):\n"
     ]
    },
    {
     "name": "stdout",
     "output_type": "stream",
     "text": [
      "Val F1: 0.4689 | Val Acc: 0.5062\n"
     ]
    },
    {
     "name": "stderr",
     "output_type": "stream",
     "text": [
      "Epoch 37/50:   0%|                                                                                   | 0/541 [00:00<?, ?it/s]/var/folders/06/4mfvxfgx51scnyqsczh6cd900000gn/T/ipykernel_21440/463813912.py:121: FutureWarning: `torch.cuda.amp.autocast(args...)` is deprecated. Please use `torch.amp.autocast('cuda', args...)` instead.\n",
      "  with torch.cuda.amp.autocast(enabled=self.device.type != 'cpu'):\n",
      "/opt/anaconda3/lib/python3.12/site-packages/torch/amp/autocast_mode.py:266: UserWarning: User provided device_type of 'cuda', but CUDA is not available. Disabling\n",
      "  warnings.warn(\n",
      "Epoch 37/50: 100%|█████████████████████████████████████████████████████████████████████████| 541/541 [01:56<00:00,  4.65it/s]\n",
      "/var/folders/06/4mfvxfgx51scnyqsczh6cd900000gn/T/ipykernel_21440/463813912.py:163: FutureWarning: `torch.cuda.amp.autocast(args...)` is deprecated. Please use `torch.amp.autocast('cuda', args...)` instead.\n",
      "  with torch.cuda.amp.autocast(enabled=self.device.type != 'cpu'):\n"
     ]
    },
    {
     "name": "stdout",
     "output_type": "stream",
     "text": [
      "Val F1: 0.4692 | Val Acc: 0.5100\n"
     ]
    },
    {
     "name": "stderr",
     "output_type": "stream",
     "text": [
      "Epoch 38/50:   0%|                                                                                   | 0/541 [00:00<?, ?it/s]/var/folders/06/4mfvxfgx51scnyqsczh6cd900000gn/T/ipykernel_21440/463813912.py:121: FutureWarning: `torch.cuda.amp.autocast(args...)` is deprecated. Please use `torch.amp.autocast('cuda', args...)` instead.\n",
      "  with torch.cuda.amp.autocast(enabled=self.device.type != 'cpu'):\n",
      "/opt/anaconda3/lib/python3.12/site-packages/torch/amp/autocast_mode.py:266: UserWarning: User provided device_type of 'cuda', but CUDA is not available. Disabling\n",
      "  warnings.warn(\n",
      "Epoch 38/50: 100%|█████████████████████████████████████████████████████████████████████████| 541/541 [01:56<00:00,  4.65it/s]\n",
      "/var/folders/06/4mfvxfgx51scnyqsczh6cd900000gn/T/ipykernel_21440/463813912.py:163: FutureWarning: `torch.cuda.amp.autocast(args...)` is deprecated. Please use `torch.amp.autocast('cuda', args...)` instead.\n",
      "  with torch.cuda.amp.autocast(enabled=self.device.type != 'cpu'):\n"
     ]
    },
    {
     "name": "stdout",
     "output_type": "stream",
     "text": [
      "Val F1: 0.4736 | Val Acc: 0.5100\n"
     ]
    },
    {
     "name": "stderr",
     "output_type": "stream",
     "text": [
      "Epoch 39/50:   0%|                                                                                   | 0/541 [00:00<?, ?it/s]/var/folders/06/4mfvxfgx51scnyqsczh6cd900000gn/T/ipykernel_21440/463813912.py:121: FutureWarning: `torch.cuda.amp.autocast(args...)` is deprecated. Please use `torch.amp.autocast('cuda', args...)` instead.\n",
      "  with torch.cuda.amp.autocast(enabled=self.device.type != 'cpu'):\n",
      "/opt/anaconda3/lib/python3.12/site-packages/torch/amp/autocast_mode.py:266: UserWarning: User provided device_type of 'cuda', but CUDA is not available. Disabling\n",
      "  warnings.warn(\n",
      "Epoch 39/50: 100%|█████████████████████████████████████████████████████████████████████████| 541/541 [01:56<00:00,  4.65it/s]\n",
      "/var/folders/06/4mfvxfgx51scnyqsczh6cd900000gn/T/ipykernel_21440/463813912.py:163: FutureWarning: `torch.cuda.amp.autocast(args...)` is deprecated. Please use `torch.amp.autocast('cuda', args...)` instead.\n",
      "  with torch.cuda.amp.autocast(enabled=self.device.type != 'cpu'):\n"
     ]
    },
    {
     "name": "stdout",
     "output_type": "stream",
     "text": [
      "Val F1: 0.4778 | Val Acc: 0.5121\n"
     ]
    },
    {
     "name": "stderr",
     "output_type": "stream",
     "text": [
      "Epoch 40/50:   0%|                                                                                   | 0/541 [00:00<?, ?it/s]/var/folders/06/4mfvxfgx51scnyqsczh6cd900000gn/T/ipykernel_21440/463813912.py:121: FutureWarning: `torch.cuda.amp.autocast(args...)` is deprecated. Please use `torch.amp.autocast('cuda', args...)` instead.\n",
      "  with torch.cuda.amp.autocast(enabled=self.device.type != 'cpu'):\n",
      "/opt/anaconda3/lib/python3.12/site-packages/torch/amp/autocast_mode.py:266: UserWarning: User provided device_type of 'cuda', but CUDA is not available. Disabling\n",
      "  warnings.warn(\n",
      "Epoch 40/50: 100%|█████████████████████████████████████████████████████████████████████████| 541/541 [01:56<00:00,  4.65it/s]\n",
      "/var/folders/06/4mfvxfgx51scnyqsczh6cd900000gn/T/ipykernel_21440/463813912.py:163: FutureWarning: `torch.cuda.amp.autocast(args...)` is deprecated. Please use `torch.amp.autocast('cuda', args...)` instead.\n",
      "  with torch.cuda.amp.autocast(enabled=self.device.type != 'cpu'):\n"
     ]
    },
    {
     "name": "stdout",
     "output_type": "stream",
     "text": [
      "Val F1: 0.4768 | Val Acc: 0.5127\n"
     ]
    },
    {
     "name": "stderr",
     "output_type": "stream",
     "text": [
      "Epoch 41/50:   0%|                                                                                   | 0/541 [00:00<?, ?it/s]/var/folders/06/4mfvxfgx51scnyqsczh6cd900000gn/T/ipykernel_21440/463813912.py:121: FutureWarning: `torch.cuda.amp.autocast(args...)` is deprecated. Please use `torch.amp.autocast('cuda', args...)` instead.\n",
      "  with torch.cuda.amp.autocast(enabled=self.device.type != 'cpu'):\n",
      "/opt/anaconda3/lib/python3.12/site-packages/torch/amp/autocast_mode.py:266: UserWarning: User provided device_type of 'cuda', but CUDA is not available. Disabling\n",
      "  warnings.warn(\n",
      "Epoch 41/50: 100%|█████████████████████████████████████████████████████████████████████████| 541/541 [01:56<00:00,  4.65it/s]\n",
      "/var/folders/06/4mfvxfgx51scnyqsczh6cd900000gn/T/ipykernel_21440/463813912.py:163: FutureWarning: `torch.cuda.amp.autocast(args...)` is deprecated. Please use `torch.amp.autocast('cuda', args...)` instead.\n",
      "  with torch.cuda.amp.autocast(enabled=self.device.type != 'cpu'):\n"
     ]
    },
    {
     "name": "stdout",
     "output_type": "stream",
     "text": [
      "Val F1: 0.4776 | Val Acc: 0.5170\n"
     ]
    },
    {
     "name": "stderr",
     "output_type": "stream",
     "text": [
      "Epoch 42/50:   0%|                                                                                   | 0/541 [00:00<?, ?it/s]/var/folders/06/4mfvxfgx51scnyqsczh6cd900000gn/T/ipykernel_21440/463813912.py:121: FutureWarning: `torch.cuda.amp.autocast(args...)` is deprecated. Please use `torch.amp.autocast('cuda', args...)` instead.\n",
      "  with torch.cuda.amp.autocast(enabled=self.device.type != 'cpu'):\n",
      "/opt/anaconda3/lib/python3.12/site-packages/torch/amp/autocast_mode.py:266: UserWarning: User provided device_type of 'cuda', but CUDA is not available. Disabling\n",
      "  warnings.warn(\n",
      "Epoch 42/50: 100%|█████████████████████████████████████████████████████████████████████████| 541/541 [01:56<00:00,  4.65it/s]\n",
      "/var/folders/06/4mfvxfgx51scnyqsczh6cd900000gn/T/ipykernel_21440/463813912.py:163: FutureWarning: `torch.cuda.amp.autocast(args...)` is deprecated. Please use `torch.amp.autocast('cuda', args...)` instead.\n",
      "  with torch.cuda.amp.autocast(enabled=self.device.type != 'cpu'):\n"
     ]
    },
    {
     "name": "stdout",
     "output_type": "stream",
     "text": [
      "Val F1: 0.4797 | Val Acc: 0.5170\n"
     ]
    },
    {
     "name": "stderr",
     "output_type": "stream",
     "text": [
      "Epoch 43/50:   0%|                                                                                   | 0/541 [00:00<?, ?it/s]/var/folders/06/4mfvxfgx51scnyqsczh6cd900000gn/T/ipykernel_21440/463813912.py:121: FutureWarning: `torch.cuda.amp.autocast(args...)` is deprecated. Please use `torch.amp.autocast('cuda', args...)` instead.\n",
      "  with torch.cuda.amp.autocast(enabled=self.device.type != 'cpu'):\n",
      "/opt/anaconda3/lib/python3.12/site-packages/torch/amp/autocast_mode.py:266: UserWarning: User provided device_type of 'cuda', but CUDA is not available. Disabling\n",
      "  warnings.warn(\n",
      "Epoch 43/50: 100%|█████████████████████████████████████████████████████████████████████████| 541/541 [01:53<00:00,  4.78it/s]\n",
      "/var/folders/06/4mfvxfgx51scnyqsczh6cd900000gn/T/ipykernel_21440/463813912.py:163: FutureWarning: `torch.cuda.amp.autocast(args...)` is deprecated. Please use `torch.amp.autocast('cuda', args...)` instead.\n",
      "  with torch.cuda.amp.autocast(enabled=self.device.type != 'cpu'):\n"
     ]
    },
    {
     "name": "stdout",
     "output_type": "stream",
     "text": [
      "Val F1: 0.4816 | Val Acc: 0.5202\n"
     ]
    },
    {
     "name": "stderr",
     "output_type": "stream",
     "text": [
      "Epoch 44/50:   0%|                                                                                   | 0/541 [00:00<?, ?it/s]/var/folders/06/4mfvxfgx51scnyqsczh6cd900000gn/T/ipykernel_21440/463813912.py:121: FutureWarning: `torch.cuda.amp.autocast(args...)` is deprecated. Please use `torch.amp.autocast('cuda', args...)` instead.\n",
      "  with torch.cuda.amp.autocast(enabled=self.device.type != 'cpu'):\n",
      "/opt/anaconda3/lib/python3.12/site-packages/torch/amp/autocast_mode.py:266: UserWarning: User provided device_type of 'cuda', but CUDA is not available. Disabling\n",
      "  warnings.warn(\n",
      "Epoch 44/50: 100%|█████████████████████████████████████████████████████████████████████████| 541/541 [01:53<00:00,  4.78it/s]\n",
      "/var/folders/06/4mfvxfgx51scnyqsczh6cd900000gn/T/ipykernel_21440/463813912.py:163: FutureWarning: `torch.cuda.amp.autocast(args...)` is deprecated. Please use `torch.amp.autocast('cuda', args...)` instead.\n",
      "  with torch.cuda.amp.autocast(enabled=self.device.type != 'cpu'):\n"
     ]
    },
    {
     "name": "stdout",
     "output_type": "stream",
     "text": [
      "Val F1: 0.4876 | Val Acc: 0.5267\n"
     ]
    },
    {
     "name": "stderr",
     "output_type": "stream",
     "text": [
      "Epoch 45/50:   0%|                                                                                   | 0/541 [00:00<?, ?it/s]/var/folders/06/4mfvxfgx51scnyqsczh6cd900000gn/T/ipykernel_21440/463813912.py:121: FutureWarning: `torch.cuda.amp.autocast(args...)` is deprecated. Please use `torch.amp.autocast('cuda', args...)` instead.\n",
      "  with torch.cuda.amp.autocast(enabled=self.device.type != 'cpu'):\n",
      "/opt/anaconda3/lib/python3.12/site-packages/torch/amp/autocast_mode.py:266: UserWarning: User provided device_type of 'cuda', but CUDA is not available. Disabling\n",
      "  warnings.warn(\n",
      "Epoch 45/50: 100%|█████████████████████████████████████████████████████████████████████████| 541/541 [01:52<00:00,  4.81it/s]\n",
      "/var/folders/06/4mfvxfgx51scnyqsczh6cd900000gn/T/ipykernel_21440/463813912.py:163: FutureWarning: `torch.cuda.amp.autocast(args...)` is deprecated. Please use `torch.amp.autocast('cuda', args...)` instead.\n",
      "  with torch.cuda.amp.autocast(enabled=self.device.type != 'cpu'):\n"
     ]
    },
    {
     "name": "stdout",
     "output_type": "stream",
     "text": [
      "Val F1: 0.4852 | Val Acc: 0.5256\n"
     ]
    },
    {
     "name": "stderr",
     "output_type": "stream",
     "text": [
      "Epoch 46/50:   0%|                                                                                   | 0/541 [00:00<?, ?it/s]/var/folders/06/4mfvxfgx51scnyqsczh6cd900000gn/T/ipykernel_21440/463813912.py:121: FutureWarning: `torch.cuda.amp.autocast(args...)` is deprecated. Please use `torch.amp.autocast('cuda', args...)` instead.\n",
      "  with torch.cuda.amp.autocast(enabled=self.device.type != 'cpu'):\n",
      "/opt/anaconda3/lib/python3.12/site-packages/torch/amp/autocast_mode.py:266: UserWarning: User provided device_type of 'cuda', but CUDA is not available. Disabling\n",
      "  warnings.warn(\n",
      "Epoch 46/50: 100%|█████████████████████████████████████████████████████████████████████████| 541/541 [01:51<00:00,  4.85it/s]\n",
      "/var/folders/06/4mfvxfgx51scnyqsczh6cd900000gn/T/ipykernel_21440/463813912.py:163: FutureWarning: `torch.cuda.amp.autocast(args...)` is deprecated. Please use `torch.amp.autocast('cuda', args...)` instead.\n",
      "  with torch.cuda.amp.autocast(enabled=self.device.type != 'cpu'):\n"
     ]
    },
    {
     "name": "stdout",
     "output_type": "stream",
     "text": [
      "Val F1: 0.4849 | Val Acc: 0.5213\n"
     ]
    },
    {
     "name": "stderr",
     "output_type": "stream",
     "text": [
      "Epoch 47/50:   0%|                                                                                   | 0/541 [00:00<?, ?it/s]/var/folders/06/4mfvxfgx51scnyqsczh6cd900000gn/T/ipykernel_21440/463813912.py:121: FutureWarning: `torch.cuda.amp.autocast(args...)` is deprecated. Please use `torch.amp.autocast('cuda', args...)` instead.\n",
      "  with torch.cuda.amp.autocast(enabled=self.device.type != 'cpu'):\n",
      "/opt/anaconda3/lib/python3.12/site-packages/torch/amp/autocast_mode.py:266: UserWarning: User provided device_type of 'cuda', but CUDA is not available. Disabling\n",
      "  warnings.warn(\n",
      "Epoch 47/50: 100%|█████████████████████████████████████████████████████████████████████████| 541/541 [01:49<00:00,  4.92it/s]\n",
      "/var/folders/06/4mfvxfgx51scnyqsczh6cd900000gn/T/ipykernel_21440/463813912.py:163: FutureWarning: `torch.cuda.amp.autocast(args...)` is deprecated. Please use `torch.amp.autocast('cuda', args...)` instead.\n",
      "  with torch.cuda.amp.autocast(enabled=self.device.type != 'cpu'):\n"
     ]
    },
    {
     "name": "stdout",
     "output_type": "stream",
     "text": [
      "Val F1: 0.4841 | Val Acc: 0.5245\n"
     ]
    },
    {
     "name": "stderr",
     "output_type": "stream",
     "text": [
      "Epoch 48/50:   0%|                                                                                   | 0/541 [00:00<?, ?it/s]/var/folders/06/4mfvxfgx51scnyqsczh6cd900000gn/T/ipykernel_21440/463813912.py:121: FutureWarning: `torch.cuda.amp.autocast(args...)` is deprecated. Please use `torch.amp.autocast('cuda', args...)` instead.\n",
      "  with torch.cuda.amp.autocast(enabled=self.device.type != 'cpu'):\n",
      "/opt/anaconda3/lib/python3.12/site-packages/torch/amp/autocast_mode.py:266: UserWarning: User provided device_type of 'cuda', but CUDA is not available. Disabling\n",
      "  warnings.warn(\n",
      "Epoch 48/50: 100%|█████████████████████████████████████████████████████████████████████████| 541/541 [01:50<00:00,  4.91it/s]\n",
      "/var/folders/06/4mfvxfgx51scnyqsczh6cd900000gn/T/ipykernel_21440/463813912.py:163: FutureWarning: `torch.cuda.amp.autocast(args...)` is deprecated. Please use `torch.amp.autocast('cuda', args...)` instead.\n",
      "  with torch.cuda.amp.autocast(enabled=self.device.type != 'cpu'):\n"
     ]
    },
    {
     "name": "stdout",
     "output_type": "stream",
     "text": [
      "Val F1: 0.4906 | Val Acc: 0.5278\n"
     ]
    },
    {
     "name": "stderr",
     "output_type": "stream",
     "text": [
      "Epoch 49/50:   0%|                                                                                   | 0/541 [00:00<?, ?it/s]/var/folders/06/4mfvxfgx51scnyqsczh6cd900000gn/T/ipykernel_21440/463813912.py:121: FutureWarning: `torch.cuda.amp.autocast(args...)` is deprecated. Please use `torch.amp.autocast('cuda', args...)` instead.\n",
      "  with torch.cuda.amp.autocast(enabled=self.device.type != 'cpu'):\n",
      "/opt/anaconda3/lib/python3.12/site-packages/torch/amp/autocast_mode.py:266: UserWarning: User provided device_type of 'cuda', but CUDA is not available. Disabling\n",
      "  warnings.warn(\n",
      "Epoch 49/50: 100%|█████████████████████████████████████████████████████████████████████████| 541/541 [01:51<00:00,  4.87it/s]\n",
      "/var/folders/06/4mfvxfgx51scnyqsczh6cd900000gn/T/ipykernel_21440/463813912.py:163: FutureWarning: `torch.cuda.amp.autocast(args...)` is deprecated. Please use `torch.amp.autocast('cuda', args...)` instead.\n",
      "  with torch.cuda.amp.autocast(enabled=self.device.type != 'cpu'):\n"
     ]
    },
    {
     "name": "stdout",
     "output_type": "stream",
     "text": [
      "Val F1: 0.4808 | Val Acc: 0.5186\n"
     ]
    },
    {
     "name": "stderr",
     "output_type": "stream",
     "text": [
      "Epoch 50/50:   0%|                                                                                   | 0/541 [00:00<?, ?it/s]/var/folders/06/4mfvxfgx51scnyqsczh6cd900000gn/T/ipykernel_21440/463813912.py:121: FutureWarning: `torch.cuda.amp.autocast(args...)` is deprecated. Please use `torch.amp.autocast('cuda', args...)` instead.\n",
      "  with torch.cuda.amp.autocast(enabled=self.device.type != 'cpu'):\n",
      "/opt/anaconda3/lib/python3.12/site-packages/torch/amp/autocast_mode.py:266: UserWarning: User provided device_type of 'cuda', but CUDA is not available. Disabling\n",
      "  warnings.warn(\n",
      "Epoch 50/50: 100%|█████████████████████████████████████████████████████████████████████████| 541/541 [01:47<00:00,  5.04it/s]\n",
      "/var/folders/06/4mfvxfgx51scnyqsczh6cd900000gn/T/ipykernel_21440/463813912.py:163: FutureWarning: `torch.cuda.amp.autocast(args...)` is deprecated. Please use `torch.amp.autocast('cuda', args...)` instead.\n",
      "  with torch.cuda.amp.autocast(enabled=self.device.type != 'cpu'):\n"
     ]
    },
    {
     "name": "stdout",
     "output_type": "stream",
     "text": [
      "Val F1: 0.4878 | Val Acc: 0.5256\n"
     ]
    },
    {
     "data": {
      "image/png": "[encoded data removed]",
      "text/plain": [
       "<Figure size 1500x500 with 3 Axes>"
      ]
     },
     "metadata": {},
     "output_type": "display_data"
    }
   ],
   "source": [
    "def main():\n",
    "    device = torch.device('mps')\n",
    "    config = Config()\n",
    "    print(config.num_workers)\n",
    "    trainer = PoseTrainer(config, device)\n",
    "\n",
    "    # Модельный summary\n",
    "    from torchinfo import summary\n",
    "    print(summary(trainer.model, input_size=(config.batch_size, 3, *config.img_size), device=device.type))\n",
    "\n",
    "    trainer.train()\n",
    "\n",
    "\n",
    "if __name__ == '__main__':\n",
    "    main()"
   ]
  },
  {
   "cell_type": "code",
   "execution_count": null,
   "id": "bf518f4b-3b3d-4a87-9802-2b3b61223614",
   "metadata": {},
   "outputs": [],
   "source": []
  },
  {
   "cell_type": "code",
   "execution_count": 8,
   "id": "e36cebec-263c-44cc-844b-aca1ff1eb7bf",
   "metadata": {},
   "outputs": [
    {
     "name": "stderr",
     "output_type": "stream",
     "text": [
      "/var/folders/06/4mfvxfgx51scnyqsczh6cd900000gn/T/ipykernel_21440/864233166.py:55: FutureWarning: You are using `torch.load` with `weights_only=False` (the current default value), which uses the default pickle module implicitly. It is possible to construct malicious pickle data which will execute arbitrary code during unpickling (See https://github.com/pytorch/pytorch/blob/main/SECURITY.md#untrusted-models for more details). In a future release, the default value for `weights_only` will be flipped to `True`. This limits the functions that could be executed during unpickling. Arbitrary objects will no longer be allowed to be loaded via this mode unless they are explicitly allowlisted by the user via `torch.serialization.add_safe_globals`. We recommend you start setting `weights_only=True` for any use case where you don't have full control of the loaded file. Please open an issue on GitHub for any issues related to this experimental feature.\n",
      "  model.load_state_dict(torch.load(os.path.join(config.save_dir, 'best_model.pth'), map_location=device))\n"
     ]
    },
    {
     "name": "stdout",
     "output_type": "stream",
     "text": [
      "Predictions saved to saved_models_efficientnet/test_predictions.csv\n"
     ]
    }
   ],
   "source": [
    "import torch\n",
    "import pandas as pd\n",
    "import os\n",
    "from torchvision import transforms\n",
    "from torch.utils.data import Dataset, DataLoader\n",
    "from PIL import Image\n",
    "\n",
    "class TestPoseDataset(Dataset):\n",
    "    def __init__(self, df, img_dir, transform=None):\n",
    "        self.df = df\n",
    "        self.img_dir = img_dir\n",
    "        self.transform = transform\n",
    "\n",
    "    def __len__(self):\n",
    "        return len(self.df)\n",
    "\n",
    "    def __getitem__(self, idx):\n",
    "        img_id = str(self.df.iloc[idx]['img_id']).strip()\n",
    "        img_path = os.path.join(self.img_dir, f\"{img_id}.jpg\")\n",
    "\n",
    "        try:\n",
    "            image = Image.open(img_path).convert('RGB')\n",
    "        except Exception as e:\n",
    "            print(f\"[WARN] Failed to open {img_path}: {e}\")\n",
    "            image = Image.new('RGB', Config.img_size)\n",
    "\n",
    "        if self.transform:\n",
    "            image = self.transform(image)\n",
    "\n",
    "        return image, img_id\n",
    "\n",
    "\n",
    "def get_test_transform(config):\n",
    "    return transforms.Compose([\n",
    "        transforms.Resize(config.img_size),\n",
    "        transforms.ToTensor(),\n",
    "        transforms.Normalize(mean=[0.485, 0.456, 0.406], std=[0.229, 0.224, 0.225])\n",
    "    ])\n",
    "\n",
    "\n",
    "def predict():\n",
    "    config = Config()\n",
    "    device = torch.device('mps')\n",
    "\n",
    "    test_img_dir = os.path.join(config.data_root, 'img_test')\n",
    "    test_img_names = sorted(\n",
    "        (f for f in os.listdir(test_img_dir) if f.endswith('.jpg')),\n",
    "        key=lambda x: int(os.path.splitext(x)[0])\n",
    "    )\n",
    "    df = pd.DataFrame({'img_id': [os.path.splitext(f)[0] for f in test_img_names]})\n",
    "    test_dataset = TestPoseDataset(df, test_img_dir, transform=get_test_transform(config))\n",
    "    test_loader = DataLoader(test_dataset, batch_size=config.batch_size, shuffle=False, num_workers=0)\n",
    "\n",
    "    model = CustomEfficientNet(config).to(device)\n",
    "    model.load_state_dict(torch.load(os.path.join(config.save_dir, 'best_model.pth'), map_location=device))\n",
    "    model.eval()\n",
    "\n",
    "    results = []\n",
    "    with torch.no_grad():\n",
    "        for images, img_ids in test_loader:\n",
    "            images = images.to(device, non_blocking=True)\n",
    "            outputs = model(images)\n",
    "            preds = torch.argmax(outputs, dim=1).cpu().numpy()\n",
    "            results.extend(zip(img_ids, preds))\n",
    "\n",
    "    output_df = pd.DataFrame(results, columns=['id', 'target_feature'])\n",
    "    output_csv_path = os.path.join(config.save_dir, 'test_predictions.csv')\n",
    "    output_df.to_csv(output_csv_path, index=False)\n",
    "    print(f\"Predictions saved to {output_csv_path}\")\n",
    "\n",
    "\n",
    "if __name__ == '__main__':\n",
    "    predict()"
   ]
  },
  {
   "cell_type": "code",
   "execution_count": null,
   "id": "474e441a-1287-48dd-a580-d04f2fd9e7ec",
   "metadata": {},
   "outputs": [],
   "source": []
  }
 ],
 "metadata": {
  "kernelspec": {
   "display_name": "Python 3 (ipykernel)",
   "language": "python",
   "name": "python3"
  },
  "language_info": {
   "codemirror_mode": {
    "name": "ipython",
    "version": 3
   },
   "file_extension": ".py",
   "mimetype": "text/x-python",
   "name": "python",
   "nbconvert_exporter": "python",
   "pygments_lexer": "ipython3",
   "version": "3.12.7"
  }
 },
 "nbformat": 4,
 "nbformat_minor": 5
}
