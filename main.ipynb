{
 "cells": [
  {
   "metadata": {
    "ExecuteTime": {
     "end_time": "2025-04-11T14:27:31.524520Z",
     "start_time": "2025-04-11T14:27:31.517454Z"
    }
   },
   "cell_type": "code",
   "source": [
    "# import gc\n",
    "#\n",
    "# del train_loader  # Удаляем переменную\n",
    "# gc.collect()  # Принудительная очистка памяти"
   ],
   "id": "21c3925cce4731c9",
   "outputs": [],
   "execution_count": 3
  },
  {
   "metadata": {
    "ExecuteTime": {
     "end_time": "2025-04-11T14:27:32.211735Z",
     "start_time": "2025-04-11T14:27:32.203473Z"
    }
   },
   "cell_type": "code",
   "source": [
    "import psutil\n",
    "print(psutil.virtual_memory())  # Покажет загрузку RAM"
   ],
   "id": "7a4308a709b9647d",
   "outputs": [
    {
     "name": "stdout",
     "output_type": "stream",
     "text": [
      "svmem(total=17058336768, available=5480017920, percent=67.9, used=11578318848, free=5480017920)\n"
     ]
    }
   ],
   "execution_count": 4
  },
  {
   "metadata": {
    "ExecuteTime": {
     "end_time": "2025-04-11T14:27:48.765648Z",
     "start_time": "2025-04-11T14:27:48.528985Z"
    }
   },
   "cell_type": "code",
   "source": "!nvidia-smi -h # Покажет загрузку VRAM",
   "id": "eda2d602bf1b422e",
   "outputs": [
    {
     "name": "stdout",
     "output_type": "stream",
     "text": [
      "ERROR: Option # is not valid for this command. Please run 'nvidia-smi -h' for help.\n",
      "\n"
     ]
    }
   ],
   "execution_count": 6
  },
  {
   "cell_type": "code",
   "id": "1f8789b10452af08",
   "metadata": {
    "ExecuteTime": {
     "end_time": "2025-04-11T19:51:53.656483Z",
     "start_time": "2025-04-11T19:51:19.329453Z"
    }
   },
   "source": [
    "import matplotlib.pyplot as plt\n",
    "import numpy as np\n",
    "\n",
    "import torch\n",
    "torch.cuda.empty_cache()\n",
    "from torch import nn\n",
    "from torchvision import transforms, datasets\n",
    "from torch.utils.data import DataLoader, TensorDataset\n",
    "\n",
    "from PIL import Image\n",
    "\n",
    "import h5py\n",
    "import glob"
   ],
   "outputs": [],
   "execution_count": 1
  },
  {
   "cell_type": "code",
   "id": "235b0b64c708e30",
   "metadata": {
    "ExecuteTime": {
     "end_time": "2025-04-11T14:53:28.128567Z",
     "start_time": "2025-04-11T14:53:28.122610Z"
    }
   },
   "source": [
    "# import os\n",
    "# import shutil\n",
    "# import pandas as pd\n",
    "# from tqdm import tqdm\n",
    "#\n",
    "# csv_file = \"human_poses_data/train_answers.csv\"\n",
    "# train_image_dir = \"human_poses_data/img_train\"\n",
    "# test_image_dir = \"human_poses_data/img_test\"\n",
    "# output_dir = \"data\"\n",
    "# train = \"train\"\n",
    "# test = \"test\"\n",
    "#\n",
    "# src_train_path = os.path.join(output_dir, train)\n",
    "# src_test_path = os.path.join(output_dir, test)\n",
    "#\n",
    "# os.makedirs(src_train_path, exist_ok=True)\n",
    "# os.makedirs(src_test_path, exist_ok=True)\n",
    "#\n",
    "# df = pd.read_csv(csv_file)\n",
    "#\n",
    "# for _, row in tqdm(df.iterrows()):\n",
    "#     image_id = str(row[\"img_id\"]) + \".jpg\"\n",
    "#     class_name = str(row[\"target_feature\"])\n",
    "#\n",
    "#     src_path = os.path.join(train_image_dir, image_id)\n",
    "#\n",
    "#     class_dir = os.path.join(src_train_path, class_name)\n",
    "#     dst_path = os.path.join(class_dir, image_id)\n",
    "#\n",
    "#     os.makedirs(class_dir, exist_ok=True)\n",
    "#\n",
    "#     if os.path.exists(src_path):\n",
    "#         shutil.copy(src_path, dst_path)\n",
    "#     else:\n",
    "#         print(f\"Файл {src_path} не найден!\")\n",
    "#\n",
    "# print(\"Копирование завершена!\")\n"
   ],
   "outputs": [],
   "execution_count": 2
  },
  {
   "cell_type": "code",
   "id": "2c2aeaa5ab6aaea9",
   "metadata": {
    "ExecuteTime": {
     "end_time": "2025-04-11T14:53:28.143519Z",
     "start_time": "2025-04-11T14:53:28.137367Z"
    }
   },
   "source": [
    "# test_image_dir = \"human_poses_data/img_test\"\n",
    "# output_dir = \"data\"\n",
    "# test = \"test\"\n",
    "#\n",
    "# src_test_path = os.path.join(output_dir, test)\n",
    "# os.makedirs(src_test_path, exist_ok=True)\n",
    "#\n",
    "# if os.path.exists(test_image_dir):\n",
    "#     for file_name in os.listdir(test_image_dir):\n",
    "#         src_file = os.path.join(test_image_dir, file_name)\n",
    "#         dst_file = os.path.join(src_test_path, file_name)\n",
    "#\n",
    "#         if os.path.isfile(src_file):  # Проверяем, что это файл, а не папка\n",
    "#             shutil.copy2(src_file, dst_file)\n",
    "#\n",
    "# print(\"Копирование завершено!\")"
   ],
   "outputs": [],
   "execution_count": 3
  },
  {
   "cell_type": "code",
   "execution_count": 7,
   "id": "a12826a165516e6b",
   "metadata": {
    "ExecuteTime": {
     "end_time": "2025-04-09T16:50:27.523861Z",
     "start_time": "2025-04-09T16:46:09.969223Z"
    }
   },
   "outputs": [],
   "source": [
    "transform = transforms.Compose([\n",
    "    transforms.Resize((224, 224)),\n",
    "    transforms.ToTensor(),\n",
    "    transforms.Normalize(mean=[0.5, 0.5, 0.5], std=[0.5, 0.5, 0.5])\n",
    "])\n",
    "\n",
    "train_dataset = datasets.ImageFolder(root=\"data/train\", transform=transform)\n",
    "test_dataset = TensorDataset(\n",
    "    torch.stack(\n",
    "        [transform(Image.open(img).convert(\"RGB\")) for img in sorted(glob.glob(\"data/test/*\"))]\n",
    "    ))\n",
    "\n",
    "train_loader = DataLoader(train_dataset, batch_size=32, shuffle=True, num_workers=4, pin_memory=True)\n",
    "test_loader = DataLoader(test_dataset, batch_size=32, shuffle=False, num_workers=4, pin_memory=True)"
   ]
  },
  {
   "cell_type": "code",
   "id": "fcbd41ab30d6bcc6",
   "metadata": {
    "ExecuteTime": {
     "end_time": "2025-04-11T14:53:28.162143Z",
     "start_time": "2025-04-11T14:53:28.151343Z"
    }
   },
   "source": [
    "def save_data(train_loader, test_loader, filename=\"dataset.h5\"):\n",
    "\n",
    "    with h5py.File(filename, \"w\") as f:\n",
    "        train_group = f.create_group(\"train\")\n",
    "        test_group = f.create_group(\"test\")\n",
    "        train_images = train_group.create_dataset(\"images\", (len(train_loader.dataset), 3, 224, 224), dtype=\"float32\")\n",
    "        train_labels = train_group.create_dataset(\"labels\", (len(train_loader.dataset),), dtype=\"int\")\n",
    "\n",
    "        idx = 0\n",
    "        for batch_images, batch_labels in train_loader:\n",
    "            batch_size = batch_images.shape[0]\n",
    "            train_images[idx:idx + batch_size] = batch_images.numpy()\n",
    "            train_labels[idx:idx + batch_size] = batch_labels.numpy()\n",
    "            idx += batch_size\n",
    "\n",
    "        test_images = test_group.create_dataset(\"images\", (len(test_loader.dataset), 3, 224, 224), dtype=\"float32\")\n",
    "\n",
    "        idx = 0\n",
    "        for batch_images in test_loader:\n",
    "            batch_size = len(batch_images[0])\n",
    "            test_images[idx:idx + batch_size] = batch_images[0].numpy()\n",
    "            idx += batch_size\n"
   ],
   "outputs": [],
   "execution_count": 4
  },
  {
   "cell_type": "code",
   "id": "12a2e5bdd5fc16ee",
   "metadata": {
    "ExecuteTime": {
     "end_time": "2025-04-11T14:53:28.181670Z",
     "start_time": "2025-04-11T14:53:28.169967Z"
    }
   },
   "source": [
    "def slice_dataloader(data, n):\n",
    "    is_shuffled = isinstance(data.sampler, torch.utils.data.RandomSampler)\n",
    "    if len(data.dataset[0]) > 1:\n",
    "        all_data = []\n",
    "        for images, labels in data:\n",
    "            for img, label in zip(images, labels):\n",
    "                all_data.append((img, label))\n",
    "                if len(all_data) >= n:\n",
    "                    break\n",
    "            if len(all_data) >= n:\n",
    "                break\n",
    "\n",
    "        subset_images = [item[0] for item in all_data]\n",
    "        subset_labels = [item[1] for item in all_data]\n",
    "        return DataLoader(\n",
    "            TensorDataset(torch.stack(subset_images), torch.tensor(subset_labels)),\n",
    "            shuffle=is_shuffled,\n",
    "            num_workers=data.num_workers,\n",
    "            pin_memory=data.pin_memory,\n",
    "            drop_last=True)\n",
    "    else:\n",
    "        all_data = []\n",
    "        for images in data:\n",
    "            for img in images:\n",
    "                all_data.append(img)\n",
    "                if len(all_data) >= n:\n",
    "                    break\n",
    "            if len(all_data) >= n:\n",
    "                break\n",
    "\n",
    "        subset_images = [item for item in all_data]\n",
    "        return DataLoader(\n",
    "            TensorDataset(torch.stack(subset_images)),\n",
    "            shuffle=is_shuffled,\n",
    "            num_workers=data.num_workers,\n",
    "            pin_memory=data.pin_memory,\n",
    "            drop_last=True)"
   ],
   "outputs": [],
   "execution_count": 5
  },
  {
   "metadata": {
    "ExecuteTime": {
     "end_time": "2025-04-11T16:40:09.547746Z",
     "start_time": "2025-04-11T16:40:08.886616Z"
    }
   },
   "cell_type": "code",
   "source": "test = slice_dataloader(test_loader, 100)",
   "id": "2ba86bdd3ac0f669",
   "outputs": [
    {
     "ename": "RuntimeError",
     "evalue": "stack expects each tensor to be equal size, but got [32, 3, 224, 224] at entry 0 and [8, 3, 224, 224] at entry 31",
     "output_type": "error",
     "traceback": [
      "\u001B[1;31m---------------------------------------------------------------------------\u001B[0m",
      "\u001B[1;31mRuntimeError\u001B[0m                              Traceback (most recent call last)",
      "Cell \u001B[1;32mIn[9], line 1\u001B[0m\n\u001B[1;32m----> 1\u001B[0m test \u001B[38;5;241m=\u001B[39m slice_dataloader(test_loader, \u001B[38;5;241m100\u001B[39m)\n",
      "Cell \u001B[1;32mIn[5], line 33\u001B[0m, in \u001B[0;36mslice_dataloader\u001B[1;34m(data, n)\u001B[0m\n\u001B[0;32m     29\u001B[0m         \u001B[38;5;28;01mbreak\u001B[39;00m\n\u001B[0;32m     31\u001B[0m subset_images \u001B[38;5;241m=\u001B[39m [item \u001B[38;5;28;01mfor\u001B[39;00m item \u001B[38;5;129;01min\u001B[39;00m all_data]\n\u001B[0;32m     32\u001B[0m \u001B[38;5;28;01mreturn\u001B[39;00m DataLoader(\n\u001B[1;32m---> 33\u001B[0m     TensorDataset(torch\u001B[38;5;241m.\u001B[39mstack(subset_images)),\n\u001B[0;32m     34\u001B[0m     shuffle\u001B[38;5;241m=\u001B[39mis_shuffled,\n\u001B[0;32m     35\u001B[0m     num_workers\u001B[38;5;241m=\u001B[39mdata\u001B[38;5;241m.\u001B[39mnum_workers,\n\u001B[0;32m     36\u001B[0m     pin_memory\u001B[38;5;241m=\u001B[39mdata\u001B[38;5;241m.\u001B[39mpin_memory,\n\u001B[0;32m     37\u001B[0m     drop_last\u001B[38;5;241m=\u001B[39m\u001B[38;5;28;01mTrue\u001B[39;00m)\n",
      "\u001B[1;31mRuntimeError\u001B[0m: stack expects each tensor to be equal size, but got [32, 3, 224, 224] at entry 0 and [8, 3, 224, 224] at entry 31"
     ]
    }
   ],
   "execution_count": 9
  },
  {
   "cell_type": "code",
   "id": "223e21d55369639c",
   "metadata": {
    "ExecuteTime": {
     "end_time": "2025-04-11T14:34:23.912627Z",
     "start_time": "2025-04-11T14:34:13.875001Z"
    }
   },
   "source": [
    "train = slice_dataloader(train_loader, 1000)\n",
    "test = slice_dataloader(test_loader, 1000)\n",
    "save_data(train, test, \"small_dataset.h5\")"
   ],
   "outputs": [
    {
     "ename": "RuntimeError",
     "evalue": "stack expects each tensor to be equal size, but got [32, 3, 224, 224] at entry 0 and [8, 3, 224, 224] at entry 31",
     "output_type": "error",
     "traceback": [
      "\u001B[1;31m---------------------------------------------------------------------------\u001B[0m",
      "\u001B[1;31mRuntimeError\u001B[0m                              Traceback (most recent call last)",
      "Cell \u001B[1;32mIn[12], line 2\u001B[0m\n\u001B[0;32m      1\u001B[0m train \u001B[38;5;241m=\u001B[39m slice_dataloader(train_loader, \u001B[38;5;241m1000\u001B[39m)\n\u001B[1;32m----> 2\u001B[0m test \u001B[38;5;241m=\u001B[39m slice_dataloader(test_loader, \u001B[38;5;241m1000\u001B[39m)\n\u001B[0;32m      3\u001B[0m save_data(train, test, \u001B[38;5;124m\"\u001B[39m\u001B[38;5;124msmall_dataset.h5\u001B[39m\u001B[38;5;124m\"\u001B[39m)\n",
      "Cell \u001B[1;32mIn[9], line 32\u001B[0m, in \u001B[0;36mslice_dataloader\u001B[1;34m(data, n)\u001B[0m\n\u001B[0;32m     28\u001B[0m         \u001B[38;5;28;01mbreak\u001B[39;00m\n\u001B[0;32m     30\u001B[0m subset_images \u001B[38;5;241m=\u001B[39m [item \u001B[38;5;28;01mfor\u001B[39;00m item \u001B[38;5;129;01min\u001B[39;00m all_data]\n\u001B[0;32m     31\u001B[0m \u001B[38;5;28;01mreturn\u001B[39;00m DataLoader(\n\u001B[1;32m---> 32\u001B[0m     TensorDataset(torch\u001B[38;5;241m.\u001B[39mstack(subset_images)),\n\u001B[0;32m     33\u001B[0m     shuffle\u001B[38;5;241m=\u001B[39mis_shuffled,\n\u001B[0;32m     34\u001B[0m     num_workers\u001B[38;5;241m=\u001B[39mdata\u001B[38;5;241m.\u001B[39mnum_workers,\n\u001B[0;32m     35\u001B[0m     pin_memory\u001B[38;5;241m=\u001B[39mdata\u001B[38;5;241m.\u001B[39mpin_memory)\n",
      "\u001B[1;31mRuntimeError\u001B[0m: stack expects each tensor to be equal size, but got [32, 3, 224, 224] at entry 0 and [8, 3, 224, 224] at entry 31"
     ]
    }
   ],
   "execution_count": 12
  },
  {
   "cell_type": "code",
   "execution_count": 6,
   "id": "1ea08235d66f7c57",
   "metadata": {
    "ExecuteTime": {
     "end_time": "2025-04-09T10:16:26.600775Z",
     "start_time": "2025-04-09T10:16:26.594585Z"
    }
   },
   "outputs": [],
   "source": [
    "# # Если что-то надо добавить\n",
    "# def update_data(new_images):\n",
    "#     with h5py.File(\"dataset.h5\", \"a\") as f:  # \"a\" = append (добавление)\n",
    "#         f[\"train/images\"].resize((f[\"train/images\"].shape[0] + new_images.shape[0]), axis=0)\n",
    "#         f[\"train/images\"][-new_images.shape[0]:] = new_images"
   ]
  },
  {
   "cell_type": "code",
   "id": "a12afa43629ec03b",
   "metadata": {
    "ExecuteTime": {
     "end_time": "2025-04-11T19:51:57.274512Z",
     "start_time": "2025-04-11T19:51:53.747099Z"
    }
   },
   "source": [
    "size = 1000\n",
    "with h5py.File(\"dataset.h5\", \"r\") as f:\n",
    "    train_images = torch.tensor(f[\"train/images\"][:size], dtype=torch.float32)\n",
    "    train_labels = torch.tensor(f[\"train/labels\"][:size], dtype=torch.int)\n",
    "    test_images = torch.tensor(f[\"test/images\"][:size], dtype=torch.float32)\n",
    "\n",
    "train_loader = DataLoader(TensorDataset(train_images, train_labels), batch_size=32, shuffle=True, )\n",
    "test_loader = DataLoader(TensorDataset(test_images), batch_size=32, shuffle=False)"
   ],
   "outputs": [],
   "execution_count": 2
  },
  {
   "cell_type": "code",
   "execution_count": null,
   "id": "c7e1a96fb4d1ef5c",
   "metadata": {
    "ExecuteTime": {
     "start_time": "2025-04-09T10:17:07.419851Z"
    }
   },
   "outputs": [],
   "source": [
    "img, label = next(iter(train_loader))\n",
    "img = img[0]\n",
    "\n",
    "img = img.permute(1, 2, 0).сpu().numpy()\n",
    "img = img * 0.5 + 0.5\n",
    "\n",
    "plt.imshow(img)\n",
    "plt.axis(\"off\")\n",
    "plt.pause(0.001)\n",
    "plt.show()"
   ]
  },
  {
   "cell_type": "code",
   "execution_count": null,
   "id": "d4dcea3eea88d903",
   "metadata": {},
   "outputs": [],
   "source": [
    "img, label = next(iter(train_loader))\n",
    "img = img[0]  # Берём первое изображение из батча\n",
    "\n",
    "# Разнормализация (еслиЫ было transforms.Normalize(mean=[0.5], std=[0.5]))\n",
    "img = img.permute(1, 2, 0).cpu().numpy()\n",
    "img = ((img * 0.5 + 0.5)*255).astype(np.uint8)\n",
    "\n",
    "image = Image.fromarray(img)\n",
    "image.show()"
   ]
  },
  {
   "cell_type": "code",
   "execution_count": null,
   "id": "ea2bf635c5062955",
   "metadata": {
    "ExecuteTime": {
     "end_time": "2025-04-07T09:06:51.055529800Z",
     "start_time": "2025-04-07T08:53:17.437162Z"
    }
   },
   "outputs": [],
   "source": [
    "def show_image(loader):\n",
    "    img, label = loader.dataset[0]\n",
    "    img = img.numpy().transpose((1, 2, 0))\n",
    "    img = img * 0.5 + 0.5\n",
    "    plt.imshow(img)\n",
    "    plt.title(loader.dataset.classes[label])\n",
    "    plt.show()\n",
    "\n",
    "\n",
    "show_image(train_loader)"
   ]
  },
  {
   "cell_type": "code",
   "execution_count": null,
   "id": "6cbed6518c00d7f1",
   "metadata": {},
   "outputs": [],
   "source": [
    "device = torch.device(\"cuda\" if torch.cuda.is_available() else \"cpu\")\n",
    "\n",
    "conv1_w = torch.randn((16, 3, 3, 3), requires_grad=True, device=device)  # 16 фильтров 3x3\n",
    "conv2_w = torch.randn((32, 16, 3, 3), requires_grad=True, device=device) # 32 фильтра 3x3\n",
    "fc1_w = torch.randn((32 * 8 * 8, 128), requires_grad=True, device=device) # Полносвязный слой\n",
    "fc2_w = torch.randn((128, 10), requires_grad=True, device=device) # Выходной слой\n",
    "\n",
    "params = [conv1_w, conv2_w, fc1_w, fc2_w]\n",
    "optimizer = torch.optim.Adam(params, lr=0.001)\n",
    "\n",
    "num_epochs = 10\n",
    "for epoch in range(num_epochs):\n",
    "    correct, total, running_loss = 0, 0, 0.0\n",
    "\n",
    "    for images, labels in train_loader:\n",
    "        images, labels = images.to(device), labels.to(device)\n",
    "\n",
    "        # Forward pass\n",
    "        x = F.conv2d(images, conv1_w, stride=1, padding=1)\n",
    "        x = F.relu(x)\n",
    "        x = F.max_pool2d(x, 2, 2)\n",
    "\n",
    "        x = F.conv2d(x, conv2_w, stride=1, padding=1)\n",
    "        x = F.relu(x)\n",
    "        x = F.max_pool2d(x, 2, 2)\n",
    "\n",
    "        x = x.view(-1, 32 * 8 * 8)\n",
    "        x = F.relu(x @ fc1_w)\n",
    "        outputs = x @ fc2_w\n",
    "\n",
    "        loss = F.cross_entropy(outputs, labels)\n",
    "        optimizer.zero_grad()\n",
    "        loss.backward()\n",
    "        optimizer.step()\n",
    "\n",
    "        # Accuracy\n",
    "        _, predicted = torch.max(outputs, 1)\n",
    "        total += labels.size(0)\n",
    "        correct += (predicted == labels).sum().item()\n",
    "        running_loss += loss.item()\n",
    "\n",
    "    train_acc = 100 * correct / total\n",
    "    avg_loss = running_loss / len(train_loader)\n",
    "    print(f\"Epoch [{epoch+1}/{num_epochs}], Loss: {avg_loss:.4f}, Train Accuracy: {train_acc:.2f}%\")\n",
    "\n",
    "    correct, total = 0, 0\n",
    "    with torch.no_grad():\n",
    "        for images, labels in test_loader:\n",
    "            images, labels = images.to(device), labels.to(device)\n",
    "\n",
    "            # Forward pass\n",
    "            x = F.conv2d(images, conv1_w, stride=1, padding=1)\n",
    "            x = F.relu(x)\n",
    "            x = F.max_pool2d(x, 2, 2)\n",
    "\n",
    "            x = F.conv2d(x, conv2_w, stride=1, padding=1)\n",
    "            x = F.relu(x)\n",
    "            x = F.max_pool2d(x, 2, 2)\n",
    "\n",
    "            x = x.view(-1, 32 * 8 * 8)\n",
    "            x = F.relu(x @ fc1_w)\n",
    "            outputs = x @ fc2_w\n",
    "\n",
    "            # Accuracy\n",
    "            _, predicted = torch.max(outputs, 1)\n",
    "            total += labels.size(0)\n",
    "            correct += (predicted == labels).sum().item()\n",
    "\n",
    "    test_acc = 100 * correct / total\n",
    "    print(f\"Test Accuracy: {test_acc:.2f}%\\n\")"
   ]
  }
 ],
 "metadata": {
  "kernelspec": {
   "display_name": "Python 3 (ipykernel)",
   "language": "python",
   "name": "python3"
  },
  "language_info": {
   "codemirror_mode": {
    "name": "ipython",
    "version": 2
   },
   "file_extension": ".py",
   "mimetype": "text/x-python",
   "name": "python",
   "nbconvert_exporter": "python",
   "pygments_lexer": "ipython2",
   "version": "2.7.6"
  }
 },
 "nbformat": 4,
 "nbformat_minor": 5
}
